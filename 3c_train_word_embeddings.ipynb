{
 "cells": [
  {
   "cell_type": "code",
   "execution_count": null,
   "id": "african-terminal",
   "metadata": {},
   "outputs": [],
   "source": [
    "import gensim\n",
    "from gensim.models import Word2Vec\n",
    "from gensim.models import KeyedVectors\n",
    "from gensim.test.utils import datapath\n",
    "from gensim.models.word2vec import LineSentence\n",
    "\n",
    "from datetime import datetime\n",
    "import pandas as pd\n",
    "import sqlite3\n",
    "\n",
    "from params import tokenized_sents_file, embedding_results_file, chosen_wv_model, wvdf_file, binary_wv_file"
   ]
  },
  {
   "cell_type": "markdown",
   "id": "stone-industry",
   "metadata": {},
   "source": [
    "## Setup"
   ]
  },
  {
   "cell_type": "code",
   "execution_count": null,
   "id": "important-strain",
   "metadata": {},
   "outputs": [],
   "source": [
    "model_path=\"./models/\""
   ]
  },
  {
   "cell_type": "markdown",
   "id": "regulated-insurance",
   "metadata": {},
   "source": [
    "## Train and test embedding models"
   ]
  },
  {
   "cell_type": "code",
   "execution_count": null,
   "id": "under-mistress",
   "metadata": {},
   "outputs": [],
   "source": [
    "# Also: CBOW, negative sampling (with negative=5)\n",
    "window_size = [5,7,10,15,25,50]\n",
    "vector_size = [200,250,300]"
   ]
  },
  {
   "cell_type": "code",
   "execution_count": null,
   "id": "radio-crowd",
   "metadata": {},
   "outputs": [],
   "source": [
    "r_window = []\n",
    "r_vector = []\n",
    "r_google = []\n",
    "r_wordsim = []\n",
    "\n",
    "for window in window_size:\n",
    "    for vector in vector_size:\n",
    "        name = f\"gensim_model_window{window}_vector{vector}\"\n",
    "        print(f\"Starting with {name} at {datetime.now().strftime('%Y-%m-%d %H:%M:%S')}\")\n",
    "        model = Word2Vec(corpus_file=tokenized_sents_file, vector_size=vector, window=window, epochs=10, min_count=15)\n",
    "\n",
    "        google_test = model.wv.evaluate_word_analogies(datapath('questions-words.txt'))\n",
    "        print(google_test[0])\n",
    "        similarities = model.wv.evaluate_word_pairs(datapath('wordsim353.tsv'))\n",
    "        print(similarities)\n",
    "        print()\n",
    "        print(\"-\"*80)\n",
    "        \n",
    "        r_window.append(window)\n",
    "        r_vector.append(vector)\n",
    "        r_google.append(google_test[0])\n",
    "        r_wordsim.append(similarities)\n",
    "\n",
    "        filename=f\"{model_path}{name}\"\n",
    "        model.save(filename)\n",
    "    \n",
    "print(f\"Finished at {datetime.now().strftime('%Y-%m-%d %H:%M:%S')}\")"
   ]
  },
  {
   "cell_type": "code",
   "execution_count": null,
   "id": "chemical-desert",
   "metadata": {},
   "outputs": [],
   "source": [
    "results = pd.DataFrame(data={'Window': r_window,'Vector': r_vector,\n",
    "                'Google': r_google, 'Wordsim': r_wordsim})\n",
    "\n",
    "results['Sp_corr'] = [i[1][0] for i in results.Wordsim.tolist()]\n",
    "results.to_csv(embedding_results_file, index=False)"
   ]
  },
  {
   "cell_type": "code",
   "execution_count": null,
   "id": "polished-crawford",
   "metadata": {},
   "outputs": [],
   "source": [
    "results.sort_values('Sp_corr', ascending=False)\n",
    "# Wordsim353 better than Google results according to:\n",
    "# https://radimrehurek.com/gensim/auto_examples/tutorials/run_word2vec.html#evaluating"
   ]
  },
  {
   "cell_type": "markdown",
   "id": "retained-palace",
   "metadata": {},
   "source": [
    "## Save chosen model in matrix format\n",
    "\n",
    "For the use with CMD in R"
   ]
  },
  {
   "cell_type": "code",
   "execution_count": null,
   "id": "capital-diving",
   "metadata": {},
   "outputs": [],
   "source": [
    "wv = KeyedVectors.load(chosen_wv_model).wv"
   ]
  },
  {
   "cell_type": "code",
   "execution_count": null,
   "id": "agreed-corps",
   "metadata": {},
   "outputs": [],
   "source": [
    "wvdf = pd.DataFrame(wv.vectors, index=wv.key_to_index)\n",
    "wvdf.sort_values(0, ascending=False).head()"
   ]
  },
  {
   "cell_type": "code",
   "execution_count": null,
   "id": "plain-parking",
   "metadata": {},
   "outputs": [],
   "source": [
    "wvdf.to_csv(wvdf_file)"
   ]
  },
  {
   "cell_type": "code",
   "execution_count": null,
   "id": "designing-coupon",
   "metadata": {},
   "outputs": [],
   "source": [
    "# Used to read the model into R for word2vec library\n",
    "wv.save_word2vec_format(binary_wv_file, binary=True)"
   ]
  },
  {
   "cell_type": "markdown",
   "id": "public-grocery",
   "metadata": {},
   "source": [
    "## Inspect model"
   ]
  },
  {
   "cell_type": "code",
   "execution_count": null,
   "id": "boolean-metropolitan",
   "metadata": {},
   "outputs": [],
   "source": [
    "wv.most_similar(positive=[\"metoo\", \"sexism\", \"sexist\", \"sexual_harassment\", \"misogyny\", \"patriarchy\",\n",
    "                         \"sexualization\", \"sjws\", \"rape_culture\", \"toxic_masculinity\", \"harassing\"], topn=25)"
   ]
  },
  {
   "cell_type": "code",
   "execution_count": null,
   "id": "separate-stations",
   "metadata": {},
   "outputs": [],
   "source": [
    "wv.most_similar(positive=[\"blm\", \"racism\",\"racist\", \"racists\", \"african_americans\",\n",
    "                         \"racial\", \"segregation\", \"systemic_racism\", \"police_brutality\", \"white_supremacy\",\n",
    "                         \"institutional_racism\", \"race_relations\", \"bigoted\"], topn=25)"
   ]
  },
  {
   "cell_type": "code",
   "execution_count": null,
   "id": "twelve-oxford",
   "metadata": {},
   "outputs": [],
   "source": [
    "wv.most_similar(\"discrimination\", topn=25)"
   ]
  }
 ],
 "metadata": {
  "kernelspec": {
   "display_name": "Python 3",
   "language": "python",
   "name": "python3"
  },
  "language_info": {
   "codemirror_mode": {
    "name": "ipython",
    "version": 3
   },
   "file_extension": ".py",
   "mimetype": "text/x-python",
   "name": "python",
   "nbconvert_exporter": "python",
   "pygments_lexer": "ipython3",
   "version": "3.9.1"
  }
 },
 "nbformat": 4,
 "nbformat_minor": 5
}
