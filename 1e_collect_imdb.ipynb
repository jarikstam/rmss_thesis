{
 "cells": [
  {
   "cell_type": "code",
   "execution_count": null,
   "id": "colored-twins",
   "metadata": {},
   "outputs": [],
   "source": [
    "import requests\n",
    "from lxml.html import parse, fromstring\n",
    "import pandas as pd"
   ]
  },
  {
   "cell_type": "code",
   "execution_count": null,
   "id": "egyptian-elephant",
   "metadata": {},
   "outputs": [],
   "source": [
    "def get_ballon_shortlist(url):\n",
    "    \"\"\"\n",
    "    Get the ballon d'or shortlist from a wikipedia url\n",
    "    Due to inconsistencies in the wikipedia tables this returns both players and their clubs\n",
    "    :param url: a url to a wikipedia page for a year of the ballon d'or\n",
    "    :return: a list of players and their clubs\n",
    "    \"\"\"\n",
    "    r = requests.get(url)\n",
    "    tree = fromstring(r.text)\n",
    "    table = tree.xpath('//*[@id=\"mw-content-text\"]/div[1]/table[2]/tbody/tr/td/a')\n",
    "    rows = [e.text for e in table]\n",
    "    return rows"
   ]
  },
  {
   "cell_type": "code",
   "execution_count": null,
   "id": "appropriate-cruise",
   "metadata": {},
   "outputs": [],
   "source": [
    "racism_keywords = [\n",
    "    \"racism\",\n",
    "    \"african american\",\n",
    "    \"race relations\",\n",
    "    \"racist\",\n",
    "    \"racial slur\",\n",
    "]"
   ]
  }
 ],
 "metadata": {
  "kernelspec": {
   "display_name": "Python 3",
   "language": "python",
   "name": "python3"
  },
  "language_info": {
   "codemirror_mode": {
    "name": "ipython",
    "version": 3
   },
   "file_extension": ".py",
   "mimetype": "text/x-python",
   "name": "python",
   "nbconvert_exporter": "python",
   "pygments_lexer": "ipython3",
   "version": "3.9.1"
  }
 },
 "nbformat": 4,
 "nbformat_minor": 5
}
