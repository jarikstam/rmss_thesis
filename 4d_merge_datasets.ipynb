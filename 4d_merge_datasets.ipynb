{
 "cells": [
  {
   "cell_type": "code",
   "execution_count": null,
   "id": "productive-stamp",
   "metadata": {},
   "outputs": [],
   "source": [
    "import pandas as pd\n",
    "\n",
    "from params import comments_file, tokenized_comments_text_file, count_file, submissions_tmdb_file, politics_comments_file\n",
    "from params import analysis_dataset"
   ]
  },
  {
   "cell_type": "code",
   "execution_count": null,
   "id": "faced-formation",
   "metadata": {},
   "outputs": [],
   "source": [
    "comments = pd.read_csv(comments_file, sep=';')"
   ]
  },
  {
   "cell_type": "code",
   "execution_count": null,
   "id": "minus-accused",
   "metadata": {},
   "outputs": [],
   "source": [
    "comments.drop(columns='body', inplace=True)"
   ]
  },
  {
   "cell_type": "code",
   "execution_count": null,
   "id": "unavailable-father",
   "metadata": {},
   "outputs": [],
   "source": [
    "with open(tokenized_comments_text_file, 'r') as f:\n",
    "    comments['tokenized_body'] = f.read().splitlines()"
   ]
  },
  {
   "cell_type": "code",
   "execution_count": null,
   "id": "fancy-laundry",
   "metadata": {},
   "outputs": [],
   "source": [
    "comments['Date'] = pd.to_datetime(comments['created'], unit='s').dt.date"
   ]
  },
  {
   "cell_type": "code",
   "execution_count": null,
   "id": "reduced-flashing",
   "metadata": {},
   "outputs": [],
   "source": [
    "twitter = pd.read_csv(count_file)\n",
    "twitter = twitter.convert_dtypes()"
   ]
  },
  {
   "cell_type": "code",
   "execution_count": null,
   "id": "identical-transfer",
   "metadata": {},
   "outputs": [],
   "source": [
    "twitter['Date'] = pd.to_datetime(twitter['Date']).dt.date"
   ]
  },
  {
   "cell_type": "code",
   "execution_count": null,
   "id": "sonic-minnesota",
   "metadata": {},
   "outputs": [],
   "source": [
    "comments = pd.merge(comments, twitter, on=\"Date\", how=\"left\")"
   ]
  },
  {
   "cell_type": "code",
   "execution_count": null,
   "id": "large-tissue",
   "metadata": {},
   "outputs": [],
   "source": [
    "tmdb = pd.read_csv(submissions_tmdb_file, sep=\";\")"
   ]
  },
  {
   "cell_type": "code",
   "execution_count": null,
   "id": "biblical-qualification",
   "metadata": {},
   "outputs": [],
   "source": [
    "tmdb_min = tmdb[['submission_id','film_title','sexism_keywords','racism_keywords']]"
   ]
  },
  {
   "cell_type": "code",
   "execution_count": null,
   "id": "explicit-central",
   "metadata": {},
   "outputs": [],
   "source": [
    "comments = pd.merge(comments, tmdb_min, on=\"submission_id\", how=\"left\")"
   ]
  },
  {
   "cell_type": "code",
   "execution_count": null,
   "id": "polar-glucose",
   "metadata": {},
   "outputs": [],
   "source": [
    "pols = pd.read_csv(politics_comments_file)"
   ]
  },
  {
   "cell_type": "code",
   "execution_count": null,
   "id": "mineral-client",
   "metadata": {},
   "outputs": [],
   "source": [
    "pols = pols.convert_dtypes()\n",
    "comments = comments.convert_dtypes()"
   ]
  },
  {
   "cell_type": "code",
   "execution_count": null,
   "id": "referenced-personality",
   "metadata": {},
   "outputs": [],
   "source": [
    "comments = comments.merge(pols, how=\"left\", on=\"author\")"
   ]
  },
  {
   "cell_type": "code",
   "execution_count": null,
   "id": "distinct-attack",
   "metadata": {},
   "outputs": [],
   "source": [
    "comments.head()"
   ]
  },
  {
   "cell_type": "code",
   "execution_count": null,
   "id": "accessible-rugby",
   "metadata": {},
   "outputs": [],
   "source": [
    "comments.to_csv(analysis_dataset, index=False)"
   ]
  }
 ],
 "metadata": {
  "kernelspec": {
   "display_name": "Python 3",
   "language": "python",
   "name": "python3"
  },
  "language_info": {
   "codemirror_mode": {
    "name": "ipython",
    "version": 3
   },
   "file_extension": ".py",
   "mimetype": "text/x-python",
   "name": "python",
   "nbconvert_exporter": "python",
   "pygments_lexer": "ipython3",
   "version": "3.9.1"
  }
 },
 "nbformat": 4,
 "nbformat_minor": 5
}
