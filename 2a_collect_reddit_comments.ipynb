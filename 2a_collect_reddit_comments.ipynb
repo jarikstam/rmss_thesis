{
 "cells": [
  {
   "cell_type": "markdown",
   "id": "controversial-victorian",
   "metadata": {},
   "source": [
    "# Collecting Reddit comments\n",
    "\n",
    "## Libraries"
   ]
  },
  {
   "cell_type": "code",
   "execution_count": null,
   "id": "welcome-sight",
   "metadata": {},
   "outputs": [],
   "source": [
    "from tqdm import tqdm\n",
    "from datetime import datetime\n",
    "import sqlite3\n",
    "import time\n",
    "\n",
    "import utils\n",
    "from params import sql_db"
   ]
  },
  {
   "cell_type": "markdown",
   "id": "dense-referral",
   "metadata": {},
   "source": [
    "## Setup"
   ]
  },
  {
   "cell_type": "code",
   "execution_count": null,
   "id": "complicated-billy",
   "metadata": {},
   "outputs": [],
   "source": [
    "# Define search parameters\n",
    "param_dict = {'size':1000,\n",
    "             }\n",
    "\n",
    "comment_keys = ('id', 'link_id', 'body', 'author', 'score', \"created_utc\")\n",
    "\n",
    "# Define comment_limit, the number of comments to be obtained\n",
    "comment_limit = 250000\n",
    "\n",
    "# Define location and name of SQL database, create a connection object\n",
    "conn = sqlite3.connect(sql_db)"
   ]
  },
  {
   "cell_type": "markdown",
   "id": "shared-dance",
   "metadata": {},
   "source": [
    "## Create SQL database"
   ]
  },
  {
   "cell_type": "code",
   "execution_count": null,
   "id": "electric-empty",
   "metadata": {},
   "outputs": [],
   "source": [
    "sql_create_comments_table = \"\"\"CREATE TABLE IF NOT EXISTS comments (\n",
    "                                comment_id text PRIMARY KEY,\n",
    "                                submission_id text,\n",
    "                                body text,\n",
    "                                author text,\n",
    "                                score integer,\n",
    "                                created integer,\n",
    "                                FOREIGN KEY (submission_id) REFERENCES submissions (submission_id)\n",
    "                            );\"\"\"\n",
    "\n",
    "with conn:\n",
    "    utils.interact_with_db(conn, sql_create_comments_table)"
   ]
  },
  {
   "cell_type": "markdown",
   "id": "institutional-violence",
   "metadata": {},
   "source": [
    "## Determine for which submissions I still need to collect comments"
   ]
  },
  {
   "cell_type": "code",
   "execution_count": null,
   "id": "cognitive-river",
   "metadata": {},
   "outputs": [],
   "source": [
    "# List submission IDs\n",
    "# Because I didn't download all the comments in one go, the difference_update allows me to continue where I left off.  \n",
    "\n",
    "with conn:\n",
    "    submission_ids = utils.get_submission_ids(conn, 'submissions')\n",
    "    sub_ids_comments = utils.get_submission_ids(conn, 'comments')\n",
    "\n",
    "# Update difference   \n",
    "submission_ids.difference_update(sub_ids_comments)\n",
    "print(f\"There are {len(submission_ids)} submissions for which no comments have been gathered\")"
   ]
  },
  {
   "cell_type": "code",
   "execution_count": null,
   "id": "ordered-celebration",
   "metadata": {},
   "outputs": [],
   "source": [
    "submission_ids = {'7jwxnd'}"
   ]
  },
  {
   "cell_type": "markdown",
   "id": "regulated-diagnosis",
   "metadata": {},
   "source": [
    "## Collect comments"
   ]
  },
  {
   "cell_type": "code",
   "execution_count": null,
   "id": "comprehensive-motel",
   "metadata": {},
   "outputs": [],
   "source": [
    "print(f\"Starting at {datetime.now()}\")\n",
    "comment_count = 0\n",
    "n_comment_attributes = len(comment_keys)\n",
    "\n",
    "with tqdm(total=comment_limit) as pbar:\n",
    "    for submission_id in submission_ids:\n",
    "        \n",
    "        if comment_count < comment_limit:\n",
    "            try:\n",
    "                param_dict['link_id'] = submission_id\n",
    "                #param_dict['before'] = int(time.time())\n",
    "                try:\n",
    "                    data = utils.get_pushshift_data(param_dict, 'https://api.pushshift.io/reddit/search/comment/?')\n",
    "                except:\n",
    "                    time.sleep(60)\n",
    "                    data = utils.get_pushshift_data(param_dict, 'https://api.pushshift.io/reddit/search/comment/?')\n",
    "                                \n",
    "                while len(data) > 0: \n",
    "\n",
    "                    # Collect comments\n",
    "                    comments_data = []\n",
    "                    for comment in data:\n",
    "                        try:\n",
    "                            comments_data.append(utils.collect_submission_data(comment, keys=comment_keys))\n",
    "                        except:\n",
    "                            continue\n",
    "                    #comments_data = [utils.collect_submission_data(comment, keys=comment_keys) for comment in data]\n",
    "\n",
    "                    for comment in comments_data:\n",
    "                            comment[1] = submission_id\n",
    "                            \n",
    "                    # Save the comments to the database\n",
    "                    with conn:\n",
    "                        n_comments = utils.add_rows(conn, 'comments', n_comment_attributes, comments_data)\n",
    "\n",
    "                    # Update counter and tqdm\n",
    "                    comment_count += n_comments\n",
    "                    pbar.update(n_comments)               \n",
    "                    \n",
    "                    param_dict['before'] = comments_data[-1][-1]\n",
    "                    \n",
    "                    try:\n",
    "                        data = utils.get_pushshift_data(param_dict, 'https://api.pushshift.io/reddit/search/comment/?')\n",
    "                    except:\n",
    "                        time.sleep(60)\n",
    "                        data = utils.get_pushshift_data(param_dict, 'https://api.pushshift.io/reddit/search/comment/?')\n",
    "\n",
    "            except:\n",
    "                \n",
    "                # Sometimes my internet cuts off for a few minutes, or some other error happens.\n",
    "                # This try/except statement allows for the loop to continue.\n",
    "                print(f\"Something went wrong at {datetime.now()} with submission {submission_id}\")\n",
    "                continue\n",
    "            \n",
    "            \n",
    "        else:\n",
    "            print(f\"Reached comment limit at {datetime.now()} with submission {submission_id}\")\n",
    "            print(f\"Collected {comment_count} comments\")\n",
    "            break\n",
    "        \n",
    "print(f\"Finished at {datetime.now()}\")"
   ]
  },
  {
   "cell_type": "code",
   "execution_count": null,
   "id": "serious-announcement",
   "metadata": {},
   "outputs": [],
   "source": [
    "utils.interact_with_db(conn, \"SELECT COUNT(*) FROM comments WHERE submission_id = '7jwxnd'\", \"cur.fetchone()\")"
   ]
  }
 ],
 "metadata": {
  "kernelspec": {
   "display_name": "Python 3",
   "language": "python",
   "name": "python3"
  },
  "language_info": {
   "codemirror_mode": {
    "name": "ipython",
    "version": 3
   },
   "file_extension": ".py",
   "mimetype": "text/x-python",
   "name": "python",
   "nbconvert_exporter": "python",
   "pygments_lexer": "ipython3",
   "version": "3.9.1"
  }
 },
 "nbformat": 4,
 "nbformat_minor": 5
}
