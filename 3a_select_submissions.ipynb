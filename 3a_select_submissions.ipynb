{
 "cells": [
  {
   "cell_type": "code",
   "execution_count": null,
   "id": "synthetic-oasis",
   "metadata": {},
   "outputs": [],
   "source": [
    "import sqlite3\n",
    "import pandas as pd\n",
    "from tqdm import tqdm\n",
    "from nltk import sent_tokenize\n",
    "import pickle\n",
    "import regex as re\n",
    "\n",
    "from gensim.models.word2vec import LineSentence\n",
    "from gensim.models.phrases import Phrases, ENGLISH_CONNECTOR_WORDS\n",
    "\n",
    "from time import perf_counter\n",
    "\n",
    "import utils\n",
    "from params import sql_db, comments_file, annotated_submissions_file"
   ]
  },
  {
   "cell_type": "markdown",
   "id": "hourly-capability",
   "metadata": {},
   "source": [
    "## Setup"
   ]
  },
  {
   "cell_type": "code",
   "execution_count": null,
   "id": "constitutional-porcelain",
   "metadata": {},
   "outputs": [],
   "source": [
    "# Define location and name of SQL database, create a connection object\n",
    "conn = sqlite3.connect(sql_db)\n",
    "\n",
    "# Converting the submissions to manually annotate them\n",
    "submissions_file = './data/submissions.csv'"
   ]
  },
  {
   "cell_type": "markdown",
   "id": "matched-hamilton",
   "metadata": {},
   "source": [
    "## Manually filter submissions\n",
    "- I only select submissions with at least 25 comments (according to the submission metadata, not the actual amount of comments I have in the database.\n",
    "- Based on the submission titles, I select submissions which are about a single movie and not 'meta-comments' (e.g., \"why isn't there an official discussion for X?\")"
   ]
  },
  {
   "cell_type": "code",
   "execution_count": null,
   "id": "spectacular-translation",
   "metadata": {},
   "outputs": [],
   "source": [
    "submissions = pd.read_sql('SELECT * FROM submissions', conn)\n",
    "\n",
    "print(len(submissions))"
   ]
  },
  {
   "cell_type": "code",
   "execution_count": null,
   "id": "experienced-reducing",
   "metadata": {},
   "outputs": [],
   "source": [
    "submissions.to_csv(submissions_file, index=False)"
   ]
  },
  {
   "cell_type": "code",
   "execution_count": null,
   "id": "cubic-context",
   "metadata": {},
   "outputs": [],
   "source": [
    "# I created a new column which is empty for official discussions (num_comments >= 25 only)\n",
    "all_submissions = pd.read_csv(annotated_submissions_file, sep=';')\n",
    "all_submissions.dropna(subset=['created'], inplace=True)\n",
    "\n",
    "# if editing film titles, also do\n",
    "#all_submissions.drop(columns=\"film_title\", inplace=True)"
   ]
  },
  {
   "cell_type": "code",
   "execution_count": null,
   "id": "upper-briefing",
   "metadata": {},
   "outputs": [],
   "source": [
    "all_submissions = all_submissions.astype({'score': 'int', 'num_comments': 'int', 'created':'int'})\n",
    "all_submissions.loc[:,'date'] = pd.to_datetime(all_submissions.loc[:,'created'], unit='s')"
   ]
  },
  {
   "cell_type": "code",
   "execution_count": null,
   "id": "administrative-partnership",
   "metadata": {},
   "outputs": [],
   "source": [
    "submissions = all_submissions.loc[(all_submissions['num_comments'] >= 25) & (pd.isna(all_submissions['discussion_thread']))]"
   ]
  },
  {
   "cell_type": "code",
   "execution_count": null,
   "id": "cardiac-vault",
   "metadata": {},
   "outputs": [],
   "source": [
    "print(len(submissions))"
   ]
  },
  {
   "cell_type": "code",
   "execution_count": null,
   "id": "divine-speaking",
   "metadata": {},
   "outputs": [],
   "source": [
    "titles = submissions.title.tolist()\n",
    "\n",
    "to_remove = [\n",
    "    \"[Spoilers]\",\n",
    "    \"[SPOILERS]\",\n",
    "    \"[SPOILERS}\",\n",
    "    \"(SPOILERS)\",\n",
    "    \"[SPOLERS]\",\n",
    "    \"[spoilers]\",\n",
    "    \n",
    "    \"(un-Official Discussion)\",\n",
    "    \"Un-Official Discussion :\",\n",
    "    \"Un-Official Discussion:\",\n",
    "    \"Psuedo-Official Discussion:\",\n",
    "    \n",
    "    \"discussion (Spoilers inside)\",\n",
    "    \"Official International Release Discussion:\",\n",
    "    \"Official International Discussion -\",\n",
    "    \"Official International Release Discussion Thread -\",\n",
    "    \n",
    "    \"- Official Discussion Thread\",\n",
    "    \"Official Discussion Thread:\",\n",
    "    \n",
    "    \"Discussion Thread.\",\n",
    "    \"Official Discussion:\",\n",
    "    \"Official Discussion -\",\n",
    "    \"Official Discussion-\",\n",
    "    \"Discussion Thread\",\n",
    "    \n",
    "    \"IMAX re-release\",\n",
    "    \"(International Thread)\",\n",
    "    \", Netflix\",\n",
    "    \"(UK release)\",\n",
    "    \"(US Release)\",\n",
    "    \"(International Release)\",\n",
    "    \"(UK Release)\",\n",
    "    \"(US Thread)\",\n",
    "    \"(Thread Vol. 2)\",\n",
    "    \"Official Discussion #2 -\",\n",
    "    \"Movie Discussion\",\n",
    "    \n",
    "    \"Small Axe:\",\n",
    "    \"4K Restoration\",\n",
    "    \"The Saturday Official\",\n",
    "    \"Official Late-Comer Megathread -\",\n",
    "    \"(Roadshow 70mm Cut)\",\n",
    "    \"(Theatrical Cut)\",\n",
    "    \"The Pre-Official\",\n",
    "    \"discussion thread\",\n",
    "    \"OFFICIAL DISCUSSION\",\n",
    "    \"Official Discussion\",\n",
    "    \"[Serious Replies Only]\",\n",
    "    \"(Early Release)\",\n",
    "    \"(Spoilers inside)\",\n",
    "    \"(Wide Release)\",\n",
    "    \"(Netflix Release)\",\n",
    "    \"(theater release)\",\n",
    "    \"(2nd Thread)\",\n",
    "    \"SPOILERS\"\n",
    "]\n",
    "\n",
    "remove_other = [\n",
    "    \"-Official 48 fps Discussion thread.\",\n",
    "    r\" \\.\",\n",
    "    r\"\\d+/\\d+  -\",\n",
    "    \"31 Days of Halloween -\",\n",
    "    r\"(July|August) \\d{1,2}\",\n",
    "    '\"',\n",
    "    \"'\",\n",
    "    \"Official\",\n",
    "    r\"- \\d+/\\d+\",\n",
    "    \"\\(Un\\)\"\n",
    "]\n",
    "\n",
    "replace_other = [\n",
    "    # typos\n",
    "    [\"Godzilla: King of the Monstars\", \"Godzilla: King of the Monsters\"],\n",
    "    [\"Thor: Rangarok\", \"Thor: Ragnarok\"],\n",
    "    # for tmdb matching\n",
    "    [\"The Hunger Games: Mockingjay - Part II\", \"The Hunger Games: Mockingjay - Part 2\"],\n",
    "    [\"The Hunger Games: Mockingjay Part 2\", \"The Hunger Games: Mockingjay - Part 2\"],\n",
    "    [\"The Hunger Games: Mockingjay Part 1\", \"The Hunger Games: Mockingjay - Part 1\"],\n",
    "    [\"The Edge of Tomorrow\", \"Edge of Tomorrow\"],\n",
    "    [\"T2 Trainspotting: Judgement Day\", \"T2 Trainspotting\"],\n",
    "    [\"Jack Reacher: Never Stop Never Stopping\", \"Jack Reacher: Never Go Back\"],\n",
    "    [\"The Girl in the Spiders Web: A New Dragon Tattoo Story\", \"The Girl in the Spiders Web\"],\n",
    "    [\"T2 Trainspotting: Judgement Day\", \"T2 Trainspotting\"],\n",
    "    [\"T2 Trainspotting: Battle Across Time\", \"T2 Trainspotting\"],\n",
    "    [\"John Wick 2\", \"John Wick: Chapter 2\"],\n",
    "    [\"Oceans 8\", \"Ocean's Eight\"],\n",
    "    [\"Your Name\", \"君の名は。\"],\n",
    "    [\"Sailor Moon Eternal\", \"劇場版 美少女戦士セーラームーンEternal 前編\"],\n",
    "    [\"The Christmas Chronicles 2\", \"The Christmas Chronicles: Part Two\"],\n",
    "    [\"The Croods 2\", \"The Croods: A New Age\"],\n",
    "    [\"El Camino\", \"El Camino: A Breaking Bad Movie\"]\n",
    "    \n",
    "]\n",
    "\n",
    "film_titles = []\n",
    "for title in titles:\n",
    "    for j in to_remove:\n",
    "        title = title.replace(j, \"\")\n",
    "        \n",
    "    for j in remove_other:\n",
    "        title = re.sub(j, \"\", title)\n",
    "        \n",
    "    for i, j in replace_other:\n",
    "        if i == title.strip():\n",
    "            title = title.replace(i, j)\n",
    "        \n",
    "    title = title.strip()\n",
    "        \n",
    "    title = title.strip()    \n",
    "    film_titles.append(title)"
   ]
  },
  {
   "cell_type": "code",
   "execution_count": null,
   "id": "wooden-marker",
   "metadata": {},
   "outputs": [],
   "source": [
    "for i in film_titles:\n",
    "    if re.search('君の名は。', i):\n",
    "        print(i)"
   ]
  },
  {
   "cell_type": "code",
   "execution_count": null,
   "id": "reduced-stamp",
   "metadata": {},
   "outputs": [],
   "source": [
    "submissions['film_title'] = film_titles"
   ]
  },
  {
   "cell_type": "code",
   "execution_count": null,
   "id": "authentic-underground",
   "metadata": {},
   "outputs": [],
   "source": [
    "submissions.loc[submissions.film_title.str.contains(\"Camino\")]"
   ]
  },
  {
   "cell_type": "code",
   "execution_count": null,
   "id": "prompt-computer",
   "metadata": {},
   "outputs": [],
   "source": [
    "df = pd.merge(all_submissions, submissions, how=\"outer\")"
   ]
  },
  {
   "cell_type": "code",
   "execution_count": null,
   "id": "olive-house",
   "metadata": {},
   "outputs": [],
   "source": [
    "df.to_csv(annotated_submissions_file, sep=';', index=False)"
   ]
  },
  {
   "cell_type": "markdown",
   "id": "wanted-chess",
   "metadata": {},
   "source": [
    "## Select matching comments"
   ]
  },
  {
   "cell_type": "code",
   "execution_count": null,
   "id": "conceptual-motor",
   "metadata": {},
   "outputs": [],
   "source": [
    "x = \"'\"+\"','\".join(submissions['submission_id'].tolist())+\"'\""
   ]
  },
  {
   "cell_type": "code",
   "execution_count": null,
   "id": "signal-broadway",
   "metadata": {},
   "outputs": [],
   "source": [
    "start = perf_counter()\n",
    "comments = pd.read_sql(f\"SELECT * FROM comments WHERE submission_id IN ({x})\", conn)\n",
    "print(len(comments))\n",
    "\n",
    "print(perf_counter()-start)"
   ]
  },
  {
   "cell_type": "code",
   "execution_count": null,
   "id": "behind-acrylic",
   "metadata": {},
   "outputs": [],
   "source": [
    "comments.to_csv(comments_file, sep=';', index=False)"
   ]
  },
  {
   "cell_type": "code",
   "execution_count": null,
   "id": "elegant-wilson",
   "metadata": {},
   "outputs": [],
   "source": [
    "comments = pd.read_csv(comments_file, sep=';')"
   ]
  },
  {
   "cell_type": "code",
   "execution_count": null,
   "id": "electric-stable",
   "metadata": {},
   "outputs": [],
   "source": [
    "comments.head()"
   ]
  }
 ],
 "metadata": {
  "kernelspec": {
   "display_name": "Python 3",
   "language": "python",
   "name": "python3"
  },
  "language_info": {
   "codemirror_mode": {
    "name": "ipython",
    "version": 3
   },
   "file_extension": ".py",
   "mimetype": "text/x-python",
   "name": "python",
   "nbconvert_exporter": "python",
   "pygments_lexer": "ipython3",
   "version": "3.9.1"
  }
 },
 "nbformat": 4,
 "nbformat_minor": 5
}
