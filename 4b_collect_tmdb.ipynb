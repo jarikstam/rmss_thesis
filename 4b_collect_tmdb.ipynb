{
 "cells": [
  {
   "cell_type": "code",
   "execution_count": null,
   "id": "colored-twins",
   "metadata": {},
   "outputs": [],
   "source": [
    "import requests\n",
    "from lxml.html import parse, fromstring\n",
    "import pandas as pd\n",
    "import regex as re\n",
    "from tqdm import tqdm\n",
    "from pprint import pprint\n",
    "from collections import Counter\n",
    "\n",
    "from twitter_keys import tmdb_key\n",
    "from params import annotated_submissions_file, submissions_tmdb_file"
   ]
  },
  {
   "cell_type": "code",
   "execution_count": null,
   "id": "equal-large",
   "metadata": {},
   "outputs": [],
   "source": [
    "tmdb_file = \"./data/tmdb.json\"\n",
    "tmdb_detailed_file = \"./data/tmdb_detailed.json\"\n",
    "\n",
    "racism_keywords_file = \"data/racism_keywords.txt\"\n",
    "sexism_keywords_file = \"data/sexism_keywords.txt\""
   ]
  },
  {
   "cell_type": "code",
   "execution_count": null,
   "id": "expressed-dealing",
   "metadata": {},
   "outputs": [],
   "source": [
    "pd.set_option('display.max_colwidth', 50)"
   ]
  },
  {
   "cell_type": "markdown",
   "id": "another-opera",
   "metadata": {},
   "source": [
    "## Match my films with tmdb entries"
   ]
  },
  {
   "cell_type": "code",
   "execution_count": null,
   "id": "starting-knight",
   "metadata": {},
   "outputs": [],
   "source": [
    "submissions = pd.read_csv(annotated_submissions_file, sep=\";\")\n",
    "submissions = submissions.loc[(submissions['num_comments'] >= 25) & (pd.isna(submissions['discussion_thread']))]\n",
    "\n",
    "titles = submissions['film_title'].tolist()"
   ]
  },
  {
   "cell_type": "code",
   "execution_count": null,
   "id": "rural-passing",
   "metadata": {},
   "outputs": [],
   "source": [
    "submissions.loc[submissions.title.str.contains(\"Tower\")]"
   ]
  },
  {
   "cell_type": "markdown",
   "id": "provincial-athens",
   "metadata": {},
   "source": [
    "### Find potential matches"
   ]
  },
  {
   "cell_type": "code",
   "execution_count": null,
   "id": "senior-technician",
   "metadata": {},
   "outputs": [],
   "source": [
    "query_results = dict()\n",
    "\n",
    "for i in tqdm(titles):\n",
    "    j = re.search(\"[\\(|\\[](\\d{4})[\\)|\\]]\", i)\n",
    "    k = re.sub(\"[\\(|\\[]\\d{4}[\\)|\\]]\", \"\", i)\n",
    "    \n",
    "    if j == None:\n",
    "        r = requests.get(f\"https://api.themoviedb.org/3/search/movie?api_key={tmdb_key}&query={k}\").json()\n",
    "    else:\n",
    "        r = requests.get(f\"https://api.themoviedb.org/3/search/movie?api_key={tmdb_key}&query={k}&year={j}\").json()\n",
    "    \n",
    "    query_results[i] = r"
   ]
  },
  {
   "cell_type": "code",
   "execution_count": null,
   "id": "optional-poker",
   "metadata": {},
   "outputs": [],
   "source": [
    "with open(tmdb_file, 'w') as outfile:\n",
    "    json.dump(query_results, outfile)"
   ]
  },
  {
   "cell_type": "code",
   "execution_count": null,
   "id": "original-carrier",
   "metadata": {},
   "outputs": [],
   "source": [
    "with open(tmdb_file, 'r') as infile:\n",
    "    query_results = json.load(infile)"
   ]
  },
  {
   "cell_type": "markdown",
   "id": "provincial-disorder",
   "metadata": {},
   "source": [
    "### Find single best match"
   ]
  },
  {
   "cell_type": "code",
   "execution_count": null,
   "id": "another-extra",
   "metadata": {},
   "outputs": [],
   "source": [
    "good_results = dict()\n",
    "for i, j in query_results.items():\n",
    "    # Print if there are no potential matches\n",
    "    if j['total_results'] == 0:\n",
    "        print(f\"No possible results for {i}\")\n",
    "        \n",
    "    # If the query only found a single result, I assume it's correct (manual inspection of titles found that it was)\n",
    "    elif j['total_results'] == 1:\n",
    "        good_results[i] = j['results'][0]\n",
    "        \n",
    "    # If the query found multiple results...\n",
    "    elif j['total_results'] > 1:\n",
    "        l = []\n",
    "        stripped_name = re.sub(\"[\\(|\\[]\\d{4}[\\)|\\]]\", \"\", i).replace(\"&amp;\", \"&\").lower().strip()\n",
    "        \n",
    "        # See if there are results in the correct date range with at least a few votes\n",
    "        for k in j['results']:\n",
    "            try:\n",
    "                if (pd.to_datetime(k['release_date']).year > 2008) & (k['vote_count'] > 10):\n",
    "                    l.append(k)\n",
    "            except:\n",
    "                pass\n",
    "            \n",
    "        # if not, see if there are results which an exact matching name\n",
    "        if len(l) == 0:\n",
    "            for k in j['results']:\n",
    "                if k['title'].lower().replace(\"'\", \"\").rstrip(\".\") == stripped_name:\n",
    "                    l.append(k)\n",
    "                    \n",
    "                # Manual exception for LOTR since it was outside of the date range\n",
    "                elif (i == \"Lord of the Rings: The Fellowship of the Ring\") & (k['vote_count'] > 10):\n",
    "                    l.append(k)\n",
    "                    \n",
    "        # if there are multiple results in the date range, see what the more popular films are\n",
    "        # Note I'm using 'if' over 'elif' because the previous step could find multiple matches\n",
    "        if len(l) > 1:\n",
    "            m = []\n",
    "            for k in l:\n",
    "                if (k['vote_count'] >= 70):\n",
    "                    m.append(k)\n",
    "            \n",
    "            # If there is only 1 more popular film, that's the one I'm assuming is correct\n",
    "            if len(m) == 1:\n",
    "                good_results[i] = m[0]\n",
    "                \n",
    "            # If there are multiple see if there's one with an exact name match\n",
    "            elif len(m) > 1:\n",
    "                o = []\n",
    "                for n in m:\n",
    "                    if (n['title'].lower().replace(\"'\", \"\").rstrip(\".\") == stripped_name):\n",
    "                        o.append(n)\n",
    "                        \n",
    "                if len(o) == 1:\n",
    "                    good_results[i] = o[0]\n",
    "                    \n",
    "                # If there is more than 1, select the most popular film out of those\n",
    "                elif len(o) > 1:\n",
    "                    q = 0\n",
    "                    most_likely = dict()\n",
    "                    for p in o:\n",
    "                        if p['vote_count'] > q:\n",
    "                            most_likely = p\n",
    "                            q = p['vote_count']\n",
    "                    good_results[i] = most_likely\n",
    "                    \n",
    "                # Print if there are no potential matches\n",
    "                else:\n",
    "                    print(i)\n",
    "                    for n in m:\n",
    "                        print(n['original_title']+\" \"+str(n['vote_count']))\n",
    "                    print()\n",
    "                    \n",
    "            # Print if there are no potential matches\n",
    "            else:\n",
    "                print(f\"Found 0 matches for {i}\")\n",
    "                    \n",
    "        elif len(l) == 1:\n",
    "            good_results[i] = l[0]\n",
    "        else:                           \n",
    "            print(f\"Found 0 matches for {i} within the date range\")"
   ]
  },
  {
   "cell_type": "code",
   "execution_count": null,
   "id": "nuclear-kernel",
   "metadata": {},
   "outputs": [],
   "source": [
    "x=0\n",
    "for i, j in good_results.items():\n",
    "    print(i)\n",
    "    pprint(j)\n",
    "    print()\n",
    "    x+=1\n",
    "    if x ==1:\n",
    "        break"
   ]
  },
  {
   "cell_type": "markdown",
   "id": "anonymous-orleans",
   "metadata": {},
   "source": [
    "## Find detailed movie information"
   ]
  },
  {
   "cell_type": "code",
   "execution_count": null,
   "id": "protected-equilibrium",
   "metadata": {},
   "outputs": [],
   "source": [
    "detailed_results = dict()\n",
    "for i, j in tqdm(good_results.items()):\n",
    "    r = requests.get(f\"https://api.themoviedb.org/3/movie/{j['id']}?api_key={tmdb_key}&append_to_response=keywords,credits\")\n",
    "    detailed_results[i] = r.json()"
   ]
  },
  {
   "cell_type": "code",
   "execution_count": null,
   "id": "incomplete-spirituality",
   "metadata": {},
   "outputs": [],
   "source": [
    "# First 3 should be equally long\n",
    "print(len(good_results))\n",
    "print(len(detailed_results))\n",
    "print(len(set(titles)))\n",
    "print(len(titles)) # longer, because some films have multiple threads"
   ]
  },
  {
   "cell_type": "code",
   "execution_count": null,
   "id": "adapted-skating",
   "metadata": {},
   "outputs": [],
   "source": [
    "x=0\n",
    "genres = Counter()\n",
    "keywords = Counter()\n",
    "for i, j in detailed_results.items():\n",
    "    print(i)\n",
    "    print(\"-\"*21+\"Genres\"+\"-\"*21)\n",
    "    for l in range(0, len(j['genres'])):\n",
    "        print(j['genres'][l]['name'])\n",
    "    print(\"-\"*20+\"Keywords\"+\"-\"*20)\n",
    "    for l in j['keywords']['keywords']:\n",
    "        print(l['name'])\n",
    "    print()\n",
    "    x+=1\n",
    "    if x ==3:\n",
    "        break"
   ]
  },
  {
   "cell_type": "code",
   "execution_count": null,
   "id": "sunrise-evans",
   "metadata": {},
   "outputs": [],
   "source": [
    "genres = Counter()\n",
    "keywords = Counter()\n",
    "for i, j in detailed_results.items():\n",
    "    for l in range(0, len(j['genres'])):\n",
    "        genres[j['genres'][l]['name']] += 1\n",
    "    for l in j['keywords']['keywords']:\n",
    "        keywords[l['name']] += 1"
   ]
  },
  {
   "cell_type": "code",
   "execution_count": null,
   "id": "fabulous-teaching",
   "metadata": {},
   "outputs": [],
   "source": [
    "genres.most_common()"
   ]
  },
  {
   "cell_type": "code",
   "execution_count": null,
   "id": "prepared-tattoo",
   "metadata": {},
   "outputs": [],
   "source": [
    "keywords.most_common(20)"
   ]
  },
  {
   "cell_type": "markdown",
   "id": "theoretical-passion",
   "metadata": {},
   "source": [
    "### Find racism- and sexism-related keywords"
   ]
  },
  {
   "cell_type": "code",
   "execution_count": null,
   "id": "collective-revision",
   "metadata": {},
   "outputs": [],
   "source": [
    "src = \"rac[e|i]|discri|black|afr|police|stereo|slav|protest|civil|malcolm|luther\"\n",
    "for i, j in keywords.items():\n",
    "    if re.search(src, i):\n",
    "        print(i, j)\n",
    "        break\n",
    "        \n",
    "\n",
    "race_words = [\n",
    "    'racist','interracial relationship','racism','race-conscious','race relations','mixed race','racial prejudice',\n",
    "    'racial slur','biracial','racist cop','racial profiling','racial segregation','interracial marriage',\n",
    "    'interracial friendship','post-racial america','interracial couple',\n",
    "    'discrimination','africa','african american','african american history','african american comedy',\n",
    "    'black panther party','black activist',\n",
    "    'police brutality', 'police harassment',\n",
    "    'stereotype',\n",
    "    'slavery','slave','slave labor',\n",
    "    'protest','protest march',\n",
    "    'civil rights','civil rights movement',\n",
    "    'malcolm x','martin luther king'\n",
    "]\n",
    "\n",
    "# 'race' is for Furious 7, a car racing film\n",
    "        \n",
    "# no typos\n",
    "for k in race_words:\n",
    "    assert k in keywords, k"
   ]
  },
  {
   "cell_type": "code",
   "execution_count": null,
   "id": "incident-feature",
   "metadata": {},
   "outputs": [],
   "source": [
    "src = \"sex|lgbt|gay|lesbian|gender|fem|wom|miso|masc|coming|closet\"    \n",
    "for i, j in keywords.items():\n",
    "    if re.search(src, i):\n",
    "        print(i, j)\n",
    "        break\n",
    "        \n",
    "    \n",
    "sexism_words = [\n",
    "    'male homosexuality','sexuality','repressed sexuality','repressed homosexuality','homosexual subtext','homosexuality',\n",
    "    'sexual abuse','sexual identity','teenage sexuality','sexual harassment','sexism','battle of the sexes','transsexual',\n",
    "    'childhood sexual abuse','bisexuality',\n",
    "    'lgbt','black lgbt','lgbt teen','lgbt interest','jewish lgbt',\n",
    "    'gay','gay theme','gay slur','gay interest','gay friends',\n",
    "    'lesbian','lesbian relationship',\n",
    "    'gender roles',\n",
    "    'feminism','female empowerment','femininity','femme fatale',\n",
    "    \"women's rights\",\n",
    "    \"misogynist\",'misogyny',\n",
    "    'masculinity','toxic masculinity',\n",
    "    'coming out','in the closet'\n",
    "]\n",
    "\n",
    "# no typos\n",
    "for k in sexism_words:\n",
    "    assert k in keywords, k"
   ]
  },
  {
   "cell_type": "markdown",
   "id": "differential-bradford",
   "metadata": {},
   "source": [
    "### List how many racism and sexism keywords there are for each film"
   ]
  },
  {
   "cell_type": "code",
   "execution_count": null,
   "id": "amino-peoples",
   "metadata": {},
   "outputs": [],
   "source": [
    "race_related_keywords = Counter()\n",
    "sexism_related_keywords = Counter()\n",
    "for i, j in detailed_results.items():\n",
    "    x=0\n",
    "    y=0\n",
    "    for l in j['keywords']['keywords']:\n",
    "        if l['name'] in race_words:\n",
    "            x+=1\n",
    "        if l['name'] in sexism_words:\n",
    "            y+=1\n",
    "    race_related_keywords[i] += x\n",
    "    sexism_related_keywords[i] += y"
   ]
  },
  {
   "cell_type": "code",
   "execution_count": null,
   "id": "going-repair",
   "metadata": {},
   "outputs": [],
   "source": [
    "race_related_keywords.most_common(10)"
   ]
  },
  {
   "cell_type": "code",
   "execution_count": null,
   "id": "creative-hardware",
   "metadata": {},
   "outputs": [],
   "source": [
    "for i, j in detailed_results.items():\n",
    "    for k, l in race_related_keywords.items():\n",
    "        if i == k:\n",
    "            j['racism_keywords'] = l\n",
    "    for k, l in sexism_related_keywords.items():\n",
    "        if i == k:\n",
    "            j['sexism_keywords'] = l"
   ]
  },
  {
   "cell_type": "code",
   "execution_count": null,
   "id": "environmental-stress",
   "metadata": {},
   "outputs": [],
   "source": [
    "detailed_results['Moonlight']['sexism_keywords']"
   ]
  },
  {
   "cell_type": "code",
   "execution_count": null,
   "id": "supported-pennsylvania",
   "metadata": {},
   "outputs": [],
   "source": [
    "more_race = Counter()\n",
    "for i, j in detailed_results.items():\n",
    "    for l in j['keywords']['keywords']:\n",
    "        if l['name'] in sexism_words:\n",
    "            for m in j['keywords']['keywords']:\n",
    "                if m['name'] not in sexism_words:\n",
    "                    more_race[m['name']] += 1\n",
    "            break"
   ]
  },
  {
   "cell_type": "code",
   "execution_count": null,
   "id": "amateur-maldives",
   "metadata": {},
   "outputs": [],
   "source": [
    "# Print cooccuring keywords:\n",
    "\n",
    "more_race = Counter()\n",
    "for i, j in detailed_results.items():\n",
    "    for l in j['keywords']['keywords']:\n",
    "        if l['name'] in sexism_words:\n",
    "            for m in j['keywords']['keywords']:\n",
    "                if m['name'] not in sexism_words:\n",
    "                    more_race[m['name']] += 1\n",
    "            break\n",
    "\n",
    "more_race.most_common(10)"
   ]
  },
  {
   "cell_type": "code",
   "execution_count": null,
   "id": "offensive-leadership",
   "metadata": {},
   "outputs": [],
   "source": [
    "# Print for which films keywords appear\n",
    "\n",
    "for i, j in detailed_results.items():\n",
    "    for l in j['keywords']['keywords']:\n",
    "        if l['name'] in ['ghetto']:\n",
    "            print(i)\n",
    "            break"
   ]
  },
  {
   "cell_type": "code",
   "execution_count": null,
   "id": "requested-maple",
   "metadata": {},
   "outputs": [],
   "source": [
    "# save the detailed file\n",
    "with open(tmdb_detailed_file, 'w') as outfile:\n",
    "    json.dump(detailed_results, outfile)"
   ]
  },
  {
   "cell_type": "code",
   "execution_count": null,
   "id": "sexual-sequence",
   "metadata": {},
   "outputs": [],
   "source": [
    "print(detailed_results['Moonlight'].keys())\n",
    "print()\n",
    "\n",
    "selected_keys = \"release_date, vote_average, vote_count, sexism_keywords, racism_keywords\".split(\", \")\n",
    "\n",
    "print(selected_keys)"
   ]
  },
  {
   "cell_type": "code",
   "execution_count": null,
   "id": "premier-dutch",
   "metadata": {},
   "outputs": [],
   "source": [
    "select_results = dict()\n",
    "\n",
    "for i, j in detailed_results.items():\n",
    "    x = {key: j[key] for key in selected_keys}\n",
    "    \n",
    "    for l in range(0, len(j['genres'])):\n",
    "        x[j['genres'][l]['name']] = 1\n",
    "    \n",
    "    \n",
    "    select_results[i] = x"
   ]
  },
  {
   "cell_type": "code",
   "execution_count": null,
   "id": "conscious-bangladesh",
   "metadata": {},
   "outputs": [],
   "source": [
    "results_df = pd.DataFrame.from_dict(select_results, orient=\"index\")\n",
    "\n",
    "results_df.fillna(0, inplace=True)\n",
    "\n",
    "results_df = results_df.convert_dtypes()\n",
    "\n",
    "results_df.reset_index(inplace=True)\n",
    "\n",
    "results_df.rename(columns={\"index\":\"film_title\"}, inplace=True)"
   ]
  },
  {
   "cell_type": "code",
   "execution_count": null,
   "id": "beginning-measure",
   "metadata": {},
   "outputs": [],
   "source": [
    "results_df.head()"
   ]
  },
  {
   "cell_type": "code",
   "execution_count": null,
   "id": "initial-campbell",
   "metadata": {},
   "outputs": [],
   "source": [
    "submissions.head()"
   ]
  },
  {
   "cell_type": "code",
   "execution_count": null,
   "id": "natural-giant",
   "metadata": {},
   "outputs": [],
   "source": [
    "submissions_x = submissions.merge(results_df, on=\"film_title\")"
   ]
  },
  {
   "cell_type": "code",
   "execution_count": null,
   "id": "powered-prototype",
   "metadata": {},
   "outputs": [],
   "source": [
    "submissions_x.head()"
   ]
  },
  {
   "cell_type": "code",
   "execution_count": null,
   "id": "optional-investing",
   "metadata": {},
   "outputs": [],
   "source": [
    "submissions_x.to_csv(submissions_tmdb_file, sep=\";\", index=False)"
   ]
  },
  {
   "cell_type": "code",
   "execution_count": null,
   "id": "developmental-honolulu",
   "metadata": {},
   "outputs": [],
   "source": [
    "with open(racism_keywords_file, 'w') as f:\n",
    "    for item in race_words:\n",
    "        f.write(f\"{item}\\n\")"
   ]
  },
  {
   "cell_type": "code",
   "execution_count": null,
   "id": "national-diabetes",
   "metadata": {},
   "outputs": [],
   "source": [
    "with open(sexism_keywords_file, 'w') as f:\n",
    "    for item in sexism_words:\n",
    "        f.write(f\"{item}\\n\")"
   ]
  },
  {
   "cell_type": "code",
   "execution_count": null,
   "id": "national-fashion",
   "metadata": {},
   "outputs": [],
   "source": [
    "\", \".join(sexism_words)"
   ]
  }
 ],
 "metadata": {
  "kernelspec": {
   "display_name": "Python 3",
   "language": "python",
   "name": "python3"
  },
  "language_info": {
   "codemirror_mode": {
    "name": "ipython",
    "version": 3
   },
   "file_extension": ".py",
   "mimetype": "text/x-python",
   "name": "python",
   "nbconvert_exporter": "python",
   "pygments_lexer": "ipython3",
   "version": "3.9.1"
  }
 },
 "nbformat": 4,
 "nbformat_minor": 5
}
