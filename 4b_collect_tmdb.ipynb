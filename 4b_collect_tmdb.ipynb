{
 "cells": [
  {
   "cell_type": "code",
   "execution_count": 48,
   "id": "colored-twins",
   "metadata": {},
   "outputs": [],
   "source": [
    "import requests\n",
    "from lxml.html import parse, fromstring\n",
    "import pandas as pd\n",
    "import regex as re\n",
    "from tqdm import tqdm\n",
    "from pprint import pprint\n",
    "from collections import Counter\n",
    "\n",
    "from twitter_keys import tmdb_key\n",
    "from params import annotated_submissions_file, submissions_tmdb_file"
   ]
  },
  {
   "cell_type": "code",
   "execution_count": 2,
   "id": "equal-large",
   "metadata": {},
   "outputs": [],
   "source": [
    "tmdb_file = \"./data/tmdb.json\"\n",
    "tmdb_detailed_file = \"./data/tmdb_detailed.json\"\n",
    "\n",
    "racism_keywords_file = \"data/racism_keywords.txt\"\n",
    "sexism_keywords_file = \"data/sexism_keywords.txt\""
   ]
  },
  {
   "cell_type": "code",
   "execution_count": 352,
   "id": "expressed-dealing",
   "metadata": {},
   "outputs": [],
   "source": [
    "pd.set_option('display.max_colwidth', 50)"
   ]
  },
  {
   "cell_type": "markdown",
   "id": "another-opera",
   "metadata": {},
   "source": [
    "## Match my films with tmdb entries"
   ]
  },
  {
   "cell_type": "code",
   "execution_count": 295,
   "id": "starting-knight",
   "metadata": {},
   "outputs": [],
   "source": [
    "submissions = pd.read_csv(annotated_submissions_file, sep=\";\")\n",
    "submissions = submissions.loc[(submissions['num_comments'] >= 25) & (pd.isna(submissions['discussion_thread']))]\n",
    "\n",
    "titles = submissions['film_title'].tolist()"
   ]
  },
  {
   "cell_type": "code",
   "execution_count": 296,
   "id": "rural-passing",
   "metadata": {},
   "outputs": [
    {
     "data": {
      "text/html": [
       "<div>\n",
       "<style scoped>\n",
       "    .dataframe tbody tr th:only-of-type {\n",
       "        vertical-align: middle;\n",
       "    }\n",
       "\n",
       "    .dataframe tbody tr th {\n",
       "        vertical-align: top;\n",
       "    }\n",
       "\n",
       "    .dataframe thead th {\n",
       "        text-align: right;\n",
       "    }\n",
       "</style>\n",
       "<table border=\"1\" class=\"dataframe\">\n",
       "  <thead>\n",
       "    <tr style=\"text-align: right;\">\n",
       "      <th></th>\n",
       "      <th>submission_id</th>\n",
       "      <th>title</th>\n",
       "      <th>score</th>\n",
       "      <th>num_comments</th>\n",
       "      <th>url</th>\n",
       "      <th>created</th>\n",
       "      <th>discussion_thread</th>\n",
       "      <th>date</th>\n",
       "      <th>film_title</th>\n",
       "    </tr>\n",
       "  </thead>\n",
       "  <tbody>\n",
       "    <tr>\n",
       "      <th>202</th>\n",
       "      <td>6rhe2a</td>\n",
       "      <td>Official Discussion: The Dark Tower [SPOILERS]</td>\n",
       "      <td>880</td>\n",
       "      <td>2460</td>\n",
       "      <td>https://www.reddit.com/r/movies/comments/6rhe2...</td>\n",
       "      <td>1501812002</td>\n",
       "      <td>NaN</td>\n",
       "      <td>2017-08-04 02:00:02</td>\n",
       "      <td>The Dark Tower</td>\n",
       "    </tr>\n",
       "  </tbody>\n",
       "</table>\n",
       "</div>"
      ],
      "text/plain": [
       "    submission_id                                           title  score  \\\n",
       "202        6rhe2a  Official Discussion: The Dark Tower [SPOILERS]    880   \n",
       "\n",
       "     num_comments                                                url  \\\n",
       "202          2460  https://www.reddit.com/r/movies/comments/6rhe2...   \n",
       "\n",
       "        created discussion_thread                 date      film_title  \n",
       "202  1501812002               NaN  2017-08-04 02:00:02  The Dark Tower  "
      ]
     },
     "execution_count": 296,
     "metadata": {},
     "output_type": "execute_result"
    }
   ],
   "source": [
    "submissions.loc[submissions.title.str.contains(\"Tower\")]"
   ]
  },
  {
   "cell_type": "markdown",
   "id": "provincial-athens",
   "metadata": {},
   "source": [
    "### Find potential matches"
   ]
  },
  {
   "cell_type": "code",
   "execution_count": 309,
   "id": "senior-technician",
   "metadata": {
    "scrolled": true
   },
   "outputs": [
    {
     "name": "stderr",
     "output_type": "stream",
     "text": [
      "100%|██████████████████████████████████████████████████████████████████████████████| 1149/1149 [03:32<00:00,  5.41it/s]\n"
     ]
    }
   ],
   "source": [
    "query_results = dict()\n",
    "\n",
    "for i in tqdm(titles):\n",
    "    j = re.search(\"[\\(|\\[](\\d{4})[\\)|\\]]\", i)\n",
    "    k = re.sub(\"[\\(|\\[]\\d{4}[\\)|\\]]\", \"\", i)\n",
    "    \n",
    "    if j == None:\n",
    "        r = requests.get(f\"https://api.themoviedb.org/3/search/movie?api_key={tmdb_key}&query={k}\").json()\n",
    "    else:\n",
    "        r = requests.get(f\"https://api.themoviedb.org/3/search/movie?api_key={tmdb_key}&query={k}&year={j}\").json()\n",
    "    \n",
    "    query_results[i] = r"
   ]
  },
  {
   "cell_type": "code",
   "execution_count": 310,
   "id": "optional-poker",
   "metadata": {},
   "outputs": [],
   "source": [
    "with open(tmdb_file, 'w') as outfile:\n",
    "    json.dump(query_results, outfile)"
   ]
  },
  {
   "cell_type": "code",
   "execution_count": 3,
   "id": "original-carrier",
   "metadata": {},
   "outputs": [],
   "source": [
    "with open(tmdb_file, 'r') as infile:\n",
    "    query_results = json.load(infile)"
   ]
  },
  {
   "cell_type": "markdown",
   "id": "provincial-disorder",
   "metadata": {},
   "source": [
    "### Find single best match"
   ]
  },
  {
   "cell_type": "code",
   "execution_count": 4,
   "id": "another-extra",
   "metadata": {
    "scrolled": true
   },
   "outputs": [],
   "source": [
    "good_results = dict()\n",
    "for i, j in query_results.items():\n",
    "    # Print if there are no potential matches\n",
    "    if j['total_results'] == 0:\n",
    "        print(f\"No possible results for {i}\")\n",
    "        \n",
    "    # If the query only found a single result, I assume it's correct (manual inspection of titles found that it was)\n",
    "    elif j['total_results'] == 1:\n",
    "        good_results[i] = j['results'][0]\n",
    "        \n",
    "    # If the query found multiple results...\n",
    "    elif j['total_results'] > 1:\n",
    "        l = []\n",
    "        stripped_name = re.sub(\"[\\(|\\[]\\d{4}[\\)|\\]]\", \"\", i).replace(\"&amp;\", \"&\").lower().strip()\n",
    "        \n",
    "        # See if there are results in the correct date range with at least a few votes\n",
    "        for k in j['results']:\n",
    "            try:\n",
    "                if (pd.to_datetime(k['release_date']).year > 2008) & (k['vote_count'] > 10):\n",
    "                    l.append(k)\n",
    "            except:\n",
    "                pass\n",
    "            \n",
    "        # if not, see if there are results which an exact matching name\n",
    "        if len(l) == 0:\n",
    "            for k in j['results']:\n",
    "                if k['title'].lower().replace(\"'\", \"\").rstrip(\".\") == stripped_name:\n",
    "                    l.append(k)\n",
    "                    \n",
    "                # Manual exception for LOTR since it was outside of the date range\n",
    "                elif (i == \"Lord of the Rings: The Fellowship of the Ring\") & (k['vote_count'] > 10):\n",
    "                    l.append(k)\n",
    "                    \n",
    "        # if there are multiple results in the date range, see what the more popular films are\n",
    "        # Note I'm using 'if' over 'elif' because the previous step could find multiple matches\n",
    "        if len(l) > 1:\n",
    "            m = []\n",
    "            for k in l:\n",
    "                if (k['vote_count'] >= 70):\n",
    "                    m.append(k)\n",
    "            \n",
    "            # If there is only 1 more popular film, that's the one I'm assuming is correct\n",
    "            if len(m) == 1:\n",
    "                good_results[i] = m[0]\n",
    "                \n",
    "            # If there are multiple see if there's one with an exact name match\n",
    "            elif len(m) > 1:\n",
    "                o = []\n",
    "                for n in m:\n",
    "                    if (n['title'].lower().replace(\"'\", \"\").rstrip(\".\") == stripped_name):\n",
    "                        o.append(n)\n",
    "                        \n",
    "                if len(o) == 1:\n",
    "                    good_results[i] = o[0]\n",
    "                    \n",
    "                # If there is more than 1, select the most popular film out of those\n",
    "                elif len(o) > 1:\n",
    "                    q = 0\n",
    "                    most_likely = dict()\n",
    "                    for p in o:\n",
    "                        if p['vote_count'] > q:\n",
    "                            most_likely = p\n",
    "                            q = p['vote_count']\n",
    "                    good_results[i] = most_likely\n",
    "                    \n",
    "                # Print if there are no potential matches\n",
    "                else:\n",
    "                    print(i)\n",
    "                    for n in m:\n",
    "                        print(n['original_title']+\" \"+str(n['vote_count']))\n",
    "                    print()\n",
    "                    \n",
    "            # Print if there are no potential matches\n",
    "            else:\n",
    "                print(f\"Found 0 matches for {i}\")\n",
    "                    \n",
    "        elif len(l) == 1:\n",
    "            good_results[i] = l[0]\n",
    "        else:                           \n",
    "            print(f\"Found 0 matches for {i} within the date range\")"
   ]
  },
  {
   "cell_type": "code",
   "execution_count": 8,
   "id": "nuclear-kernel",
   "metadata": {
    "scrolled": true
   },
   "outputs": [
    {
     "name": "stdout",
     "output_type": "stream",
     "text": [
      "Star Wars: Episode VIII – The Last Jedi\n",
      "{'adult': False,\n",
      " 'backdrop_path': '/5Iw7zQTHVRBOYpA0V6z0yypOPZh.jpg',\n",
      " 'genre_ids': [878, 28, 12],\n",
      " 'id': 181808,\n",
      " 'original_language': 'en',\n",
      " 'original_title': 'Star Wars: The Last Jedi',\n",
      " 'overview': 'Rey develops her newly discovered abilities with the guidance of '\n",
      "             'Luke Skywalker, who is unsettled by the strength of her powers. '\n",
      "             'Meanwhile, the Resistance prepares to do battle with the First '\n",
      "             'Order.',\n",
      " 'popularity': 110.128,\n",
      " 'poster_path': '/kOVEVeg59E0wsnXmF9nrh6OmWII.jpg',\n",
      " 'release_date': '2017-12-13',\n",
      " 'title': 'Star Wars: The Last Jedi',\n",
      " 'video': False,\n",
      " 'vote_average': 6.9,\n",
      " 'vote_count': 12822}\n",
      "\n"
     ]
    }
   ],
   "source": [
    "x=0\n",
    "for i, j in good_results.items():\n",
    "    print(i)\n",
    "    pprint(j)\n",
    "    print()\n",
    "    x+=1\n",
    "    if x ==1:\n",
    "        break"
   ]
  },
  {
   "cell_type": "markdown",
   "id": "anonymous-orleans",
   "metadata": {},
   "source": [
    "## Find detailed movie information"
   ]
  },
  {
   "cell_type": "code",
   "execution_count": 10,
   "id": "protected-equilibrium",
   "metadata": {},
   "outputs": [
    {
     "name": "stderr",
     "output_type": "stream",
     "text": [
      "100%|██████████████████████████████████████████████████████████████████████████████| 1109/1109 [03:25<00:00,  5.41it/s]\n"
     ]
    }
   ],
   "source": [
    "detailed_results = dict()\n",
    "for i, j in tqdm(good_results.items()):\n",
    "    r = requests.get(f\"https://api.themoviedb.org/3/movie/{j['id']}?api_key={tmdb_key}&append_to_response=keywords,credits\")\n",
    "    detailed_results[i] = r.json()"
   ]
  },
  {
   "cell_type": "code",
   "execution_count": 297,
   "id": "incomplete-spirituality",
   "metadata": {},
   "outputs": [
    {
     "name": "stdout",
     "output_type": "stream",
     "text": [
      "1109\n",
      "1109\n",
      "1109\n",
      "1149\n"
     ]
    }
   ],
   "source": [
    "# First 3 should be equally long\n",
    "print(len(good_results))\n",
    "print(len(detailed_results))\n",
    "print(len(set(titles)))\n",
    "print(len(titles)) # longer, because some films have multiple threads"
   ]
  },
  {
   "cell_type": "code",
   "execution_count": 197,
   "id": "adapted-skating",
   "metadata": {
    "scrolled": false
   },
   "outputs": [
    {
     "name": "stdout",
     "output_type": "stream",
     "text": [
      "Star Wars: Episode VIII – The Last Jedi\n",
      "---------------------Genres---------------------\n",
      "Science Fiction\n",
      "Action\n",
      "Adventure\n",
      "--------------------Keywords--------------------\n",
      "bunker\n",
      "space battle\n",
      "failure\n",
      "defeat\n",
      "sequel\n",
      "space opera\n",
      "stormtrooper\n",
      "military operation\n",
      "\n",
      "Avengers: Endgame\n",
      "---------------------Genres---------------------\n",
      "Adventure\n",
      "Science Fiction\n",
      "Action\n",
      "--------------------Keywords--------------------\n",
      "space travel\n",
      "time travel\n",
      "time machine\n",
      "sequel\n",
      "based on comic\n",
      "alien invasion\n",
      "superhero team\n",
      "iron man\n",
      "marvel cinematic universe (mcu)\n",
      "alternate timeline\n",
      "final battle\n",
      "father daughter relationship\n",
      "sister sister relationship\n",
      "\n",
      "Avengers: Infinity War\n",
      "---------------------Genres---------------------\n",
      "Adventure\n",
      "Action\n",
      "Science Fiction\n",
      "--------------------Keywords--------------------\n",
      "magic\n",
      "sacrifice\n",
      "superhero\n",
      "based on comic\n",
      "space\n",
      "battlefield\n",
      "genocide\n",
      "magical object\n",
      "super power\n",
      "aftercreditsstinger\n",
      "marvel cinematic universe (mcu)\n",
      "cosmic\n",
      "\n"
     ]
    }
   ],
   "source": [
    "x=0\n",
    "genres = Counter()\n",
    "keywords = Counter()\n",
    "for i, j in detailed_results.items():\n",
    "    print(i)\n",
    "    print(\"-\"*21+\"Genres\"+\"-\"*21)\n",
    "    for l in range(0, len(j['genres'])):\n",
    "        print(j['genres'][l]['name'])\n",
    "    print(\"-\"*20+\"Keywords\"+\"-\"*20)\n",
    "    for l in j['keywords']['keywords']:\n",
    "        print(l['name'])\n",
    "    print()\n",
    "    x+=1\n",
    "    if x ==3:\n",
    "        break"
   ]
  },
  {
   "cell_type": "code",
   "execution_count": 169,
   "id": "sunrise-evans",
   "metadata": {
    "scrolled": false
   },
   "outputs": [],
   "source": [
    "genres = Counter()\n",
    "keywords = Counter()\n",
    "for i, j in detailed_results.items():\n",
    "    for l in range(0, len(j['genres'])):\n",
    "        genres[j['genres'][l]['name']] += 1\n",
    "    for l in j['keywords']['keywords']:\n",
    "        keywords[l['name']] += 1"
   ]
  },
  {
   "cell_type": "code",
   "execution_count": 189,
   "id": "fabulous-teaching",
   "metadata": {},
   "outputs": [
    {
     "data": {
      "text/plain": [
       "[('Drama', 469),\n",
       " ('Comedy', 348),\n",
       " ('Action', 346),\n",
       " ('Thriller', 308),\n",
       " ('Adventure', 260),\n",
       " ('Science Fiction', 205),\n",
       " ('Horror', 167),\n",
       " ('Crime', 164),\n",
       " ('Fantasy', 151),\n",
       " ('Family', 121),\n",
       " ('Mystery', 107),\n",
       " ('Animation', 93),\n",
       " ('Romance', 93),\n",
       " ('History', 81),\n",
       " ('Music', 43),\n",
       " ('War', 28),\n",
       " ('Western', 17),\n",
       " ('Documentary', 16),\n",
       " ('TV Movie', 6)]"
      ]
     },
     "execution_count": 189,
     "metadata": {},
     "output_type": "execute_result"
    }
   ],
   "source": [
    "genres.most_common()"
   ]
  },
  {
   "cell_type": "code",
   "execution_count": 171,
   "id": "prepared-tattoo",
   "metadata": {},
   "outputs": [
    {
     "data": {
      "text/plain": [
       "[('based on novel or book', 165),\n",
       " ('sequel', 127),\n",
       " ('based on true story', 96),\n",
       " ('murder', 83),\n",
       " ('biography', 77),\n",
       " ('based on comic', 70),\n",
       " ('woman director', 60),\n",
       " ('superhero', 58),\n",
       " ('duringcreditsstinger', 53),\n",
       " ('aftercreditsstinger', 52),\n",
       " ('new york city', 50),\n",
       " ('dystopia', 49),\n",
       " ('revenge', 46),\n",
       " ('remake', 37),\n",
       " ('family', 36),\n",
       " ('1970s', 30),\n",
       " ('magic', 28),\n",
       " ('1960s', 28),\n",
       " ('lgbt', 28),\n",
       " ('father daughter relationship', 27)]"
      ]
     },
     "execution_count": 171,
     "metadata": {},
     "output_type": "execute_result"
    }
   ],
   "source": [
    "keywords.most_common(20)"
   ]
  },
  {
   "cell_type": "markdown",
   "id": "theoretical-passion",
   "metadata": {},
   "source": [
    "### Find racism- and sexism-related keywords"
   ]
  },
  {
   "cell_type": "code",
   "execution_count": 172,
   "id": "collective-revision",
   "metadata": {
    "scrolled": true
   },
   "outputs": [
    {
     "name": "stdout",
     "output_type": "stream",
     "text": [
      "black hole 2\n",
      "black opal 1\n",
      "black humor 2\n",
      "black and white 6\n",
      "black panther party 3\n",
      "black magic 1\n",
      "black soldier 1\n",
      "black ops 4\n",
      "black lgbt 2\n",
      "black activist 2\n",
      "blackmail 3\n",
      "black belt 1\n",
      "blackout 1\n",
      "blacklist 1\n"
     ]
    }
   ],
   "source": [
    "src = \"rac[e|i]|discri|black|afr|police|stereo|slav|protest|civil|malcolm|luther\"\n",
    "for i, j in keywords.items():\n",
    "    if re.search(src, i):\n",
    "        print(i, j)\n",
    "        break\n",
    "        \n",
    "\n",
    "race_words = [\n",
    "    'racist','interracial relationship','racism','race-conscious','race relations','mixed race','racial prejudice',\n",
    "    'racial slur','biracial','racist cop','racial profiling','racial segregation','interracial marriage',\n",
    "    'interracial friendship','post-racial america','interracial couple',\n",
    "    'discrimination','africa','african american','african american history','african american comedy',\n",
    "    'black panther party','black activist',\n",
    "    'police brutality', 'police harassment',\n",
    "    'stereotype',\n",
    "    'slavery','slave','slave labor',\n",
    "    'protest','protest march',\n",
    "    'civil rights','civil rights movement',\n",
    "    'malcolm x','martin luther king'\n",
    "]\n",
    "\n",
    "# 'race' is for Furious 7, a car racing film\n",
    "        \n",
    "# no typos\n",
    "for k in race_words:\n",
    "    assert k in keywords, k"
   ]
  },
  {
   "cell_type": "code",
   "execution_count": 173,
   "id": "incident-feature",
   "metadata": {
    "scrolled": true
   },
   "outputs": [
    {
     "name": "stdout",
     "output_type": "stream",
     "text": [
      "female protagonist 19\n"
     ]
    }
   ],
   "source": [
    "src = \"sex|lgbt|gay|lesbian|gender|fem|wom|miso|masc|coming|closet\"    \n",
    "for i, j in keywords.items():\n",
    "    if re.search(src, i):\n",
    "        print(i, j)\n",
    "        break\n",
    "        \n",
    "    \n",
    "sexism_words = [\n",
    "    'male homosexuality','sexuality','repressed sexuality','repressed homosexuality','homosexual subtext','homosexuality',\n",
    "    'sexual abuse','sexual identity','teenage sexuality','sexual harassment','sexism','battle of the sexes','transsexual',\n",
    "    'childhood sexual abuse','bisexuality',\n",
    "    'lgbt','black lgbt','lgbt teen','lgbt interest','jewish lgbt',\n",
    "    'gay','gay theme','gay slur','gay interest','gay friends',\n",
    "    'lesbian','lesbian relationship',\n",
    "    'gender roles',\n",
    "    'feminism','female empowerment','femininity','femme fatale',\n",
    "    \"women's rights\",\n",
    "    \"misogynist\",'misogyny',\n",
    "    'masculinity','toxic masculinity',\n",
    "    'coming out','in the closet'\n",
    "]\n",
    "\n",
    "# no typos\n",
    "for k in sexism_words:\n",
    "    assert k in keywords, k"
   ]
  },
  {
   "cell_type": "markdown",
   "id": "differential-bradford",
   "metadata": {},
   "source": [
    "### List how many racism and sexism keywords there are for each film"
   ]
  },
  {
   "cell_type": "code",
   "execution_count": 184,
   "id": "amino-peoples",
   "metadata": {},
   "outputs": [],
   "source": [
    "race_related_keywords = Counter()\n",
    "sexism_related_keywords = Counter()\n",
    "for i, j in detailed_results.items():\n",
    "    x=0\n",
    "    y=0\n",
    "    for l in j['keywords']['keywords']:\n",
    "        if l['name'] in race_words:\n",
    "            x+=1\n",
    "        if l['name'] in sexism_words:\n",
    "            y+=1\n",
    "    race_related_keywords[i] += x\n",
    "    sexism_related_keywords[i] += y"
   ]
  },
  {
   "cell_type": "code",
   "execution_count": 185,
   "id": "going-repair",
   "metadata": {},
   "outputs": [
    {
     "data": {
      "text/plain": [
       "[('Get Out', 5),\n",
       " ('Straight Outta Compton', 5),\n",
       " ('Selma', 5),\n",
       " ('Belle', 4),\n",
       " ('Hidden Figures', 4),\n",
       " ('Loving', 4),\n",
       " ('Zootopia', 3),\n",
       " ('The Hate U Give', 3),\n",
       " ('One Night in Miami', 3),\n",
       " ('BlacKkKlansman', 2)]"
      ]
     },
     "execution_count": 185,
     "metadata": {},
     "output_type": "execute_result"
    }
   ],
   "source": [
    "race_related_keywords.most_common(10)"
   ]
  },
  {
   "cell_type": "code",
   "execution_count": 186,
   "id": "creative-hardware",
   "metadata": {},
   "outputs": [],
   "source": [
    "for i, j in detailed_results.items():\n",
    "    for k, l in race_related_keywords.items():\n",
    "        if i == k:\n",
    "            j['racism_keywords'] = l\n",
    "    for k, l in sexism_related_keywords.items():\n",
    "        if i == k:\n",
    "            j['sexism_keywords'] = l"
   ]
  },
  {
   "cell_type": "code",
   "execution_count": 190,
   "id": "environmental-stress",
   "metadata": {},
   "outputs": [
    {
     "data": {
      "text/plain": [
       "5"
      ]
     },
     "execution_count": 190,
     "metadata": {},
     "output_type": "execute_result"
    }
   ],
   "source": [
    "detailed_results['Moonlight']['sexism_keywords']"
   ]
  },
  {
   "cell_type": "code",
   "execution_count": 176,
   "id": "supported-pennsylvania",
   "metadata": {},
   "outputs": [],
   "source": [
    "more_race = Counter()\n",
    "for i, j in detailed_results.items():\n",
    "    for l in j['keywords']['keywords']:\n",
    "        if l['name'] in sexism_words:\n",
    "            for m in j['keywords']['keywords']:\n",
    "                if m['name'] not in sexism_words:\n",
    "                    more_race[m['name']] += 1\n",
    "            break"
   ]
  },
  {
   "cell_type": "code",
   "execution_count": 177,
   "id": "amateur-maldives",
   "metadata": {},
   "outputs": [
    {
     "data": {
      "text/plain": [
       "[('woman director', 12),\n",
       " ('based on true story', 9),\n",
       " ('based on novel or book', 9),\n",
       " ('coming of age', 9),\n",
       " ('biography', 7),\n",
       " ('parent child relationship', 6),\n",
       " ('period drama', 4),\n",
       " ('sequel', 4),\n",
       " ('1970s', 4),\n",
       " ('singer', 4)]"
      ]
     },
     "execution_count": 177,
     "metadata": {},
     "output_type": "execute_result"
    }
   ],
   "source": [
    "# Print cooccuring keywords:\n",
    "\n",
    "more_race = Counter()\n",
    "for i, j in detailed_results.items():\n",
    "    for l in j['keywords']['keywords']:\n",
    "        if l['name'] in sexism_words:\n",
    "            for m in j['keywords']['keywords']:\n",
    "                if m['name'] not in sexism_words:\n",
    "                    more_race[m['name']] += 1\n",
    "            break\n",
    "\n",
    "more_race.most_common(10)"
   ]
  },
  {
   "cell_type": "code",
   "execution_count": 178,
   "id": "offensive-leadership",
   "metadata": {
    "scrolled": false
   },
   "outputs": [
    {
     "name": "stdout",
     "output_type": "stream",
     "text": [
      "Moonlight\n",
      "Straight Outta Compton\n",
      "Triple 9\n"
     ]
    }
   ],
   "source": [
    "# Print for which films keywords appear\n",
    "\n",
    "for i, j in detailed_results.items():\n",
    "    for l in j['keywords']['keywords']:\n",
    "        if l['name'] in ['ghetto']:\n",
    "            print(i)\n",
    "            break"
   ]
  },
  {
   "cell_type": "code",
   "execution_count": 196,
   "id": "requested-maple",
   "metadata": {},
   "outputs": [],
   "source": [
    "# save the detailed file\n",
    "with open(tmdb_detailed_file, 'w') as outfile:\n",
    "    json.dump(detailed_results, outfile)"
   ]
  },
  {
   "cell_type": "code",
   "execution_count": 226,
   "id": "sexual-sequence",
   "metadata": {},
   "outputs": [
    {
     "name": "stdout",
     "output_type": "stream",
     "text": [
      "dict_keys(['adult', 'backdrop_path', 'belongs_to_collection', 'budget', 'genres', 'homepage', 'id', 'imdb_id', 'original_language', 'original_title', 'overview', 'popularity', 'poster_path', 'production_companies', 'production_countries', 'release_date', 'revenue', 'runtime', 'spoken_languages', 'status', 'tagline', 'title', 'video', 'vote_average', 'vote_count', 'keywords', 'credits', 'sexism_keywords', 'racism_keywords'])\n",
      "\n",
      "['release_date', 'vote_average', 'vote_count', 'sexism_keywords', 'racism_keywords']\n"
     ]
    }
   ],
   "source": [
    "print(detailed_results['Moonlight'].keys())\n",
    "print()\n",
    "\n",
    "selected_keys = \"release_date, vote_average, vote_count, sexism_keywords, racism_keywords\".split(\", \")\n",
    "\n",
    "print(selected_keys)"
   ]
  },
  {
   "cell_type": "code",
   "execution_count": 230,
   "id": "premier-dutch",
   "metadata": {},
   "outputs": [],
   "source": [
    "select_results = dict()\n",
    "\n",
    "for i, j in detailed_results.items():\n",
    "    x = {key: j[key] for key in selected_keys}\n",
    "    \n",
    "    for l in range(0, len(j['genres'])):\n",
    "        x[j['genres'][l]['name']] = 1\n",
    "    \n",
    "    \n",
    "    select_results[i] = x"
   ]
  },
  {
   "cell_type": "code",
   "execution_count": 246,
   "id": "conscious-bangladesh",
   "metadata": {},
   "outputs": [],
   "source": [
    "results_df = pd.DataFrame.from_dict(select_results, orient=\"index\")\n",
    "\n",
    "results_df.fillna(0, inplace=True)\n",
    "\n",
    "results_df = results_df.convert_dtypes()\n",
    "\n",
    "results_df.reset_index(inplace=True)\n",
    "\n",
    "results_df.rename(columns={\"index\":\"film_title\"}, inplace=True)"
   ]
  },
  {
   "cell_type": "code",
   "execution_count": 247,
   "id": "beginning-measure",
   "metadata": {},
   "outputs": [
    {
     "data": {
      "text/html": [
       "<div>\n",
       "<style scoped>\n",
       "    .dataframe tbody tr th:only-of-type {\n",
       "        vertical-align: middle;\n",
       "    }\n",
       "\n",
       "    .dataframe tbody tr th {\n",
       "        vertical-align: top;\n",
       "    }\n",
       "\n",
       "    .dataframe thead th {\n",
       "        text-align: right;\n",
       "    }\n",
       "</style>\n",
       "<table border=\"1\" class=\"dataframe\">\n",
       "  <thead>\n",
       "    <tr style=\"text-align: right;\">\n",
       "      <th></th>\n",
       "      <th>film_title</th>\n",
       "      <th>release_date</th>\n",
       "      <th>vote_average</th>\n",
       "      <th>vote_count</th>\n",
       "      <th>sexism_keywords</th>\n",
       "      <th>racism_keywords</th>\n",
       "      <th>Science Fiction</th>\n",
       "      <th>Action</th>\n",
       "      <th>Adventure</th>\n",
       "      <th>Fantasy</th>\n",
       "      <th>...</th>\n",
       "      <th>Mystery</th>\n",
       "      <th>War</th>\n",
       "      <th>Animation</th>\n",
       "      <th>Family</th>\n",
       "      <th>History</th>\n",
       "      <th>Western</th>\n",
       "      <th>Romance</th>\n",
       "      <th>Music</th>\n",
       "      <th>TV Movie</th>\n",
       "      <th>Documentary</th>\n",
       "    </tr>\n",
       "  </thead>\n",
       "  <tbody>\n",
       "    <tr>\n",
       "      <th>0</th>\n",
       "      <td>Star Wars: Episode VIII – The Last Jedi</td>\n",
       "      <td>2017-12-13</td>\n",
       "      <td>6.9</td>\n",
       "      <td>12826</td>\n",
       "      <td>0</td>\n",
       "      <td>0</td>\n",
       "      <td>1</td>\n",
       "      <td>1</td>\n",
       "      <td>1</td>\n",
       "      <td>0</td>\n",
       "      <td>...</td>\n",
       "      <td>0</td>\n",
       "      <td>0</td>\n",
       "      <td>0</td>\n",
       "      <td>0</td>\n",
       "      <td>0</td>\n",
       "      <td>0</td>\n",
       "      <td>0</td>\n",
       "      <td>0</td>\n",
       "      <td>0</td>\n",
       "      <td>0</td>\n",
       "    </tr>\n",
       "    <tr>\n",
       "      <th>1</th>\n",
       "      <td>Avengers: Endgame</td>\n",
       "      <td>2019-04-24</td>\n",
       "      <td>8.3</td>\n",
       "      <td>20566</td>\n",
       "      <td>0</td>\n",
       "      <td>0</td>\n",
       "      <td>1</td>\n",
       "      <td>1</td>\n",
       "      <td>1</td>\n",
       "      <td>0</td>\n",
       "      <td>...</td>\n",
       "      <td>0</td>\n",
       "      <td>0</td>\n",
       "      <td>0</td>\n",
       "      <td>0</td>\n",
       "      <td>0</td>\n",
       "      <td>0</td>\n",
       "      <td>0</td>\n",
       "      <td>0</td>\n",
       "      <td>0</td>\n",
       "      <td>0</td>\n",
       "    </tr>\n",
       "    <tr>\n",
       "      <th>2</th>\n",
       "      <td>Avengers: Infinity War</td>\n",
       "      <td>2018-04-25</td>\n",
       "      <td>8.3</td>\n",
       "      <td>24120</td>\n",
       "      <td>0</td>\n",
       "      <td>0</td>\n",
       "      <td>1</td>\n",
       "      <td>1</td>\n",
       "      <td>1</td>\n",
       "      <td>0</td>\n",
       "      <td>...</td>\n",
       "      <td>0</td>\n",
       "      <td>0</td>\n",
       "      <td>0</td>\n",
       "      <td>0</td>\n",
       "      <td>0</td>\n",
       "      <td>0</td>\n",
       "      <td>0</td>\n",
       "      <td>0</td>\n",
       "      <td>0</td>\n",
       "      <td>0</td>\n",
       "    </tr>\n",
       "    <tr>\n",
       "      <th>3</th>\n",
       "      <td>Star Wars: Episode IX - The Rise of Skywalker</td>\n",
       "      <td>2019-12-18</td>\n",
       "      <td>6.4</td>\n",
       "      <td>7605</td>\n",
       "      <td>0</td>\n",
       "      <td>0</td>\n",
       "      <td>1</td>\n",
       "      <td>1</td>\n",
       "      <td>1</td>\n",
       "      <td>0</td>\n",
       "      <td>...</td>\n",
       "      <td>0</td>\n",
       "      <td>0</td>\n",
       "      <td>0</td>\n",
       "      <td>0</td>\n",
       "      <td>0</td>\n",
       "      <td>0</td>\n",
       "      <td>0</td>\n",
       "      <td>0</td>\n",
       "      <td>0</td>\n",
       "      <td>0</td>\n",
       "    </tr>\n",
       "    <tr>\n",
       "      <th>4</th>\n",
       "      <td>Star Wars: Episode VII - The Force Awakens</td>\n",
       "      <td>2015-12-15</td>\n",
       "      <td>7.3</td>\n",
       "      <td>16789</td>\n",
       "      <td>0</td>\n",
       "      <td>0</td>\n",
       "      <td>1</td>\n",
       "      <td>1</td>\n",
       "      <td>1</td>\n",
       "      <td>1</td>\n",
       "      <td>...</td>\n",
       "      <td>0</td>\n",
       "      <td>0</td>\n",
       "      <td>0</td>\n",
       "      <td>0</td>\n",
       "      <td>0</td>\n",
       "      <td>0</td>\n",
       "      <td>0</td>\n",
       "      <td>0</td>\n",
       "      <td>0</td>\n",
       "      <td>0</td>\n",
       "    </tr>\n",
       "  </tbody>\n",
       "</table>\n",
       "<p>5 rows × 25 columns</p>\n",
       "</div>"
      ],
      "text/plain": [
       "                                      film_title release_date  vote_average  \\\n",
       "0        Star Wars: Episode VIII – The Last Jedi   2017-12-13           6.9   \n",
       "1                              Avengers: Endgame   2019-04-24           8.3   \n",
       "2                         Avengers: Infinity War   2018-04-25           8.3   \n",
       "3  Star Wars: Episode IX - The Rise of Skywalker   2019-12-18           6.4   \n",
       "4     Star Wars: Episode VII - The Force Awakens   2015-12-15           7.3   \n",
       "\n",
       "   vote_count  sexism_keywords  racism_keywords  Science Fiction  Action  \\\n",
       "0       12826                0                0                1       1   \n",
       "1       20566                0                0                1       1   \n",
       "2       24120                0                0                1       1   \n",
       "3        7605                0                0                1       1   \n",
       "4       16789                0                0                1       1   \n",
       "\n",
       "   Adventure  Fantasy  ...  Mystery  War  Animation  Family  History  Western  \\\n",
       "0          1        0  ...        0    0          0       0        0        0   \n",
       "1          1        0  ...        0    0          0       0        0        0   \n",
       "2          1        0  ...        0    0          0       0        0        0   \n",
       "3          1        0  ...        0    0          0       0        0        0   \n",
       "4          1        1  ...        0    0          0       0        0        0   \n",
       "\n",
       "   Romance  Music  TV Movie  Documentary  \n",
       "0        0      0         0            0  \n",
       "1        0      0         0            0  \n",
       "2        0      0         0            0  \n",
       "3        0      0         0            0  \n",
       "4        0      0         0            0  \n",
       "\n",
       "[5 rows x 25 columns]"
      ]
     },
     "execution_count": 247,
     "metadata": {},
     "output_type": "execute_result"
    }
   ],
   "source": [
    "results_df.head()"
   ]
  },
  {
   "cell_type": "code",
   "execution_count": 201,
   "id": "initial-campbell",
   "metadata": {},
   "outputs": [
    {
     "data": {
      "text/html": [
       "<div>\n",
       "<style scoped>\n",
       "    .dataframe tbody tr th:only-of-type {\n",
       "        vertical-align: middle;\n",
       "    }\n",
       "\n",
       "    .dataframe tbody tr th {\n",
       "        vertical-align: top;\n",
       "    }\n",
       "\n",
       "    .dataframe thead th {\n",
       "        text-align: right;\n",
       "    }\n",
       "</style>\n",
       "<table border=\"1\" class=\"dataframe\">\n",
       "  <thead>\n",
       "    <tr style=\"text-align: right;\">\n",
       "      <th></th>\n",
       "      <th>submission_id</th>\n",
       "      <th>title</th>\n",
       "      <th>score</th>\n",
       "      <th>num_comments</th>\n",
       "      <th>url</th>\n",
       "      <th>created</th>\n",
       "      <th>discussion_thread</th>\n",
       "      <th>date</th>\n",
       "      <th>film_title</th>\n",
       "    </tr>\n",
       "  </thead>\n",
       "  <tbody>\n",
       "    <tr>\n",
       "      <th>0</th>\n",
       "      <td>7jwxnd</td>\n",
       "      <td>Official Discussion - Star Wars: Episode VIII ...</td>\n",
       "      <td>15908</td>\n",
       "      <td>100558</td>\n",
       "      <td>https://www.reddit.com/r/movies/comments/7jwxn...</td>\n",
       "      <td>1513306809</td>\n",
       "      <td>NaN</td>\n",
       "      <td>2017-12-15 03:00:09</td>\n",
       "      <td>Star Wars: Episode VIII – The Last Jedi</td>\n",
       "    </tr>\n",
       "    <tr>\n",
       "      <th>1</th>\n",
       "      <td>bh8iei</td>\n",
       "      <td>Official Discussion - Avengers: Endgame [SPOIL...</td>\n",
       "      <td>20046</td>\n",
       "      <td>89336</td>\n",
       "      <td>https://www.reddit.com/r/movies/comments/bh8ie...</td>\n",
       "      <td>1556247619</td>\n",
       "      <td>NaN</td>\n",
       "      <td>2019-04-26 03:00:19</td>\n",
       "      <td>Avengers: Endgame</td>\n",
       "    </tr>\n",
       "    <tr>\n",
       "      <th>2</th>\n",
       "      <td>8f84h0</td>\n",
       "      <td>Official Discussion - Avengers: Infinity War [...</td>\n",
       "      <td>24045</td>\n",
       "      <td>72761</td>\n",
       "      <td>https://www.reddit.com/r/movies/comments/8f84h...</td>\n",
       "      <td>1524794408</td>\n",
       "      <td>NaN</td>\n",
       "      <td>2018-04-27 02:00:08</td>\n",
       "      <td>Avengers: Infinity War</td>\n",
       "    </tr>\n",
       "    <tr>\n",
       "      <th>3</th>\n",
       "      <td>ed3a6g</td>\n",
       "      <td>Official Discussion - Star Wars: Episode IX - ...</td>\n",
       "      <td>17351</td>\n",
       "      <td>52017</td>\n",
       "      <td>https://www.reddit.com/r/movies/comments/ed3a6...</td>\n",
       "      <td>1576810828</td>\n",
       "      <td>NaN</td>\n",
       "      <td>2019-12-20 03:00:28</td>\n",
       "      <td>Star Wars: Episode IX - The Rise of Skywalker</td>\n",
       "    </tr>\n",
       "    <tr>\n",
       "      <th>4</th>\n",
       "      <td>3xf9gd</td>\n",
       "      <td>Official Discussion - Star Wars: Episode VII -...</td>\n",
       "      <td>8394</td>\n",
       "      <td>40877</td>\n",
       "      <td>https://www.reddit.com/r/movies/comments/3xf9g...</td>\n",
       "      <td>1450493995</td>\n",
       "      <td>NaN</td>\n",
       "      <td>2015-12-19 02:59:55</td>\n",
       "      <td>Star Wars: Episode VII - The Force Awakens</td>\n",
       "    </tr>\n",
       "  </tbody>\n",
       "</table>\n",
       "</div>"
      ],
      "text/plain": [
       "  submission_id                                              title  score  \\\n",
       "0        7jwxnd  Official Discussion - Star Wars: Episode VIII ...  15908   \n",
       "1        bh8iei  Official Discussion - Avengers: Endgame [SPOIL...  20046   \n",
       "2        8f84h0  Official Discussion - Avengers: Infinity War [...  24045   \n",
       "3        ed3a6g  Official Discussion - Star Wars: Episode IX - ...  17351   \n",
       "4        3xf9gd  Official Discussion - Star Wars: Episode VII -...   8394   \n",
       "\n",
       "   num_comments                                                url  \\\n",
       "0        100558  https://www.reddit.com/r/movies/comments/7jwxn...   \n",
       "1         89336  https://www.reddit.com/r/movies/comments/bh8ie...   \n",
       "2         72761  https://www.reddit.com/r/movies/comments/8f84h...   \n",
       "3         52017  https://www.reddit.com/r/movies/comments/ed3a6...   \n",
       "4         40877  https://www.reddit.com/r/movies/comments/3xf9g...   \n",
       "\n",
       "      created discussion_thread                 date  \\\n",
       "0  1513306809               NaN  2017-12-15 03:00:09   \n",
       "1  1556247619               NaN  2019-04-26 03:00:19   \n",
       "2  1524794408               NaN  2018-04-27 02:00:08   \n",
       "3  1576810828               NaN  2019-12-20 03:00:28   \n",
       "4  1450493995               NaN  2015-12-19 02:59:55   \n",
       "\n",
       "                                      film_title  \n",
       "0        Star Wars: Episode VIII – The Last Jedi  \n",
       "1                              Avengers: Endgame  \n",
       "2                         Avengers: Infinity War  \n",
       "3  Star Wars: Episode IX - The Rise of Skywalker  \n",
       "4     Star Wars: Episode VII - The Force Awakens  "
      ]
     },
     "execution_count": 201,
     "metadata": {},
     "output_type": "execute_result"
    }
   ],
   "source": [
    "submissions.head()"
   ]
  },
  {
   "cell_type": "code",
   "execution_count": 248,
   "id": "natural-giant",
   "metadata": {},
   "outputs": [],
   "source": [
    "submissions_x = submissions.merge(results_df, on=\"film_title\")"
   ]
  },
  {
   "cell_type": "code",
   "execution_count": 249,
   "id": "powered-prototype",
   "metadata": {},
   "outputs": [
    {
     "data": {
      "text/html": [
       "<div>\n",
       "<style scoped>\n",
       "    .dataframe tbody tr th:only-of-type {\n",
       "        vertical-align: middle;\n",
       "    }\n",
       "\n",
       "    .dataframe tbody tr th {\n",
       "        vertical-align: top;\n",
       "    }\n",
       "\n",
       "    .dataframe thead th {\n",
       "        text-align: right;\n",
       "    }\n",
       "</style>\n",
       "<table border=\"1\" class=\"dataframe\">\n",
       "  <thead>\n",
       "    <tr style=\"text-align: right;\">\n",
       "      <th></th>\n",
       "      <th>submission_id</th>\n",
       "      <th>title</th>\n",
       "      <th>score</th>\n",
       "      <th>num_comments</th>\n",
       "      <th>url</th>\n",
       "      <th>created</th>\n",
       "      <th>discussion_thread</th>\n",
       "      <th>date</th>\n",
       "      <th>film_title</th>\n",
       "      <th>release_date</th>\n",
       "      <th>...</th>\n",
       "      <th>Mystery</th>\n",
       "      <th>War</th>\n",
       "      <th>Animation</th>\n",
       "      <th>Family</th>\n",
       "      <th>History</th>\n",
       "      <th>Western</th>\n",
       "      <th>Romance</th>\n",
       "      <th>Music</th>\n",
       "      <th>TV Movie</th>\n",
       "      <th>Documentary</th>\n",
       "    </tr>\n",
       "  </thead>\n",
       "  <tbody>\n",
       "    <tr>\n",
       "      <th>0</th>\n",
       "      <td>7jwxnd</td>\n",
       "      <td>Official Discussion - Star Wars: Episode VIII ...</td>\n",
       "      <td>15908</td>\n",
       "      <td>100558</td>\n",
       "      <td>https://www.reddit.com/r/movies/comments/7jwxn...</td>\n",
       "      <td>1513306809</td>\n",
       "      <td>NaN</td>\n",
       "      <td>2017-12-15 03:00:09</td>\n",
       "      <td>Star Wars: Episode VIII – The Last Jedi</td>\n",
       "      <td>2017-12-13</td>\n",
       "      <td>...</td>\n",
       "      <td>0</td>\n",
       "      <td>0</td>\n",
       "      <td>0</td>\n",
       "      <td>0</td>\n",
       "      <td>0</td>\n",
       "      <td>0</td>\n",
       "      <td>0</td>\n",
       "      <td>0</td>\n",
       "      <td>0</td>\n",
       "      <td>0</td>\n",
       "    </tr>\n",
       "    <tr>\n",
       "      <th>1</th>\n",
       "      <td>bh8iei</td>\n",
       "      <td>Official Discussion - Avengers: Endgame [SPOIL...</td>\n",
       "      <td>20046</td>\n",
       "      <td>89336</td>\n",
       "      <td>https://www.reddit.com/r/movies/comments/bh8ie...</td>\n",
       "      <td>1556247619</td>\n",
       "      <td>NaN</td>\n",
       "      <td>2019-04-26 03:00:19</td>\n",
       "      <td>Avengers: Endgame</td>\n",
       "      <td>2019-04-24</td>\n",
       "      <td>...</td>\n",
       "      <td>0</td>\n",
       "      <td>0</td>\n",
       "      <td>0</td>\n",
       "      <td>0</td>\n",
       "      <td>0</td>\n",
       "      <td>0</td>\n",
       "      <td>0</td>\n",
       "      <td>0</td>\n",
       "      <td>0</td>\n",
       "      <td>0</td>\n",
       "    </tr>\n",
       "    <tr>\n",
       "      <th>2</th>\n",
       "      <td>bk33kl</td>\n",
       "      <td>Official Discussion - Avengers: Endgame (2nd T...</td>\n",
       "      <td>694</td>\n",
       "      <td>4919</td>\n",
       "      <td>https://www.reddit.com/r/movies/comments/bk33k...</td>\n",
       "      <td>1556848803</td>\n",
       "      <td>NaN</td>\n",
       "      <td>2019-05-03 02:00:03</td>\n",
       "      <td>Avengers: Endgame</td>\n",
       "      <td>2019-04-24</td>\n",
       "      <td>...</td>\n",
       "      <td>0</td>\n",
       "      <td>0</td>\n",
       "      <td>0</td>\n",
       "      <td>0</td>\n",
       "      <td>0</td>\n",
       "      <td>0</td>\n",
       "      <td>0</td>\n",
       "      <td>0</td>\n",
       "      <td>0</td>\n",
       "      <td>0</td>\n",
       "    </tr>\n",
       "    <tr>\n",
       "      <th>3</th>\n",
       "      <td>8f84h0</td>\n",
       "      <td>Official Discussion - Avengers: Infinity War [...</td>\n",
       "      <td>24045</td>\n",
       "      <td>72761</td>\n",
       "      <td>https://www.reddit.com/r/movies/comments/8f84h...</td>\n",
       "      <td>1524794408</td>\n",
       "      <td>NaN</td>\n",
       "      <td>2018-04-27 02:00:08</td>\n",
       "      <td>Avengers: Infinity War</td>\n",
       "      <td>2018-04-25</td>\n",
       "      <td>...</td>\n",
       "      <td>0</td>\n",
       "      <td>0</td>\n",
       "      <td>0</td>\n",
       "      <td>0</td>\n",
       "      <td>0</td>\n",
       "      <td>0</td>\n",
       "      <td>0</td>\n",
       "      <td>0</td>\n",
       "      <td>0</td>\n",
       "      <td>0</td>\n",
       "    </tr>\n",
       "    <tr>\n",
       "      <th>4</th>\n",
       "      <td>8gvr6n</td>\n",
       "      <td>Official Discussion - Avengers: Infinity War [...</td>\n",
       "      <td>2484</td>\n",
       "      <td>11784</td>\n",
       "      <td>https://www.reddit.com/r/movies/comments/8gvr6...</td>\n",
       "      <td>1525399266</td>\n",
       "      <td>NaN</td>\n",
       "      <td>2018-05-04 02:01:06</td>\n",
       "      <td>Avengers: Infinity War</td>\n",
       "      <td>2018-04-25</td>\n",
       "      <td>...</td>\n",
       "      <td>0</td>\n",
       "      <td>0</td>\n",
       "      <td>0</td>\n",
       "      <td>0</td>\n",
       "      <td>0</td>\n",
       "      <td>0</td>\n",
       "      <td>0</td>\n",
       "      <td>0</td>\n",
       "      <td>0</td>\n",
       "      <td>0</td>\n",
       "    </tr>\n",
       "  </tbody>\n",
       "</table>\n",
       "<p>5 rows × 33 columns</p>\n",
       "</div>"
      ],
      "text/plain": [
       "  submission_id                                              title  score  \\\n",
       "0        7jwxnd  Official Discussion - Star Wars: Episode VIII ...  15908   \n",
       "1        bh8iei  Official Discussion - Avengers: Endgame [SPOIL...  20046   \n",
       "2        bk33kl  Official Discussion - Avengers: Endgame (2nd T...    694   \n",
       "3        8f84h0  Official Discussion - Avengers: Infinity War [...  24045   \n",
       "4        8gvr6n  Official Discussion - Avengers: Infinity War [...   2484   \n",
       "\n",
       "   num_comments                                                url  \\\n",
       "0        100558  https://www.reddit.com/r/movies/comments/7jwxn...   \n",
       "1         89336  https://www.reddit.com/r/movies/comments/bh8ie...   \n",
       "2          4919  https://www.reddit.com/r/movies/comments/bk33k...   \n",
       "3         72761  https://www.reddit.com/r/movies/comments/8f84h...   \n",
       "4         11784  https://www.reddit.com/r/movies/comments/8gvr6...   \n",
       "\n",
       "      created discussion_thread                 date  \\\n",
       "0  1513306809               NaN  2017-12-15 03:00:09   \n",
       "1  1556247619               NaN  2019-04-26 03:00:19   \n",
       "2  1556848803               NaN  2019-05-03 02:00:03   \n",
       "3  1524794408               NaN  2018-04-27 02:00:08   \n",
       "4  1525399266               NaN  2018-05-04 02:01:06   \n",
       "\n",
       "                                film_title release_date  ...  Mystery  War  \\\n",
       "0  Star Wars: Episode VIII – The Last Jedi   2017-12-13  ...        0    0   \n",
       "1                        Avengers: Endgame   2019-04-24  ...        0    0   \n",
       "2                        Avengers: Endgame   2019-04-24  ...        0    0   \n",
       "3                   Avengers: Infinity War   2018-04-25  ...        0    0   \n",
       "4                   Avengers: Infinity War   2018-04-25  ...        0    0   \n",
       "\n",
       "   Animation  Family  History  Western  Romance  Music  TV Movie  Documentary  \n",
       "0          0       0        0        0        0      0         0            0  \n",
       "1          0       0        0        0        0      0         0            0  \n",
       "2          0       0        0        0        0      0         0            0  \n",
       "3          0       0        0        0        0      0         0            0  \n",
       "4          0       0        0        0        0      0         0            0  \n",
       "\n",
       "[5 rows x 33 columns]"
      ]
     },
     "execution_count": 249,
     "metadata": {},
     "output_type": "execute_result"
    }
   ],
   "source": [
    "submissions_x.head()"
   ]
  },
  {
   "cell_type": "code",
   "execution_count": 252,
   "id": "optional-investing",
   "metadata": {},
   "outputs": [],
   "source": [
    "submissions_x.to_csv(submissions_tmdb_file, sep=\";\", index=False)"
   ]
  },
  {
   "cell_type": "code",
   "execution_count": 5,
   "id": "developmental-honolulu",
   "metadata": {},
   "outputs": [],
   "source": [
    "with open(racism_keywords_file, 'w') as f:\n",
    "    for item in race_words:\n",
    "        f.write(f\"{item}\\n\")"
   ]
  },
  {
   "cell_type": "code",
   "execution_count": null,
   "id": "national-diabetes",
   "metadata": {},
   "outputs": [],
   "source": [
    "with open(sexism_keywords_file, 'w') as f:\n",
    "    for item in sexism_words:\n",
    "        f.write(f\"{item}\\n\")"
   ]
  },
  {
   "cell_type": "code",
   "execution_count": 7,
   "id": "national-fashion",
   "metadata": {},
   "outputs": [
    {
     "data": {
      "text/plain": [
       "\"male homosexuality, sexuality, repressed sexuality, repressed homosexuality, homosexual subtext, homosexuality, sexual abuse, sexual identity, teenage sexuality, sexual harassment, sexism, battle of the sexes, transsexual, childhood sexual abuse, bisexuality, lgbt, black lgbt, lgbt teen, lgbt interest, jewish lgbt, gay, gay theme, gay slur, gay interest, gay friends, lesbian, lesbian relationship, gender roles, feminism, female empowerment, femininity, femme fatale, women's rights, misogynist, misogyny, masculinity, toxic masculinity, coming out, in the closet\""
      ]
     },
     "execution_count": 7,
     "metadata": {},
     "output_type": "execute_result"
    }
   ],
   "source": [
    "\", \".join(sexism_words)"
   ]
  }
 ],
 "metadata": {
  "kernelspec": {
   "display_name": "Python 3",
   "language": "python",
   "name": "python3"
  },
  "language_info": {
   "codemirror_mode": {
    "name": "ipython",
    "version": 3
   },
   "file_extension": ".py",
   "mimetype": "text/x-python",
   "name": "python",
   "nbconvert_exporter": "python",
   "pygments_lexer": "ipython3",
   "version": "3.9.1"
  }
 },
 "nbformat": 4,
 "nbformat_minor": 5
}
