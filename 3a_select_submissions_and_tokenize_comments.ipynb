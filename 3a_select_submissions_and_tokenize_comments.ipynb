{
 "cells": [
  {
   "cell_type": "code",
   "execution_count": 1,
   "id": "synthetic-oasis",
   "metadata": {},
   "outputs": [],
   "source": [
    "import sqlite3\n",
    "import utils\n",
    "import pandas as pd\n",
    "from tqdm import tqdm\n",
    "from nltk import sent_tokenize\n",
    "import pickle"
   ]
  },
  {
   "cell_type": "code",
   "execution_count": 2,
   "id": "constitutional-porcelain",
   "metadata": {},
   "outputs": [],
   "source": [
    "# Define location and name of SQL database, create a connection object\n",
    "sql_db = './data/film_discussions'\n",
    "conn = sqlite3.connect(sql_db)"
   ]
  },
  {
   "cell_type": "markdown",
   "id": "matched-hamilton",
   "metadata": {},
   "source": [
    "## Manually filter submissions\n",
    "- I only select submissions with at least 25 comments (according to the submission metadata, not the actual amount of comments I have in the database.\n",
    "- Based on the submission titles, I select submissions which are about a single movie and not 'meta-comments' (e.g., \"why isn't there an official discussion for X?\")"
   ]
  },
  {
   "cell_type": "code",
   "execution_count": 26,
   "id": "spectacular-translation",
   "metadata": {},
   "outputs": [
    {
     "name": "stdout",
     "output_type": "stream",
     "text": [
      "2048\n"
     ]
    }
   ],
   "source": [
    "submissions = pd.read_sql('SELECT * FROM submissions', conn)\n",
    "\n",
    "print(len(submissions))"
   ]
  },
  {
   "cell_type": "code",
   "execution_count": 8,
   "id": "experienced-reducing",
   "metadata": {},
   "outputs": [],
   "source": [
    "submissions.to_csv('./data/submissions.csv')"
   ]
  },
  {
   "cell_type": "code",
   "execution_count": 30,
   "id": "cubic-context",
   "metadata": {},
   "outputs": [],
   "source": [
    "# I created a new column which is empty for official discussions (num_comments >= 25 only)\n",
    "submissions = pd.read_csv('./data/submissions_annotated.csv', sep=';')"
   ]
  },
  {
   "cell_type": "code",
   "execution_count": 33,
   "id": "administrative-partnership",
   "metadata": {},
   "outputs": [],
   "source": [
    "submissions = submissions.loc[(submissions['num_comments'] >= 25) & (pd.isna(submissions['discussion_thread']))]"
   ]
  },
  {
   "cell_type": "code",
   "execution_count": 49,
   "id": "cardiac-vault",
   "metadata": {},
   "outputs": [
    {
     "name": "stdout",
     "output_type": "stream",
     "text": [
      "1160\n"
     ]
    }
   ],
   "source": [
    "print(len(submissions))"
   ]
  },
  {
   "cell_type": "markdown",
   "id": "wanted-chess",
   "metadata": {},
   "source": [
    "## Select matching comments"
   ]
  },
  {
   "cell_type": "code",
   "execution_count": 41,
   "id": "conceptual-motor",
   "metadata": {
    "scrolled": true
   },
   "outputs": [],
   "source": [
    "x = \"'\"+\"','\".join(submissions['submission_id'].tolist())+\"'\""
   ]
  },
  {
   "cell_type": "code",
   "execution_count": 42,
   "id": "signal-broadway",
   "metadata": {},
   "outputs": [
    {
     "name": "stdout",
     "output_type": "stream",
     "text": [
      "2118317\n"
     ]
    }
   ],
   "source": [
    "comments = pd.read_sql(f\"SELECT * FROM comments WHERE submission_id IN ({x})\", conn)\n",
    "\n",
    "print(len(comments))"
   ]
  },
  {
   "cell_type": "code",
   "execution_count": 46,
   "id": "behind-acrylic",
   "metadata": {},
   "outputs": [],
   "source": [
    "comments.to_csv('./data/comments.csv', sep=';', index=False)"
   ]
  },
  {
   "cell_type": "code",
   "execution_count": 2,
   "id": "elegant-wilson",
   "metadata": {},
   "outputs": [],
   "source": [
    "comments = pd.read_csv('./data/comments.csv', sep=';')"
   ]
  },
  {
   "cell_type": "code",
   "execution_count": 3,
   "id": "electric-stable",
   "metadata": {},
   "outputs": [
    {
     "data": {
      "text/html": [
       "<div>\n",
       "<style scoped>\n",
       "    .dataframe tbody tr th:only-of-type {\n",
       "        vertical-align: middle;\n",
       "    }\n",
       "\n",
       "    .dataframe tbody tr th {\n",
       "        vertical-align: top;\n",
       "    }\n",
       "\n",
       "    .dataframe thead th {\n",
       "        text-align: right;\n",
       "    }\n",
       "</style>\n",
       "<table border=\"1\" class=\"dataframe\">\n",
       "  <thead>\n",
       "    <tr style=\"text-align: right;\">\n",
       "      <th></th>\n",
       "      <th>comment_id</th>\n",
       "      <th>submission_id</th>\n",
       "      <th>body</th>\n",
       "      <th>author</th>\n",
       "      <th>score</th>\n",
       "      <th>created</th>\n",
       "    </tr>\n",
       "  </thead>\n",
       "  <tbody>\n",
       "    <tr>\n",
       "      <th>0</th>\n",
       "      <td>e0r6q9y</td>\n",
       "      <td>7llz2i</td>\n",
       "      <td>ADDITIONALLY-- thank you so much for caring en...</td>\n",
       "      <td>e-lutris</td>\n",
       "      <td>1</td>\n",
       "      <td>1529119335</td>\n",
       "    </tr>\n",
       "    <tr>\n",
       "      <th>1</th>\n",
       "      <td>e0enlht</td>\n",
       "      <td>7llz2i</td>\n",
       "      <td>I am watching Shape of Water.  It says some st...</td>\n",
       "      <td>figshooting</td>\n",
       "      <td>1</td>\n",
       "      <td>1528587739</td>\n",
       "    </tr>\n",
       "    <tr>\n",
       "      <th>2</th>\n",
       "      <td>dz9lw9e</td>\n",
       "      <td>7llz2i</td>\n",
       "      <td>Extremely underwhelmed by the film.\\n\\nIt just...</td>\n",
       "      <td>Harry101UK</td>\n",
       "      <td>1</td>\n",
       "      <td>1526784495</td>\n",
       "    </tr>\n",
       "    <tr>\n",
       "      <th>3</th>\n",
       "      <td>dz9llo2</td>\n",
       "      <td>7llz2i</td>\n",
       "      <td>\"We need a quirky 'mute' girl. We need a gay g...</td>\n",
       "      <td>Harry101UK</td>\n",
       "      <td>1</td>\n",
       "      <td>1526784107</td>\n",
       "    </tr>\n",
       "    <tr>\n",
       "      <th>4</th>\n",
       "      <td>dwov5pc</td>\n",
       "      <td>7llz2i</td>\n",
       "      <td>But she wasn't either.  She was part fish and ...</td>\n",
       "      <td>porkpie1028</td>\n",
       "      <td>1</td>\n",
       "      <td>1522697652</td>\n",
       "    </tr>\n",
       "  </tbody>\n",
       "</table>\n",
       "</div>"
      ],
      "text/plain": [
       "  comment_id submission_id                                               body  \\\n",
       "0    e0r6q9y        7llz2i  ADDITIONALLY-- thank you so much for caring en...   \n",
       "1    e0enlht        7llz2i  I am watching Shape of Water.  It says some st...   \n",
       "2    dz9lw9e        7llz2i  Extremely underwhelmed by the film.\\n\\nIt just...   \n",
       "3    dz9llo2        7llz2i  \"We need a quirky 'mute' girl. We need a gay g...   \n",
       "4    dwov5pc        7llz2i  But she wasn't either.  She was part fish and ...   \n",
       "\n",
       "        author  score     created  \n",
       "0     e-lutris      1  1529119335  \n",
       "1  figshooting      1  1528587739  \n",
       "2   Harry101UK      1  1526784495  \n",
       "3   Harry101UK      1  1526784107  \n",
       "4  porkpie1028      1  1522697652  "
      ]
     },
     "execution_count": 3,
     "metadata": {},
     "output_type": "execute_result"
    }
   ],
   "source": [
    "comments.head()"
   ]
  },
  {
   "cell_type": "markdown",
   "id": "stable-commissioner",
   "metadata": {},
   "source": [
    "## Tokenize comments\n",
    "- Convert comments to lowercase, replace accented letters\n",
    "- Split comments into sentences and make sure all sentences are unique\n",
    "- Then split sentences into tokens using TreebankWordTokenizer, removing tokens that are only punctuation\n",
    "- Finally save the sentences (one sentence per line) which is the input required for Gensim word2vec"
   ]
  },
  {
   "cell_type": "code",
   "execution_count": 5,
   "id": "sublime-institution",
   "metadata": {},
   "outputs": [
    {
     "name": "stderr",
     "output_type": "stream",
     "text": [
      "100%|██████████████████████████████████████████████████████████████████████| 2118317/2118317 [10:11<00:00, 3462.95it/s]\n"
     ]
    }
   ],
   "source": [
    "unique_sentences = set()\n",
    "tokenized_comments = []\n",
    "\n",
    "for comment in tqdm(comments['body'].tolist()):\n",
    "    comment = str(comment)\n",
    "    comment = comment.lower()\n",
    "    comment = utils.strip_accents(comment)\n",
    "    \n",
    "    tokenized_comment = []\n",
    "    \n",
    "    for sent in sent_tokenize(comment):\n",
    "        sent = sent.strip()\n",
    "        sent = utils.tokenize_sentence(sent)\n",
    "        #x = \" \".join(sent)\n",
    "        #unique_sentences.add(x)\n",
    "        \n",
    "        tokenized_comment.extend(sent)\n",
    "        \n",
    "    tokenized_comments.append(tokenized_comment)"
   ]
  },
  {
   "cell_type": "code",
   "execution_count": 59,
   "id": "broken-idaho",
   "metadata": {},
   "outputs": [
    {
     "name": "stdout",
     "output_type": "stream",
     "text": [
      "5404427\n",
      "\n"
     ]
    }
   ],
   "source": [
    "x=0\n",
    "print(len(unique_sentences))\n",
    "\n",
    "for i in unique_sentences:\n",
    "    if x == 5:\n",
    "        break\n",
    "    print(i)\n",
    "    x += 1"
   ]
  },
  {
   "cell_type": "code",
   "execution_count": 60,
   "id": "interested-intervention",
   "metadata": {},
   "outputs": [
    {
     "name": "stderr",
     "output_type": "stream",
     "text": [
      "100%|████████████████████████████████████████████████████████████████████| 5404427/5404427 [00:09<00:00, 569320.71it/s]\n"
     ]
    }
   ],
   "source": [
    "with open('./data/tokens.txt', 'w') as f:\n",
    "    for sent in tqdm(unique_sentences):\n",
    "        f.write(sent+\"\\n\")"
   ]
  },
  {
   "cell_type": "code",
   "execution_count": 6,
   "id": "minus-estonia",
   "metadata": {},
   "outputs": [],
   "source": [
    "with open('./data/tokenized_comments.p', 'wb') as f:\n",
    "    pickle.dump(tokenized_comments, f)"
   ]
  }
 ],
 "metadata": {
  "kernelspec": {
   "display_name": "Python 3",
   "language": "python",
   "name": "python3"
  },
  "language_info": {
   "codemirror_mode": {
    "name": "ipython",
    "version": 3
   },
   "file_extension": ".py",
   "mimetype": "text/x-python",
   "name": "python",
   "nbconvert_exporter": "python",
   "pygments_lexer": "ipython3",
   "version": "3.9.1"
  }
 },
 "nbformat": 4,
 "nbformat_minor": 5
}
