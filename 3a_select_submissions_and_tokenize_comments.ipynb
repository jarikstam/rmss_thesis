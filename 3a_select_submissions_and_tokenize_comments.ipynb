{
 "cells": [
  {
   "cell_type": "code",
   "execution_count": 1,
   "id": "synthetic-oasis",
   "metadata": {},
   "outputs": [],
   "source": [
    "import sqlite3\n",
    "import utils\n",
    "import pandas as pd\n",
    "from tqdm import tqdm\n",
    "from nltk import sent_tokenize\n",
    "import pickle\n",
    "import regex as re\n",
    "\n",
    "from gensim.models.word2vec import LineSentence\n",
    "from gensim.models.phrases import Phrases, ENGLISH_CONNECTOR_WORDS\n",
    "\n",
    "from time import perf_counter"
   ]
  },
  {
   "cell_type": "markdown",
   "id": "hourly-capability",
   "metadata": {},
   "source": [
    "## Setup"
   ]
  },
  {
   "cell_type": "code",
   "execution_count": 13,
   "id": "constitutional-porcelain",
   "metadata": {},
   "outputs": [],
   "source": [
    "# Define location and name of SQL database, create a connection object\n",
    "sql_db = './data/film_discussions'\n",
    "conn = sqlite3.connect(sql_db)\n",
    "\n",
    "# Converting the submissions to manually annotate them\n",
    "submissions_file = './data/submissions.csv'\n",
    "annotated_submissions_file = './data/submissions_annotated.csv'\n",
    "\n",
    "# Comments from selected submissions\n",
    "comments_file = './data/comments.csv'\n",
    "\n",
    "# Tokenized sentences for processing with word2vec\n",
    "tokens_file = './data/tokens.txt'\n",
    "ngrams_file = './data/ngrams'\n",
    "\n",
    "# Tokenized comments for matching discourse atoms and concept mover's distance to comments\n",
    "tokenized_comments_file = './data/tokenized_comments.p'"
   ]
  },
  {
   "cell_type": "markdown",
   "id": "matched-hamilton",
   "metadata": {},
   "source": [
    "## Manually filter submissions\n",
    "- I only select submissions with at least 25 comments (according to the submission metadata, not the actual amount of comments I have in the database.\n",
    "- Based on the submission titles, I select submissions which are about a single movie and not 'meta-comments' (e.g., \"why isn't there an official discussion for X?\")"
   ]
  },
  {
   "cell_type": "code",
   "execution_count": 26,
   "id": "spectacular-translation",
   "metadata": {},
   "outputs": [
    {
     "name": "stdout",
     "output_type": "stream",
     "text": [
      "2048\n"
     ]
    }
   ],
   "source": [
    "submissions = pd.read_sql('SELECT * FROM submissions', conn)\n",
    "\n",
    "print(len(submissions))"
   ]
  },
  {
   "cell_type": "code",
   "execution_count": 8,
   "id": "experienced-reducing",
   "metadata": {},
   "outputs": [],
   "source": [
    "#submissions.to_csv(submissions_file, index=False)"
   ]
  },
  {
   "cell_type": "code",
   "execution_count": 3,
   "id": "cubic-context",
   "metadata": {},
   "outputs": [],
   "source": [
    "# I created a new column which is empty for official discussions (num_comments >= 25 only)\n",
    "all_submissions = pd.read_csv(annotated_submissions_file, sep=';')\n",
    "all_submissions.dropna(subset=['created'], inplace=True)\n",
    "\n",
    "# if editing film titles, also do\n",
    "#all_submissions.drop(columns=\"film_title\", inplace=True)"
   ]
  },
  {
   "cell_type": "code",
   "execution_count": 4,
   "id": "upper-briefing",
   "metadata": {},
   "outputs": [],
   "source": [
    "all_submissions = all_submissions.astype({'score': 'int', 'num_comments': 'int', 'created':'int'})\n",
    "all_submissions.loc[:,'date'] = pd.to_datetime(all_submissions.loc[:,'created'], unit='s')"
   ]
  },
  {
   "cell_type": "code",
   "execution_count": 5,
   "id": "administrative-partnership",
   "metadata": {},
   "outputs": [],
   "source": [
    "submissions = all_submissions.loc[(all_submissions['num_comments'] >= 25) & (pd.isna(all_submissions['discussion_thread']))]"
   ]
  },
  {
   "cell_type": "code",
   "execution_count": 8,
   "id": "cardiac-vault",
   "metadata": {},
   "outputs": [
    {
     "name": "stdout",
     "output_type": "stream",
     "text": [
      "1149\n"
     ]
    }
   ],
   "source": [
    "print(len(submissions))"
   ]
  },
  {
   "cell_type": "code",
   "execution_count": 19,
   "id": "divine-speaking",
   "metadata": {},
   "outputs": [],
   "source": [
    "titles = submissions.title.tolist()\n",
    "\n",
    "to_remove = [\n",
    "    \"[Spoilers]\",\n",
    "    \"[SPOILERS]\",\n",
    "    \"[SPOILERS}\",\n",
    "    \"(SPOILERS)\",\n",
    "    \"[SPOLERS]\",\n",
    "    \"[spoilers]\",\n",
    "    \n",
    "    \"(un-Official Discussion)\",\n",
    "    \"Un-Official Discussion :\",\n",
    "    \"Un-Official Discussion:\",\n",
    "    \"Psuedo-Official Discussion:\",\n",
    "    \n",
    "    \"discussion (Spoilers inside)\",\n",
    "    \"Official International Release Discussion:\",\n",
    "    \"Official International Discussion -\",\n",
    "    \"Official International Release Discussion Thread -\",\n",
    "    \n",
    "    \"- Official Discussion Thread\",\n",
    "    \"Official Discussion Thread:\",\n",
    "    \n",
    "    \"Discussion Thread.\",\n",
    "    \"Official Discussion:\",\n",
    "    \"Official Discussion -\",\n",
    "    \"Official Discussion-\",\n",
    "    \"Discussion Thread\",\n",
    "    \n",
    "    \"IMAX re-release\",\n",
    "    \"(International Thread)\",\n",
    "    \", Netflix\",\n",
    "    \"(UK release)\",\n",
    "    \"(US Release)\",\n",
    "    \"(International Release)\",\n",
    "    \"(UK Release)\",\n",
    "    \"(US Thread)\",\n",
    "    \"(Thread Vol. 2)\",\n",
    "    \"Official Discussion #2 -\",\n",
    "    \"Movie Discussion\",\n",
    "    \n",
    "    \"Small Axe:\",\n",
    "    \"4K Restoration\",\n",
    "    \"The Saturday Official\",\n",
    "    \"Official Late-Comer Megathread -\",\n",
    "    \"(Roadshow 70mm Cut)\",\n",
    "    \"(Theatrical Cut)\",\n",
    "    \"The Pre-Official\",\n",
    "    \"discussion thread\",\n",
    "    \"OFFICIAL DISCUSSION\",\n",
    "    \"Official Discussion\",\n",
    "    \"[Serious Replies Only]\",\n",
    "    \"(Early Release)\",\n",
    "    \"(Spoilers inside)\",\n",
    "    \"(Wide Release)\",\n",
    "    \"(Netflix Release)\",\n",
    "    \"(theater release)\",\n",
    "    \"(2nd Thread)\",\n",
    "    \"SPOILERS\"\n",
    "]\n",
    "\n",
    "remove_other = [\n",
    "    \"-Official 48 fps Discussion thread.\",\n",
    "    r\" \\.\",\n",
    "    r\"\\d+/\\d+  -\",\n",
    "    \"31 Days of Halloween -\",\n",
    "    r\"(July|August) \\d{1,2}\",\n",
    "    '\"',\n",
    "    \"'\",\n",
    "    \"Official\",\n",
    "    r\"- \\d+/\\d+\",\n",
    "    \"\\(Un\\)\"\n",
    "]\n",
    "\n",
    "replace_other = [\n",
    "    # typos\n",
    "    [\"Godzilla: King of the Monstars\", \"Godzilla: King of the Monsters\"],\n",
    "    [\"Thor: Rangarok\", \"Thor: Ragnarok\"],\n",
    "    # for tmdb matching\n",
    "    [\"The Hunger Games: Mockingjay - Part II\", \"The Hunger Games: Mockingjay - Part 2\"],\n",
    "    [\"The Hunger Games: Mockingjay Part 2\", \"The Hunger Games: Mockingjay - Part 2\"],\n",
    "    [\"The Hunger Games: Mockingjay Part 1\", \"The Hunger Games: Mockingjay - Part 1\"],\n",
    "    [\"The Edge of Tomorrow\", \"Edge of Tomorrow\"],\n",
    "    [\"T2 Trainspotting: Judgement Day\", \"T2 Trainspotting\"],\n",
    "    [\"Jack Reacher: Never Stop Never Stopping\", \"Jack Reacher: Never Go Back\"],\n",
    "    [\"The Girl in the Spiders Web: A New Dragon Tattoo Story\", \"The Girl in the Spiders Web\"],\n",
    "    [\"T2 Trainspotting: Judgement Day\", \"T2 Trainspotting\"],\n",
    "    [\"T2 Trainspotting: Battle Across Time\", \"T2 Trainspotting\"],\n",
    "    [\"John Wick 2\", \"John Wick: Chapter 2\"],\n",
    "    [\"Oceans 8\", \"Ocean's Eight\"],\n",
    "    [\"Your Name\", \"君の名は。\"],\n",
    "    [\"Sailor Moon Eternal\", \"劇場版 美少女戦士セーラームーンEternal 前編\"],\n",
    "    [\"The Christmas Chronicles 2\", \"The Christmas Chronicles: Part Two\"],\n",
    "    [\"The Croods 2\", \"The Croods: A New Age\"],\n",
    "    [\"El Camino\", \"El Camino: A Breaking Bad Movie\"]\n",
    "    \n",
    "]\n",
    "\n",
    "film_titles = []\n",
    "for title in titles:\n",
    "    for j in to_remove:\n",
    "        title = title.replace(j, \"\")\n",
    "        \n",
    "    for j in remove_other:\n",
    "        title = re.sub(j, \"\", title)\n",
    "        \n",
    "    for i, j in replace_other:\n",
    "        if i == title.strip():\n",
    "            title = title.replace(i, j)\n",
    "        \n",
    "    title = title.strip()\n",
    "        \n",
    "    title = title.strip()    \n",
    "    film_titles.append(title)"
   ]
  },
  {
   "cell_type": "code",
   "execution_count": 20,
   "id": "wooden-marker",
   "metadata": {
    "scrolled": true
   },
   "outputs": [
    {
     "name": "stdout",
     "output_type": "stream",
     "text": [
      "君の名は。\n"
     ]
    }
   ],
   "source": [
    "for i in film_titles:\n",
    "    if re.search('君の名は。', i):\n",
    "        print(i)"
   ]
  },
  {
   "cell_type": "code",
   "execution_count": 21,
   "id": "reduced-stamp",
   "metadata": {},
   "outputs": [
    {
     "name": "stderr",
     "output_type": "stream",
     "text": [
      "<ipython-input-21-09050b92fd80>:1: SettingWithCopyWarning: \n",
      "A value is trying to be set on a copy of a slice from a DataFrame.\n",
      "Try using .loc[row_indexer,col_indexer] = value instead\n",
      "\n",
      "See the caveats in the documentation: https://pandas.pydata.org/pandas-docs/stable/user_guide/indexing.html#returning-a-view-versus-a-copy\n",
      "  submissions['film_title'] = film_titles\n"
     ]
    }
   ],
   "source": [
    "submissions['film_title'] = film_titles"
   ]
  },
  {
   "cell_type": "code",
   "execution_count": 9,
   "id": "authentic-underground",
   "metadata": {},
   "outputs": [
    {
     "data": {
      "text/html": [
       "<div>\n",
       "<style scoped>\n",
       "    .dataframe tbody tr th:only-of-type {\n",
       "        vertical-align: middle;\n",
       "    }\n",
       "\n",
       "    .dataframe tbody tr th {\n",
       "        vertical-align: top;\n",
       "    }\n",
       "\n",
       "    .dataframe thead th {\n",
       "        text-align: right;\n",
       "    }\n",
       "</style>\n",
       "<table border=\"1\" class=\"dataframe\">\n",
       "  <thead>\n",
       "    <tr style=\"text-align: right;\">\n",
       "      <th></th>\n",
       "      <th>submission_id</th>\n",
       "      <th>title</th>\n",
       "      <th>score</th>\n",
       "      <th>num_comments</th>\n",
       "      <th>url</th>\n",
       "      <th>created</th>\n",
       "      <th>discussion_thread</th>\n",
       "      <th>date</th>\n",
       "      <th>film_title</th>\n",
       "    </tr>\n",
       "  </thead>\n",
       "  <tbody>\n",
       "    <tr>\n",
       "      <th>78</th>\n",
       "      <td>dfz6t2</td>\n",
       "      <td>Official Discussion - El Camino: A Breaking Ba...</td>\n",
       "      <td>3465</td>\n",
       "      <td>6428</td>\n",
       "      <td>https://www.reddit.com/r/movies/comments/dfz6t...</td>\n",
       "      <td>1570784418</td>\n",
       "      <td>NaN</td>\n",
       "      <td>2019-10-11 09:00:18</td>\n",
       "      <td>El Camino: A Breaking Bad Movie</td>\n",
       "    </tr>\n",
       "    <tr>\n",
       "      <th>1240</th>\n",
       "      <td>dgca3v</td>\n",
       "      <td>Official Discussion - El Camino (SPOILERS)</td>\n",
       "      <td>15</td>\n",
       "      <td>28</td>\n",
       "      <td>https://www.reddit.com/r/movies/comments/dgca3...</td>\n",
       "      <td>1570783603</td>\n",
       "      <td>NaN</td>\n",
       "      <td>2019-10-11 08:46:43</td>\n",
       "      <td>El Camino: A Breaking Bad Movie</td>\n",
       "    </tr>\n",
       "  </tbody>\n",
       "</table>\n",
       "</div>"
      ],
      "text/plain": [
       "     submission_id                                              title  score  \\\n",
       "78          dfz6t2  Official Discussion - El Camino: A Breaking Ba...   3465   \n",
       "1240        dgca3v         Official Discussion - El Camino (SPOILERS)     15   \n",
       "\n",
       "      num_comments                                                url  \\\n",
       "78            6428  https://www.reddit.com/r/movies/comments/dfz6t...   \n",
       "1240            28  https://www.reddit.com/r/movies/comments/dgca3...   \n",
       "\n",
       "         created discussion_thread                date  \\\n",
       "78    1570784418               NaN 2019-10-11 09:00:18   \n",
       "1240  1570783603               NaN 2019-10-11 08:46:43   \n",
       "\n",
       "                           film_title  \n",
       "78    El Camino: A Breaking Bad Movie  \n",
       "1240  El Camino: A Breaking Bad Movie  "
      ]
     },
     "execution_count": 9,
     "metadata": {},
     "output_type": "execute_result"
    }
   ],
   "source": [
    "submissions.loc[submissions.film_title.str.contains(\"Camino\")]"
   ]
  },
  {
   "cell_type": "code",
   "execution_count": 23,
   "id": "prompt-computer",
   "metadata": {},
   "outputs": [],
   "source": [
    "df = pd.merge(all_submissions, submissions, how=\"outer\")"
   ]
  },
  {
   "cell_type": "code",
   "execution_count": 26,
   "id": "olive-house",
   "metadata": {},
   "outputs": [],
   "source": [
    "df.to_csv(annotated_submissions_file, sep=';', index=False)"
   ]
  },
  {
   "cell_type": "markdown",
   "id": "wanted-chess",
   "metadata": {},
   "source": [
    "## Select matching comments"
   ]
  },
  {
   "cell_type": "code",
   "execution_count": 6,
   "id": "conceptual-motor",
   "metadata": {
    "scrolled": true
   },
   "outputs": [],
   "source": [
    "x = \"'\"+\"','\".join(submissions['submission_id'].tolist())+\"'\""
   ]
  },
  {
   "cell_type": "code",
   "execution_count": 7,
   "id": "signal-broadway",
   "metadata": {},
   "outputs": [
    {
     "name": "stdout",
     "output_type": "stream",
     "text": [
      "2116273\n",
      "42.808793900000005\n"
     ]
    }
   ],
   "source": [
    "start = perf_counter()\n",
    "comments = pd.read_sql(f\"SELECT * FROM comments WHERE submission_id IN ({x})\", conn)\n",
    "print(len(comments))\n",
    "\n",
    "print(perf_counter()-start)"
   ]
  },
  {
   "cell_type": "code",
   "execution_count": 14,
   "id": "behind-acrylic",
   "metadata": {},
   "outputs": [],
   "source": [
    "comments.to_csv(comments_file, sep=';', index=False)"
   ]
  },
  {
   "cell_type": "code",
   "execution_count": 2,
   "id": "elegant-wilson",
   "metadata": {},
   "outputs": [],
   "source": [
    "comments = pd.read_csv(comments_file, sep=';')"
   ]
  },
  {
   "cell_type": "code",
   "execution_count": 8,
   "id": "electric-stable",
   "metadata": {},
   "outputs": [
    {
     "data": {
      "text/html": [
       "<div>\n",
       "<style scoped>\n",
       "    .dataframe tbody tr th:only-of-type {\n",
       "        vertical-align: middle;\n",
       "    }\n",
       "\n",
       "    .dataframe tbody tr th {\n",
       "        vertical-align: top;\n",
       "    }\n",
       "\n",
       "    .dataframe thead th {\n",
       "        text-align: right;\n",
       "    }\n",
       "</style>\n",
       "<table border=\"1\" class=\"dataframe\">\n",
       "  <thead>\n",
       "    <tr style=\"text-align: right;\">\n",
       "      <th></th>\n",
       "      <th>comment_id</th>\n",
       "      <th>submission_id</th>\n",
       "      <th>body</th>\n",
       "      <th>author</th>\n",
       "      <th>score</th>\n",
       "      <th>created</th>\n",
       "    </tr>\n",
       "  </thead>\n",
       "  <tbody>\n",
       "    <tr>\n",
       "      <th>0</th>\n",
       "      <td>e0r6q9y</td>\n",
       "      <td>7llz2i</td>\n",
       "      <td>ADDITIONALLY-- thank you so much for caring en...</td>\n",
       "      <td>e-lutris</td>\n",
       "      <td>1</td>\n",
       "      <td>1529119335</td>\n",
       "    </tr>\n",
       "    <tr>\n",
       "      <th>1</th>\n",
       "      <td>e0enlht</td>\n",
       "      <td>7llz2i</td>\n",
       "      <td>I am watching Shape of Water.  It says some st...</td>\n",
       "      <td>figshooting</td>\n",
       "      <td>1</td>\n",
       "      <td>1528587739</td>\n",
       "    </tr>\n",
       "    <tr>\n",
       "      <th>2</th>\n",
       "      <td>dz9lw9e</td>\n",
       "      <td>7llz2i</td>\n",
       "      <td>Extremely underwhelmed by the film.\\n\\nIt just...</td>\n",
       "      <td>Harry101UK</td>\n",
       "      <td>1</td>\n",
       "      <td>1526784495</td>\n",
       "    </tr>\n",
       "    <tr>\n",
       "      <th>3</th>\n",
       "      <td>dz9llo2</td>\n",
       "      <td>7llz2i</td>\n",
       "      <td>\"We need a quirky 'mute' girl. We need a gay g...</td>\n",
       "      <td>Harry101UK</td>\n",
       "      <td>1</td>\n",
       "      <td>1526784107</td>\n",
       "    </tr>\n",
       "    <tr>\n",
       "      <th>4</th>\n",
       "      <td>dwov5pc</td>\n",
       "      <td>7llz2i</td>\n",
       "      <td>But she wasn't either.  She was part fish and ...</td>\n",
       "      <td>porkpie1028</td>\n",
       "      <td>1</td>\n",
       "      <td>1522697652</td>\n",
       "    </tr>\n",
       "  </tbody>\n",
       "</table>\n",
       "</div>"
      ],
      "text/plain": [
       "  comment_id submission_id                                               body  \\\n",
       "0    e0r6q9y        7llz2i  ADDITIONALLY-- thank you so much for caring en...   \n",
       "1    e0enlht        7llz2i  I am watching Shape of Water.  It says some st...   \n",
       "2    dz9lw9e        7llz2i  Extremely underwhelmed by the film.\\n\\nIt just...   \n",
       "3    dz9llo2        7llz2i  \"We need a quirky 'mute' girl. We need a gay g...   \n",
       "4    dwov5pc        7llz2i  But she wasn't either.  She was part fish and ...   \n",
       "\n",
       "        author  score     created  \n",
       "0     e-lutris      1  1529119335  \n",
       "1  figshooting      1  1528587739  \n",
       "2   Harry101UK      1  1526784495  \n",
       "3   Harry101UK      1  1526784107  \n",
       "4  porkpie1028      1  1522697652  "
      ]
     },
     "execution_count": 8,
     "metadata": {},
     "output_type": "execute_result"
    }
   ],
   "source": [
    "comments.head()"
   ]
  }
 ],
 "metadata": {
  "kernelspec": {
   "display_name": "Python 3",
   "language": "python",
   "name": "python3"
  },
  "language_info": {
   "codemirror_mode": {
    "name": "ipython",
    "version": 3
   },
   "file_extension": ".py",
   "mimetype": "text/x-python",
   "name": "python",
   "nbconvert_exporter": "python",
   "pygments_lexer": "ipython3",
   "version": "3.9.1"
  }
 },
 "nbformat": 4,
 "nbformat_minor": 5
}
