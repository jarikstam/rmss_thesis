{
 "cells": [
  {
   "cell_type": "code",
   "execution_count": null,
   "id": "rental-surprise",
   "metadata": {},
   "outputs": [],
   "source": [
    "from pprint import pprint\n",
    "import requests\n",
    "import json\n",
    "import pandas as pd\n",
    "import time\n",
    "from tqdm import tqdm\n",
    "from datetime import datetime\n",
    "import os\n",
    "import sys\n",
    "\n",
    "from utils import get_pushshift_data\n",
    "from params import comments_file, politics_comments_file"
   ]
  },
  {
   "cell_type": "code",
   "execution_count": null,
   "id": "geographic-substance",
   "metadata": {},
   "outputs": [],
   "source": [
    "# Define search parameters\n",
    "# the keys are the parameter names (see https://pushshift.io/api-parameters/ for possible parameters)\n",
    "param_dict = {'metadata':'true',\n",
    "              'subreddit':'politics',\n",
    "              'size':0\n",
    "             }"
   ]
  },
  {
   "cell_type": "code",
   "execution_count": null,
   "id": "legal-board",
   "metadata": {},
   "outputs": [],
   "source": [
    "authors = set(pd.read_csv(comments_file, sep = \";\")[\"author\"].to_list())\n",
    "original_authors_length = len(authors)"
   ]
  },
  {
   "cell_type": "code",
   "execution_count": null,
   "id": "detected-democrat",
   "metadata": {},
   "outputs": [],
   "source": [
    "collected_authors = set(pd.read_csv(politics_comments_file)[\"author\"].tolist())\n",
    "authors.difference_update(collected_authors)\n",
    "\n",
    "print(original_authors_length) # analysis comments file: 291415\n",
    "print(len(authors))\n",
    "print(len(collected_authors))"
   ]
  },
  {
   "cell_type": "code",
   "execution_count": null,
   "id": "sweet-persian",
   "metadata": {},
   "outputs": [],
   "source": [
    "assert len(authors)+len(collected_authors) == original_authors_length"
   ]
  },
  {
   "cell_type": "code",
   "execution_count": null,
   "id": "collected-hometown",
   "metadata": {},
   "outputs": [],
   "source": [
    "n_comments_out = []\n",
    "authors_out = []\n",
    "author_errors = set()\n",
    "end_time = time.time() + 60*60*40\n",
    "\n",
    "for i, author in enumerate(tqdm(authors)):\n",
    "    param_dict['author'] = author\n",
    "    \n",
    "    data = None\n",
    "    time.sleep(0.5) # current rate limit is 120/min according to https://api.pushshift.io/meta\n",
    "\n",
    "    try:\n",
    "        try:\n",
    "            data = get_pushshift_data(param_dict, url=\"https://api.pushshift.io/reddit/search/comment/?\", data_only=False)\n",
    "        except AssertionError:\n",
    "            first_error = sys.exc_info()[1].args[0]\n",
    "            new_error = sys.exc_info()[1].args[0]\n",
    "\n",
    "            while new_error == first_error:\n",
    "                \n",
    "                if time.time() > end_time:\n",
    "                    time_to_stop = True\n",
    "                    print(f\"Finished at {datetime.now()} with user {authors_out[-1]} while the server was down\")\n",
    "                    break\n",
    "\n",
    "                time.sleep(60)\n",
    "                try:\n",
    "                    data = get_pushshift_data(param_dict, url=\"https://api.pushshift.io/reddit/search/comment/?\", data_only=False)\n",
    "                    new_error = None\n",
    "                except AssertionError:\n",
    "                    new_error = sys.exc_info()[1].args[0]\n",
    "            else:\n",
    "                time_to_stop = False\n",
    "            \n",
    "            if time_to_stop:\n",
    "                break\n",
    "\n",
    "        if data is not None:\n",
    "            authors_out.append(author)\n",
    "            n_comments_out.append(data['metadata']['total_results'])\n",
    "            \n",
    "        if (len(n_comments_out) == 2000) or (i == len(authors)-1):\n",
    "            df = pd.DataFrame({\n",
    "                'author' : authors_out,\n",
    "                'politics_comments' : n_comments_out\n",
    "            })\n",
    "\n",
    "            df.to_csv(politics_comments_file, mode='a', header=not os.path.exists(politics_comments_file), index=False)\n",
    "            n_comments_out = []\n",
    "            authors_out = []\n",
    "\n",
    "            if time.time() > end_time:\n",
    "                print(f\"Finished at {datetime.now()} with user {author}\")\n",
    "                break\n",
    "\n",
    "    except:\n",
    "        print(f\"Something went wrong at {datetime.now()} with user {author}\")\n",
    "        author_errors.add(author)\n",
    "        \n",
    "if len(n_comments_out) > 0:\n",
    "    df = pd.DataFrame({\n",
    "        'author' : authors_out,\n",
    "        'politics_comments' : n_comments_out\n",
    "    })\n",
    "\n",
    "    df.to_csv(politics_comments_file, mode='a', header=not os.path.exists(politics_comments_file), index=False)"
   ]
  },
  {
   "cell_type": "code",
   "execution_count": null,
   "id": "comparative-foster",
   "metadata": {},
   "outputs": [],
   "source": [
    "print(author_errors)"
   ]
  },
  {
   "cell_type": "code",
   "execution_count": null,
   "id": "renewable-spelling",
   "metadata": {},
   "outputs": [],
   "source": [
    "pols = pd.read_csv(politics_comments_file)"
   ]
  },
  {
   "cell_type": "code",
   "execution_count": null,
   "id": "lyric-specialist",
   "metadata": {},
   "outputs": [],
   "source": [
    "pols.tail()"
   ]
  }
 ],
 "metadata": {
  "kernelspec": {
   "display_name": "Python 3",
   "language": "python",
   "name": "python3"
  },
  "language_info": {
   "codemirror_mode": {
    "name": "ipython",
    "version": 3
   },
   "file_extension": ".py",
   "mimetype": "text/x-python",
   "name": "python",
   "nbconvert_exporter": "python",
   "pygments_lexer": "ipython3",
   "version": "3.9.1"
  }
 },
 "nbformat": 4,
 "nbformat_minor": 5
}
