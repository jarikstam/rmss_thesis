{
 "cells": [
  {
   "cell_type": "markdown",
   "id": "controversial-victorian",
   "metadata": {},
   "source": [
    "# Collecting Reddit submissions\n",
    "\n",
    "## Libraries"
   ]
  },
  {
   "cell_type": "code",
   "execution_count": null,
   "id": "welcome-sight",
   "metadata": {},
   "outputs": [],
   "source": [
    "import praw\n",
    "from tqdm import tqdm\n",
    "from datetime import datetime\n",
    "import sqlite3\n",
    "import regex as re\n",
    "\n",
    "import utils\n",
    "from params import sql_db, discussionarchive_submissions_pushshift, reddit_praw_id"
   ]
  },
  {
   "cell_type": "markdown",
   "id": "dense-referral",
   "metadata": {},
   "source": [
    "## Setup"
   ]
  },
  {
   "cell_type": "code",
   "execution_count": null,
   "id": "complicated-billy",
   "metadata": {},
   "outputs": [],
   "source": [
    "# Define location and name of SQL database, create a connection object\n",
    "conn = sqlite3.connect(sql_db)\n",
    "\n",
    "# Creating a Reddit-instance in PRAW with my personal Reddit username, password etc.\n",
    "# Before handing in the project I removed the praw.ini file from this folder, which is why it now gives an error message\n",
    "# See: https://praw.readthedocs.io/en/latest/getting_started/configuration/prawini.html\n",
    "reddit = praw.Reddit(reddit_praw_id)"
   ]
  },
  {
   "cell_type": "code",
   "execution_count": null,
   "id": "incredible-consideration",
   "metadata": {},
   "outputs": [],
   "source": [
    "with conn:\n",
    "    submission_ids = utils.get_submission_ids(conn, 'submissions')"
   ]
  },
  {
   "cell_type": "code",
   "execution_count": null,
   "id": "cleared-alexander",
   "metadata": {},
   "outputs": [],
   "source": [
    "len(submission_ids)"
   ]
  },
  {
   "cell_type": "markdown",
   "id": "regulated-diagnosis",
   "metadata": {},
   "source": [
    "## Collect submissions"
   ]
  },
  {
   "cell_type": "code",
   "execution_count": null,
   "id": "satellite-prince",
   "metadata": {},
   "outputs": [],
   "source": [
    "print(f\"Starting at {datetime.now()}\")\n",
    "submissions_data = []\n",
    "\n",
    "for sort_type in tqdm([\"relevance\", \"hot\", \"top\", \"new\", \"comments\"]):\n",
    "    for submission in reddit.subreddit('movies').search(\"Official Discussion\", sort=sort_type, limit=1000):\n",
    "        \n",
    "        submission_list = [\n",
    "            submission.id,\n",
    "            submission.title,\n",
    "            submission.score,\n",
    "            submission.num_comments,\n",
    "            submission.url,\n",
    "            int(submission.created_utc)\n",
    "        ]\n",
    "\n",
    "        submissions_data.append(submission_list)"
   ]
  },
  {
   "cell_type": "code",
   "execution_count": null,
   "id": "split-software",
   "metadata": {},
   "outputs": [],
   "source": [
    "print(submissions_data[:2])"
   ]
  },
  {
   "cell_type": "code",
   "execution_count": null,
   "id": "considerable-lease",
   "metadata": {},
   "outputs": [],
   "source": [
    "new_submissions = []\n",
    "set_submissions = set()\n",
    "\n",
    "for submission in submissions_data:\n",
    "    if submission[0] not in set_submissions:\n",
    "        if submission[0] not in submission_ids:\n",
    "            new_submissions.append(submission)\n",
    "            set_submissions.add(submission[0])\n",
    "        \n",
    "print(len(new_submissions))"
   ]
  },
  {
   "cell_type": "code",
   "execution_count": null,
   "id": "martial-fellowship",
   "metadata": {},
   "outputs": [],
   "source": [
    "print(utils.interact_with_db(conn, \"SELECT * FROM submissions LIMIT 5\", \"cur.fetchall()\"))"
   ]
  },
  {
   "cell_type": "code",
   "execution_count": null,
   "id": "authorized-respect",
   "metadata": {},
   "outputs": [],
   "source": [
    "n_submission_attributes = 6\n",
    "\n",
    "with conn:\n",
    "    n_submissions = utils.add_rows(conn, 'submissions', n_submission_attributes, submissions_data)"
   ]
  },
  {
   "cell_type": "markdown",
   "id": "international-percentage",
   "metadata": {},
   "source": [
    "# Using r/discussionarchive"
   ]
  },
  {
   "cell_type": "code",
   "execution_count": null,
   "id": "molecular-middle",
   "metadata": {},
   "outputs": [],
   "source": [
    "archive_data = set()\n",
    "\n",
    "for submission in reddit.subreddit('discussionarchive').new(limit=1000):\n",
    "    try:\n",
    "        url = re.findall(\"comments/([^/]+)\", submission.url)[0]\n",
    "        archive_data.add(url)\n",
    "    except:\n",
    "        break\n",
    "    \n",
    "# There are only 812 submissions, so it crashes after that"
   ]
  },
  {
   "cell_type": "code",
   "execution_count": null,
   "id": "liable-diameter",
   "metadata": {},
   "outputs": [],
   "source": [
    "len(archive_data)"
   ]
  },
  {
   "cell_type": "markdown",
   "id": "running-ambassador",
   "metadata": {},
   "source": [
    "## Include those found using pushshift (see other notebook)"
   ]
  },
  {
   "cell_type": "code",
   "execution_count": null,
   "id": "municipal-hybrid",
   "metadata": {},
   "outputs": [],
   "source": [
    "with open(discussionarchive_submissions_pushshift,'r') as f:\n",
    "    archive_pushshift = set(f.read().splitlines())\n",
    "    \n",
    "print(len(archive_pushshift))"
   ]
  },
  {
   "cell_type": "code",
   "execution_count": null,
   "id": "burning-argument",
   "metadata": {},
   "outputs": [],
   "source": [
    "archive_data.update(archive_pushshift)\n",
    "\n",
    "print(len(archive_data))"
   ]
  },
  {
   "cell_type": "markdown",
   "id": "female-nylon",
   "metadata": {},
   "source": [
    "## See what is newly found"
   ]
  },
  {
   "cell_type": "code",
   "execution_count": null,
   "id": "absent-roulette",
   "metadata": {},
   "outputs": [],
   "source": [
    "archive_data.difference_update(submission_ids)\n",
    "\n",
    "print(len(archive_data))"
   ]
  },
  {
   "cell_type": "code",
   "execution_count": null,
   "id": "difficult-caribbean",
   "metadata": {},
   "outputs": [],
   "source": [
    "archive_data.difference_update(set_submissions)\n",
    "\n",
    "print(len(archive_data))"
   ]
  },
  {
   "cell_type": "code",
   "execution_count": null,
   "id": "lovely-colon",
   "metadata": {},
   "outputs": [],
   "source": [
    "archive_data = ['11lgm8']"
   ]
  },
  {
   "cell_type": "markdown",
   "id": "neutral-target",
   "metadata": {},
   "source": [
    "## Collect their submission data"
   ]
  },
  {
   "cell_type": "code",
   "execution_count": null,
   "id": "scenic-treatment",
   "metadata": {},
   "outputs": [],
   "source": [
    "submissions_data = []\n",
    "\n",
    "for sub_id in tqdm(archive_data):\n",
    "    try:\n",
    "        submission = reddit.submission(sub_id)\n",
    "\n",
    "        submission_list = [\n",
    "                submission.id,\n",
    "                submission.title,\n",
    "                submission.score,\n",
    "                submission.num_comments,\n",
    "                submission.url,\n",
    "                int(submission.created_utc)\n",
    "            ]\n",
    "\n",
    "        submissions_data.append(submission_list)\n",
    "    except:\n",
    "        print(f\"Something went wrong with {sub_id}\")"
   ]
  },
  {
   "cell_type": "code",
   "execution_count": null,
   "id": "convinced-competition",
   "metadata": {},
   "outputs": [],
   "source": [
    "print(submissions_data)"
   ]
  },
  {
   "cell_type": "code",
   "execution_count": null,
   "id": "tropical-elimination",
   "metadata": {},
   "outputs": [],
   "source": [
    "len(submissions_data)"
   ]
  },
  {
   "cell_type": "code",
   "execution_count": null,
   "id": "clinical-russia",
   "metadata": {},
   "outputs": [],
   "source": [
    "n_submission_attributes = 6\n",
    "\n",
    "with conn:\n",
    "    n_submissions = utils.add_rows(conn, 'submissions', n_submission_attributes, submissions_data)"
   ]
  },
  {
   "cell_type": "code",
   "execution_count": null,
   "id": "sharp-plane",
   "metadata": {},
   "outputs": [],
   "source": [
    "utils.interact_with_db(conn, \"SELECT COUNT(*) FROM submissions\", \"cur.fetchone()\")"
   ]
  },
  {
   "cell_type": "code",
   "execution_count": null,
   "id": "expanded-encoding",
   "metadata": {},
   "outputs": [],
   "source": [
    "sql = \"DELETE FROM submissions WHERE submission_id IS NULL OR trim(submission_id) = '';\"\n",
    "\n",
    "with conn:\n",
    "    utils.interact_with_db(conn, sql, commit=True)"
   ]
  },
  {
   "cell_type": "code",
   "execution_count": null,
   "id": "clean-burke",
   "metadata": {},
   "outputs": [],
   "source": [
    "utils.interact_with_db(conn, \"SELECT COUNT(*) FROM submissions\", \"cur.fetchone()\")"
   ]
  }
 ],
 "metadata": {
  "kernelspec": {
   "display_name": "Python 3",
   "language": "python",
   "name": "python3"
  },
  "language_info": {
   "codemirror_mode": {
    "name": "ipython",
    "version": 3
   },
   "file_extension": ".py",
   "mimetype": "text/x-python",
   "name": "python",
   "nbconvert_exporter": "python",
   "pygments_lexer": "ipython3",
   "version": "3.9.1"
  }
 },
 "nbformat": 4,
 "nbformat_minor": 5
}
