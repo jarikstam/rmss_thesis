{
 "cells": [
  {
   "cell_type": "markdown",
   "id": "controversial-victorian",
   "metadata": {},
   "source": [
    "# Collecting Reddit submissions\n",
    "\n",
    "## Libraries"
   ]
  },
  {
   "cell_type": "code",
   "execution_count": 28,
   "id": "welcome-sight",
   "metadata": {},
   "outputs": [],
   "source": [
    "import praw\n",
    "from tqdm import tqdm\n",
    "from datetime import datetime\n",
    "import sqlite3\n",
    "import regex as re\n",
    "\n",
    "import utils"
   ]
  },
  {
   "cell_type": "code",
   "execution_count": 63,
   "id": "supposed-mongolia",
   "metadata": {},
   "outputs": [
    {
     "name": "stdout",
     "output_type": "stream",
     "text": [
      "(1612624,)\n"
     ]
    }
   ],
   "source": [
    "print(utils.interact_with_db(conn, \"SELECT COUNT(*) FROM comments\", \"cur.fetchone()\"))"
   ]
  },
  {
   "cell_type": "code",
   "execution_count": 69,
   "id": "irish-kelly",
   "metadata": {},
   "outputs": [
    {
     "name": "stdout",
     "output_type": "stream",
     "text": [
      "(1614398,)\n"
     ]
    }
   ],
   "source": [
    "print(utils.interact_with_db(conn, \"SELECT COUNT(*) FROM comments\", \"cur.fetchone()\"))"
   ]
  },
  {
   "cell_type": "code",
   "execution_count": 64,
   "id": "adopted-failure",
   "metadata": {},
   "outputs": [
    {
     "data": {
      "text/plain": [
       "43653"
      ]
     },
     "execution_count": 64,
     "metadata": {},
     "output_type": "execute_result"
    }
   ],
   "source": [
    "1612624-1568971"
   ]
  },
  {
   "cell_type": "code",
   "execution_count": 70,
   "id": "individual-headset",
   "metadata": {},
   "outputs": [
    {
     "data": {
      "text/plain": [
       "-1774"
      ]
     },
     "execution_count": 70,
     "metadata": {},
     "output_type": "execute_result"
    }
   ],
   "source": [
    "1612624-1614398"
   ]
  },
  {
   "cell_type": "markdown",
   "id": "dense-referral",
   "metadata": {},
   "source": [
    "## Setup"
   ]
  },
  {
   "cell_type": "code",
   "execution_count": 21,
   "id": "complicated-billy",
   "metadata": {
    "scrolled": true
   },
   "outputs": [
    {
     "name": "stderr",
     "output_type": "stream",
     "text": [
      "Version 7.2.0 of praw is outdated. Version 7.5.0 was released Sunday November 14, 2021.\n"
     ]
    }
   ],
   "source": [
    "# Define location and name of SQL database, create a connection object\n",
    "sql_db = './data/film_discussions'\n",
    "conn = sqlite3.connect(sql_db)\n",
    "\n",
    "# Creating a Reddit-instance in PRAW with my personal Reddit username, password etc.\n",
    "# Before handing in the project I removed the praw.ini file from this folder, which is why it now gives an error message\n",
    "# See: https://praw.readthedocs.io/en/latest/getting_started/configuration/prawini.html\n",
    "reddit_praw_id = \"Jarik\"\n",
    "reddit = praw.Reddit(reddit_praw_id)\n",
    "\n",
    "discussionarchive_submissions_pushshift = 'data/discussionarchive_submissions_pushshift.txt'"
   ]
  },
  {
   "cell_type": "code",
   "execution_count": 71,
   "id": "incredible-consideration",
   "metadata": {},
   "outputs": [],
   "source": [
    "with conn:\n",
    "    submission_ids = utils.get_submission_ids(conn, 'submissions')"
   ]
  },
  {
   "cell_type": "markdown",
   "id": "regulated-diagnosis",
   "metadata": {},
   "source": [
    "## Collect submissions"
   ]
  },
  {
   "cell_type": "code",
   "execution_count": null,
   "id": "satellite-prince",
   "metadata": {},
   "outputs": [],
   "source": [
    "print(f\"Starting at {datetime.now()}\")\n",
    "submissions_data = []\n",
    "\n",
    "for sort_type in tqdm([\"relevance\", \"hot\", \"top\", \"new\", \"comments\"]):\n",
    "    for submission in reddit.subreddit('movies').search(\"Official Discussion\", sort=sort_type, limit=1000):\n",
    "\n",
    "        submission_dict = {\n",
    "            \"id\": submission.id,\n",
    "            \"title\": submission.title,\n",
    "            \"score\": submission.score,\n",
    "            \"num_comments\": submission.num_comments,\n",
    "            \"created\": submission.created_utc\n",
    "        }\n",
    "\n",
    "        submissions_data.append(submission_dict)"
   ]
  },
  {
   "cell_type": "code",
   "execution_count": null,
   "id": "split-software",
   "metadata": {},
   "outputs": [],
   "source": [
    "print(submissions_data[:2])"
   ]
  },
  {
   "cell_type": "code",
   "execution_count": null,
   "id": "considerable-lease",
   "metadata": {},
   "outputs": [],
   "source": [
    "new_submissions = []\n",
    "set_submissions = set()\n",
    "\n",
    "for submission in submissions_data:\n",
    "    if submission['id'] not in set_submissions:\n",
    "        if submission['id'] not in submission_ids:\n",
    "            new_submissions.append(submission)\n",
    "            set_submissions.add(submission['id'])\n",
    "        \n",
    "print(len(new_submissions))"
   ]
  },
  {
   "cell_type": "code",
   "execution_count": null,
   "id": "authorized-respect",
   "metadata": {},
   "outputs": [],
   "source": [
    "n_submission_attributes = 5\n",
    "\n",
    "with conn:\n",
    "    n_submissions = utils.add_rows(conn, 'submissions', n_submission_attributes, submissions_data)"
   ]
  },
  {
   "cell_type": "markdown",
   "id": "international-percentage",
   "metadata": {},
   "source": [
    "# Using r/discussionarchive"
   ]
  },
  {
   "cell_type": "code",
   "execution_count": null,
   "id": "molecular-middle",
   "metadata": {},
   "outputs": [],
   "source": [
    "archive_data = set()\n",
    "\n",
    "for submission in reddit.subreddit('discussionarchive').new(limit=1000):\n",
    "    url = re.findall(\"comments/([^/]+)\", submission.url)[0]\n",
    "    archive_data.add(url)\n",
    "    \n",
    "print(len(archive_data))"
   ]
  },
  {
   "cell_type": "markdown",
   "id": "female-nylon",
   "metadata": {},
   "source": [
    "## See what is newly found"
   ]
  },
  {
   "cell_type": "code",
   "execution_count": null,
   "id": "absent-roulette",
   "metadata": {},
   "outputs": [],
   "source": [
    "archive_data.difference_update(submission_ids)\n",
    "\n",
    "print(len(archive_data))"
   ]
  },
  {
   "cell_type": "code",
   "execution_count": null,
   "id": "difficult-caribbean",
   "metadata": {},
   "outputs": [],
   "source": [
    "archive_data.difference_update(set_submissions)\n",
    "\n",
    "print(len(archive_data))"
   ]
  },
  {
   "cell_type": "markdown",
   "id": "running-ambassador",
   "metadata": {},
   "source": [
    "## Include those found using pushshift (see other notebook)"
   ]
  },
  {
   "cell_type": "code",
   "execution_count": null,
   "id": "municipal-hybrid",
   "metadata": {},
   "outputs": [],
   "source": [
    "with open(discussionarchive_submissions_pushshift,'r') as f:\n",
    "    archive_pushshift = set(f.read().splitlines())\n",
    "    \n",
    "print(len(archive_pushshift))"
   ]
  },
  {
   "cell_type": "code",
   "execution_count": null,
   "id": "burning-argument",
   "metadata": {},
   "outputs": [],
   "source": [
    "archive_data.update(archive_pushshift)\n",
    "\n",
    "print(len(archive_data))"
   ]
  },
  {
   "cell_type": "markdown",
   "id": "neutral-target",
   "metadata": {},
   "source": [
    "## Collect their submission data"
   ]
  },
  {
   "cell_type": "code",
   "execution_count": null,
   "id": "scenic-treatment",
   "metadata": {},
   "outputs": [],
   "source": [
    "submissions_data = []\n",
    "\n",
    "for sub_id in archive_data:\n",
    "    submission = reddit.submission(sub_id)\n",
    "\n",
    "    submission_dict = {\n",
    "        \"id\": submission.id,\n",
    "        \"title\": submission.title,\n",
    "        \"score\": submission.score,\n",
    "        \"num_comments\": submission.num_comments,\n",
    "        \"created\": submission.created_utc\n",
    "    }\n",
    "\n",
    "    submissions_data.append(submission_dict)"
   ]
  },
  {
   "cell_type": "code",
   "execution_count": null,
   "id": "convinced-competition",
   "metadata": {},
   "outputs": [],
   "source": [
    "print(submissions_data[:2])"
   ]
  },
  {
   "cell_type": "markdown",
   "id": "fossil-stamp",
   "metadata": {},
   "source": [
    "## Store submissions"
   ]
  },
  {
   "cell_type": "code",
   "execution_count": null,
   "id": "clinical-russia",
   "metadata": {},
   "outputs": [],
   "source": [
    "n_submission_attributes = 5\n",
    "\n",
    "with conn:\n",
    "    n_submissions = utils.add_rows(conn, 'submissions', n_submission_attributes, submissions_data)"
   ]
  }
 ],
 "metadata": {
  "kernelspec": {
   "display_name": "Python 3",
   "language": "python",
   "name": "python3"
  },
  "language_info": {
   "codemirror_mode": {
    "name": "ipython",
    "version": 3
   },
   "file_extension": ".py",
   "mimetype": "text/x-python",
   "name": "python",
   "nbconvert_exporter": "python",
   "pygments_lexer": "ipython3",
   "version": "3.9.1"
  }
 },
 "nbformat": 4,
 "nbformat_minor": 5
}
