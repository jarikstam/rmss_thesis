{
 "cells": [
  {
   "cell_type": "markdown",
   "id": "controversial-victorian",
   "metadata": {},
   "source": [
    "# Collecting Reddit submissions\n",
    "\n",
    "## Libraries"
   ]
  },
  {
   "cell_type": "code",
   "execution_count": 1,
   "id": "welcome-sight",
   "metadata": {},
   "outputs": [],
   "source": [
    "import praw\n",
    "from tqdm import tqdm\n",
    "from datetime import datetime\n",
    "import sqlite3\n",
    "import regex as re\n",
    "\n",
    "import utils\n",
    "from params import sql_db, discussionarchive_submissions_pushshift, reddit_praw_id"
   ]
  },
  {
   "cell_type": "markdown",
   "id": "dense-referral",
   "metadata": {},
   "source": [
    "## Setup"
   ]
  },
  {
   "cell_type": "code",
   "execution_count": 2,
   "id": "complicated-billy",
   "metadata": {
    "scrolled": true
   },
   "outputs": [
    {
     "name": "stderr",
     "output_type": "stream",
     "text": [
      "Version 7.2.0 of praw is outdated. Version 7.5.0 was released Sunday November 14, 2021.\n"
     ]
    }
   ],
   "source": [
    "# Define location and name of SQL database, create a connection object\n",
    "conn = sqlite3.connect(sql_db)\n",
    "\n",
    "# Creating a Reddit-instance in PRAW with my personal Reddit username, password etc.\n",
    "# Before handing in the project I removed the praw.ini file from this folder, which is why it now gives an error message\n",
    "# See: https://praw.readthedocs.io/en/latest/getting_started/configuration/prawini.html\n",
    "reddit = praw.Reddit(reddit_praw_id)"
   ]
  },
  {
   "cell_type": "code",
   "execution_count": 3,
   "id": "incredible-consideration",
   "metadata": {},
   "outputs": [],
   "source": [
    "with conn:\n",
    "    submission_ids = utils.get_submission_ids(conn, 'submissions')"
   ]
  },
  {
   "cell_type": "code",
   "execution_count": 10,
   "id": "cleared-alexander",
   "metadata": {},
   "outputs": [
    {
     "data": {
      "text/plain": [
       "1774"
      ]
     },
     "execution_count": 10,
     "metadata": {},
     "output_type": "execute_result"
    }
   ],
   "source": [
    "len(submission_ids)"
   ]
  },
  {
   "cell_type": "markdown",
   "id": "regulated-diagnosis",
   "metadata": {},
   "source": [
    "## Collect submissions"
   ]
  },
  {
   "cell_type": "code",
   "execution_count": 18,
   "id": "satellite-prince",
   "metadata": {},
   "outputs": [
    {
     "name": "stderr",
     "output_type": "stream",
     "text": [
      "\r",
      "  0%|                                                                                            | 0/5 [00:00<?, ?it/s]"
     ]
    },
    {
     "name": "stdout",
     "output_type": "stream",
     "text": [
      "Starting at 2022-02-14 11:45:28.672150\n"
     ]
    },
    {
     "name": "stderr",
     "output_type": "stream",
     "text": [
      "100%|████████████████████████████████████████████████████████████████████████████████████| 5/5 [00:27<00:00,  5.42s/it]\n"
     ]
    }
   ],
   "source": [
    "print(f\"Starting at {datetime.now()}\")\n",
    "submissions_data = []\n",
    "\n",
    "for sort_type in tqdm([\"relevance\", \"hot\", \"top\", \"new\", \"comments\"]):\n",
    "    for submission in reddit.subreddit('movies').search(\"Official Discussion\", sort=sort_type, limit=1000):\n",
    "        \n",
    "        submission_list = [\n",
    "            submission.id,\n",
    "            submission.title,\n",
    "            submission.score,\n",
    "            submission.num_comments,\n",
    "            submission.url,\n",
    "            int(submission.created_utc)\n",
    "        ]\n",
    "\n",
    "        submissions_data.append(submission_list)"
   ]
  },
  {
   "cell_type": "code",
   "execution_count": 19,
   "id": "split-software",
   "metadata": {},
   "outputs": [
    {
     "name": "stdout",
     "output_type": "stream",
     "text": [
      "[['ri7eum', 'Official Discussion - Spider-Man: No Way Home [SPOILERS]', 13119, 21125, 'https://www.reddit.com/r/movies/comments/ri7eum/official_discussion_spiderman_no_way_home_spoilers/', 1639710193], ['rmf1h8', 'Official Discussion - The Matrix Resurrections [SPOILERS]', 3317, 12753, 'https://www.reddit.com/r/movies/comments/rmf1h8/official_discussion_the_matrix_resurrections/', 1640207857]]\n"
     ]
    }
   ],
   "source": [
    "print(submissions_data[:2])"
   ]
  },
  {
   "cell_type": "code",
   "execution_count": 22,
   "id": "considerable-lease",
   "metadata": {},
   "outputs": [
    {
     "name": "stdout",
     "output_type": "stream",
     "text": [
      "130\n"
     ]
    }
   ],
   "source": [
    "new_submissions = []\n",
    "set_submissions = set()\n",
    "\n",
    "for submission in submissions_data:\n",
    "    if submission[0] not in set_submissions:\n",
    "        if submission[0] not in submission_ids:\n",
    "            new_submissions.append(submission)\n",
    "            set_submissions.add(submission[0])\n",
    "        \n",
    "print(len(new_submissions))"
   ]
  },
  {
   "cell_type": "code",
   "execution_count": 25,
   "id": "martial-fellowship",
   "metadata": {},
   "outputs": [
    {
     "name": "stdout",
     "output_type": "stream",
     "text": [
      "[('sk2fq3', \"I don't see an official discussion yet. Moonfall - wtf?\", 1, 0, 'https://www.reddit.com/r/movies/comments/sk2fq3/i_dont_see_an_official_discussion_yet_moonfall_wtf/', 1643943702), ('sk2cae', \"I don't see an official discussion yet. Moonfall - what the fuck?\", 1, 0, 'https://www.reddit.com/r/movies/comments/sk2cae/i_dont_see_an_official_discussion_yet_moonfall/', 1643943448), ('s2n3uw', 'No official movie discussion thread for The 355?', 1, 0, 'https://www.reddit.com/r/movies/comments/s2n3uw/no_official_movie_discussion_thread_for_the_355/', 1642038292), ('rscxqu', '[Official Discussion] Spider-Man: No Way Home streaming-Reddit', 1, 1, 'https://www.reddit.com/r/HDSpiderManNoWayHome/', 1640900270), ('rlvvkr', \"Official Discussion Megathread +Holiday week Discussion schedule (Nightmare Alley / Spider-Man: No Way Home / Red Rocket / The King's Man / Being the Ricardos / Swan Song)\", 1, 0, 'https://www.reddit.com/r/movies/comments/rlvvkr/official_discussion_megathread_holiday_week/', 1640143798)]\n"
     ]
    }
   ],
   "source": [
    "print(utils.interact_with_db(conn, \"SELECT * FROM submissions LIMIT 5\", \"cur.fetchall()\"))"
   ]
  },
  {
   "cell_type": "code",
   "execution_count": 24,
   "id": "authorized-respect",
   "metadata": {},
   "outputs": [],
   "source": [
    "n_submission_attributes = 6\n",
    "\n",
    "with conn:\n",
    "    n_submissions = utils.add_rows(conn, 'submissions', n_submission_attributes, submissions_data)"
   ]
  },
  {
   "cell_type": "markdown",
   "id": "international-percentage",
   "metadata": {},
   "source": [
    "# Using r/discussionarchive"
   ]
  },
  {
   "cell_type": "code",
   "execution_count": 36,
   "id": "molecular-middle",
   "metadata": {},
   "outputs": [],
   "source": [
    "archive_data = set()\n",
    "\n",
    "for submission in reddit.subreddit('discussionarchive').new(limit=1000):\n",
    "    try:\n",
    "        url = re.findall(\"comments/([^/]+)\", submission.url)[0]\n",
    "        archive_data.add(url)\n",
    "    except:\n",
    "        break\n",
    "    \n",
    "# There are only 812 submissions, so it crashes after that"
   ]
  },
  {
   "cell_type": "code",
   "execution_count": 37,
   "id": "liable-diameter",
   "metadata": {},
   "outputs": [
    {
     "data": {
      "text/plain": [
       "812"
      ]
     },
     "execution_count": 37,
     "metadata": {},
     "output_type": "execute_result"
    }
   ],
   "source": [
    "len(archive_data)"
   ]
  },
  {
   "cell_type": "markdown",
   "id": "running-ambassador",
   "metadata": {},
   "source": [
    "## Include those found using pushshift (see other notebook)"
   ]
  },
  {
   "cell_type": "code",
   "execution_count": 38,
   "id": "municipal-hybrid",
   "metadata": {},
   "outputs": [
    {
     "name": "stdout",
     "output_type": "stream",
     "text": [
      "831\n"
     ]
    }
   ],
   "source": [
    "with open(discussionarchive_submissions_pushshift,'r') as f:\n",
    "    archive_pushshift = set(f.read().splitlines())\n",
    "    \n",
    "print(len(archive_pushshift))"
   ]
  },
  {
   "cell_type": "code",
   "execution_count": 39,
   "id": "burning-argument",
   "metadata": {},
   "outputs": [
    {
     "name": "stdout",
     "output_type": "stream",
     "text": [
      "962\n"
     ]
    }
   ],
   "source": [
    "archive_data.update(archive_pushshift)\n",
    "\n",
    "print(len(archive_data))"
   ]
  },
  {
   "cell_type": "markdown",
   "id": "female-nylon",
   "metadata": {},
   "source": [
    "## See what is newly found"
   ]
  },
  {
   "cell_type": "code",
   "execution_count": 40,
   "id": "absent-roulette",
   "metadata": {},
   "outputs": [
    {
     "name": "stdout",
     "output_type": "stream",
     "text": [
      "214\n"
     ]
    }
   ],
   "source": [
    "archive_data.difference_update(submission_ids)\n",
    "\n",
    "print(len(archive_data))"
   ]
  },
  {
   "cell_type": "code",
   "execution_count": 41,
   "id": "difficult-caribbean",
   "metadata": {},
   "outputs": [
    {
     "name": "stdout",
     "output_type": "stream",
     "text": [
      "146\n"
     ]
    }
   ],
   "source": [
    "archive_data.difference_update(set_submissions)\n",
    "\n",
    "print(len(archive_data))"
   ]
  },
  {
   "cell_type": "code",
   "execution_count": 3,
   "id": "lovely-colon",
   "metadata": {},
   "outputs": [],
   "source": [
    "archive_data = ['11lgm8']"
   ]
  },
  {
   "cell_type": "markdown",
   "id": "neutral-target",
   "metadata": {},
   "source": [
    "## Collect their submission data"
   ]
  },
  {
   "cell_type": "code",
   "execution_count": 4,
   "id": "scenic-treatment",
   "metadata": {
    "scrolled": true
   },
   "outputs": [
    {
     "name": "stderr",
     "output_type": "stream",
     "text": [
      "100%|████████████████████████████████████████████████████████████████████████████████████| 1/1 [00:01<00:00,  1.08s/it]\n"
     ]
    }
   ],
   "source": [
    "submissions_data = []\n",
    "\n",
    "for sub_id in tqdm(archive_data):\n",
    "    try:\n",
    "        submission = reddit.submission(sub_id)\n",
    "\n",
    "        submission_list = [\n",
    "                submission.id,\n",
    "                submission.title,\n",
    "                submission.score,\n",
    "                submission.num_comments,\n",
    "                submission.url,\n",
    "                int(submission.created_utc)\n",
    "            ]\n",
    "\n",
    "        submissions_data.append(submission_list)\n",
    "    except:\n",
    "        print(f\"Something went wrong with {sub_id}\")"
   ]
  },
  {
   "cell_type": "code",
   "execution_count": 5,
   "id": "convinced-competition",
   "metadata": {},
   "outputs": [
    {
     "name": "stdout",
     "output_type": "stream",
     "text": [
      "[['11lgm8', '31 Days of Halloween - 10/16 - Official Discussion Thread - \"Psycho\"\\n\\n', 3, 4, 'https://www.reddit.com/r/movies/comments/11lgm8/31_days_of_halloween_1016_official_discussion/', 1350427259]]\n"
     ]
    }
   ],
   "source": [
    "print(submissions_data)"
   ]
  },
  {
   "cell_type": "code",
   "execution_count": 52,
   "id": "tropical-elimination",
   "metadata": {},
   "outputs": [
    {
     "data": {
      "text/plain": [
       "144"
      ]
     },
     "execution_count": 52,
     "metadata": {},
     "output_type": "execute_result"
    }
   ],
   "source": [
    "len(submissions_data)"
   ]
  },
  {
   "cell_type": "code",
   "execution_count": 6,
   "id": "clinical-russia",
   "metadata": {},
   "outputs": [],
   "source": [
    "n_submission_attributes = 6\n",
    "\n",
    "with conn:\n",
    "    n_submissions = utils.add_rows(conn, 'submissions', n_submission_attributes, submissions_data)"
   ]
  },
  {
   "cell_type": "code",
   "execution_count": 7,
   "id": "sharp-plane",
   "metadata": {},
   "outputs": [
    {
     "data": {
      "text/plain": [
       "(2048,)"
      ]
     },
     "execution_count": 7,
     "metadata": {},
     "output_type": "execute_result"
    }
   ],
   "source": [
    "utils.interact_with_db(conn, \"SELECT COUNT(*) FROM submissions\", \"cur.fetchone()\")"
   ]
  },
  {
   "cell_type": "code",
   "execution_count": 10,
   "id": "expanded-encoding",
   "metadata": {},
   "outputs": [],
   "source": [
    "sql = \"DELETE FROM submissions WHERE submission_id IS NULL OR trim(submission_id) = '';\"\n",
    "\n",
    "with conn:\n",
    "    utils.interact_with_db(conn, sql, commit=True)"
   ]
  },
  {
   "cell_type": "code",
   "execution_count": 11,
   "id": "clean-burke",
   "metadata": {},
   "outputs": [
    {
     "data": {
      "text/plain": [
       "(2048,)"
      ]
     },
     "execution_count": 11,
     "metadata": {},
     "output_type": "execute_result"
    }
   ],
   "source": [
    "utils.interact_with_db(conn, \"SELECT COUNT(*) FROM submissions\", \"cur.fetchone()\")"
   ]
  }
 ],
 "metadata": {
  "kernelspec": {
   "display_name": "Python 3",
   "language": "python",
   "name": "python3"
  },
  "language_info": {
   "codemirror_mode": {
    "name": "ipython",
    "version": 3
   },
   "file_extension": ".py",
   "mimetype": "text/x-python",
   "name": "python",
   "nbconvert_exporter": "python",
   "pygments_lexer": "ipython3",
   "version": "3.9.1"
  }
 },
 "nbformat": 4,
 "nbformat_minor": 5
}
