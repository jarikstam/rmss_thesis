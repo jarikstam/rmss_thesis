{
 "cells": [
  {
   "cell_type": "code",
   "execution_count": null,
   "id": "enabling-institute",
   "metadata": {},
   "outputs": [],
   "source": [
    "import utils\n",
    "import pandas as pd\n",
    "from tqdm import tqdm\n",
    "from nltk import sent_tokenize\n",
    "import pickle\n",
    "import regex as re\n",
    "\n",
    "from gensim.models.word2vec import LineSentence\n",
    "from gensim.models.phrases import Phrases, ENGLISH_CONNECTOR_WORDS\n",
    "\n",
    "from time import perf_counter\n",
    "\n",
    "from params import comments_file, tokenized_sents_file, tokenized_comments_text_file"
   ]
  },
  {
   "cell_type": "code",
   "execution_count": null,
   "id": "african-selling",
   "metadata": {},
   "outputs": [],
   "source": [
    "# Tokenized sentences for processing with word2vec\n",
    "tokens_file = './data/tokens.txt'\n",
    "ngrams_file = './data/ngrams'"
   ]
  },
  {
   "cell_type": "markdown",
   "id": "rough-product",
   "metadata": {},
   "source": [
    "## Tokenize comments\n",
    "- Convert comments to lowercase, replace accented letters\n",
    "- Split comments into sentences and make sure all sentences are unique\n",
    "- Then split sentences into tokens using TreebankWordTokenizer, removing tokens that are only punctuation\n",
    "- Finally save the sentences (one sentence per line) which is the input required for Gensim word2vec"
   ]
  },
  {
   "cell_type": "code",
   "execution_count": null,
   "id": "macro-harvey",
   "metadata": {},
   "outputs": [],
   "source": [
    "comments = pd.read_csv(comments_file, sep=';')['body'].tolist()"
   ]
  },
  {
   "cell_type": "code",
   "execution_count": null,
   "id": "complete-reasoning",
   "metadata": {},
   "outputs": [],
   "source": [
    "comments[:5]"
   ]
  },
  {
   "cell_type": "code",
   "execution_count": null,
   "id": "reflected-circus",
   "metadata": {},
   "outputs": [],
   "source": [
    "unique_sentences = set()\n",
    "\n",
    "for comment in tqdm(comments):\n",
    "    comment = str(comment)\n",
    "    comment = comment.lower()\n",
    "    comment = utils.strip_accents(comment)\n",
    "    \n",
    "    for sent in sent_tokenize(comment):\n",
    "        sent = sent.strip()\n",
    "        sent = utils.tokenize_sentence(sent)\n",
    "        text_sent = \" \".join(sent)\n",
    "        unique_sentences.add(text_sent)"
   ]
  },
  {
   "cell_type": "code",
   "execution_count": null,
   "id": "revised-trademark",
   "metadata": {},
   "outputs": [],
   "source": [
    "x=0\n",
    "print(len(unique_sentences))\n",
    "\n",
    "for i in unique_sentences:\n",
    "    if x == 5:\n",
    "        break\n",
    "    print(i)\n",
    "    x += 1"
   ]
  },
  {
   "cell_type": "code",
   "execution_count": null,
   "id": "trying-muscle",
   "metadata": {},
   "outputs": [],
   "source": [
    "with open(tokens_file, 'w') as f:\n",
    "    for sent in tqdm(unique_sentences):\n",
    "        f.write(sent+\"\\n\")"
   ]
  },
  {
   "cell_type": "code",
   "execution_count": null,
   "id": "charged-bernard",
   "metadata": {},
   "outputs": [],
   "source": [
    "# Learn ngrams\n",
    "sentences = LineSentence(tokens_file)"
   ]
  },
  {
   "cell_type": "code",
   "execution_count": null,
   "id": "rational-spare",
   "metadata": {},
   "outputs": [],
   "source": [
    "ngrams = Phrases(sentences, connector_words=ENGLISH_CONNECTOR_WORDS, min_count=15)\n",
    "ngrams.save(ngrams_file)"
   ]
  },
  {
   "cell_type": "code",
   "execution_count": null,
   "id": "confirmed-bullet",
   "metadata": {},
   "outputs": [],
   "source": [
    "ngrams = Phrases.load(ngrams_file)"
   ]
  },
  {
   "cell_type": "code",
   "execution_count": null,
   "id": "confused-subscriber",
   "metadata": {},
   "outputs": [],
   "source": [
    "with open(tokenized_sents_file, 'w') as f:\n",
    "    for sent in tqdm(sentences):\n",
    "        tokenized_sent = ngrams[sent]\n",
    "        text_sent = \" \".join(tokenized_sent)\n",
    "        f.write(text_sent+\"\\n\")"
   ]
  },
  {
   "cell_type": "code",
   "execution_count": null,
   "id": "green-immune",
   "metadata": {},
   "outputs": [],
   "source": [
    "x=0\n",
    "for i in sentences:\n",
    "    print(ngrams[i])\n",
    "    x+=1\n",
    "    if x == 2:\n",
    "        break"
   ]
  },
  {
   "cell_type": "code",
   "execution_count": null,
   "id": "piano-benefit",
   "metadata": {},
   "outputs": [],
   "source": [
    "with open(tokenized_comments_text_file, 'w') as f:\n",
    "    \n",
    "    for comment in tqdm(comments):\n",
    "        comment = str(comment)\n",
    "        comment = comment.lower()\n",
    "        comment = utils.strip_accents(comment)\n",
    "\n",
    "        tokenized_comment = \"\"\n",
    "\n",
    "        for sent in sent_tokenize(comment):\n",
    "            sent = sent.strip()\n",
    "            sent = utils.tokenize_sentence(sent)\n",
    "            x = ngrams[sent]\n",
    "            tokenized_comment += \" \".join(x)+\" \"\n",
    "            \n",
    "        tokenized_comment = tokenized_comment.strip()\n",
    "        f.write(tokenized_comment+\"\\n\")"
   ]
  }
 ],
 "metadata": {
  "kernelspec": {
   "display_name": "Python 3",
   "language": "python",
   "name": "python3"
  },
  "language_info": {
   "codemirror_mode": {
    "name": "ipython",
    "version": 3
   },
   "file_extension": ".py",
   "mimetype": "text/x-python",
   "name": "python",
   "nbconvert_exporter": "python",
   "pygments_lexer": "ipython3",
   "version": "3.9.1"
  }
 },
 "nbformat": 4,
 "nbformat_minor": 5
}
