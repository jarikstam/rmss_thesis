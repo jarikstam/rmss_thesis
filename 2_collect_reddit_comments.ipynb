{
 "cells": [
  {
   "cell_type": "markdown",
   "id": "controversial-victorian",
   "metadata": {},
   "source": [
    "# Collecting Reddit comments\n",
    "\n",
    "## Libraries"
   ]
  },
  {
   "cell_type": "code",
   "execution_count": 1,
   "id": "welcome-sight",
   "metadata": {},
   "outputs": [],
   "source": [
    "from tqdm import tqdm\n",
    "from datetime import datetime\n",
    "import sqlite3\n",
    "import time\n",
    "\n",
    "import utils"
   ]
  },
  {
   "cell_type": "markdown",
   "id": "dense-referral",
   "metadata": {},
   "source": [
    "## Setup"
   ]
  },
  {
   "cell_type": "code",
   "execution_count": 2,
   "id": "complicated-billy",
   "metadata": {},
   "outputs": [],
   "source": [
    "# Define search parameters\n",
    "param_dict = {'size':1000,\n",
    "             }\n",
    "\n",
    "comment_keys = ('id', 'link_id', 'body', 'author', 'score', \"created_utc\")\n",
    "\n",
    "# Define comment_limit, the number of comments to be obtained\n",
    "comment_limit = 250000\n",
    "\n",
    "# Define location and name of SQL database, create a connection object\n",
    "sql_db = './data/film_discussions'\n",
    "conn = sqlite3.connect(sql_db)"
   ]
  },
  {
   "cell_type": "markdown",
   "id": "shared-dance",
   "metadata": {},
   "source": [
    "## Create SQL database"
   ]
  },
  {
   "cell_type": "code",
   "execution_count": 3,
   "id": "electric-empty",
   "metadata": {},
   "outputs": [],
   "source": [
    "sql_create_comments_table = \"\"\"CREATE TABLE IF NOT EXISTS comments (\n",
    "                                comment_id text PRIMARY KEY,\n",
    "                                submission_id text,\n",
    "                                body text,\n",
    "                                author text,\n",
    "                                score integer,\n",
    "                                created integer,\n",
    "                                FOREIGN KEY (submission_id) REFERENCES submissions (submission_id)\n",
    "                            );\"\"\"\n",
    "\n",
    "with conn:\n",
    "    utils.interact_with_db(conn, sql_create_comments_table)"
   ]
  },
  {
   "cell_type": "markdown",
   "id": "institutional-violence",
   "metadata": {},
   "source": [
    "## Determine for which submissions I still need to collect comments"
   ]
  },
  {
   "cell_type": "code",
   "execution_count": 4,
   "id": "cognitive-river",
   "metadata": {},
   "outputs": [
    {
     "name": "stdout",
     "output_type": "stream",
     "text": [
      "There are 1003 submissions for which no comments have been gathered\n"
     ]
    }
   ],
   "source": [
    "# List submission IDs\n",
    "# Because I didn't download all the comments in one go, the difference_update allows me to continue where I left off.  \n",
    "\n",
    "with conn:\n",
    "    submission_ids = utils.get_submission_ids(conn, 'submissions')\n",
    "    sub_ids_comments = utils.get_submission_ids(conn, 'comments')\n",
    "\n",
    "# Update difference   \n",
    "submission_ids.difference_update(sub_ids_comments)\n",
    "print(f\"There are {len(submission_ids)} submissions for which no comments have been gathered\")"
   ]
  },
  {
   "cell_type": "code",
   "execution_count": 35,
   "id": "ordered-celebration",
   "metadata": {},
   "outputs": [],
   "source": [
    "submission_ids = {'7jwxnd'}"
   ]
  },
  {
   "cell_type": "markdown",
   "id": "regulated-diagnosis",
   "metadata": {},
   "source": [
    "## Collect comments"
   ]
  },
  {
   "cell_type": "code",
   "execution_count": 47,
   "id": "comprehensive-motel",
   "metadata": {
    "scrolled": true
   },
   "outputs": [
    {
     "name": "stderr",
     "output_type": "stream",
     "text": [
      "\r",
      "  0%|                                                                                       | 0/250000 [00:00<?, ?it/s]"
     ]
    },
    {
     "name": "stdout",
     "output_type": "stream",
     "text": [
      "Starting at 2022-02-16 22:21:34.566404\n"
     ]
    },
    {
     "name": "stderr",
     "output_type": "stream",
     "text": [
      "  2%|█▋                                                                        | 5600/250000 [04:31<3:06:01, 21.90it/s]"
     ]
    },
    {
     "name": "stdout",
     "output_type": "stream",
     "text": [
      "zzz @ 2022-02-16 22:26:19.016870\n"
     ]
    },
    {
     "name": "stderr",
     "output_type": "stream",
     "text": [
      "  4%|██▋                                                                       | 8899/250000 [08:39<3:01:02, 22.20it/s]"
     ]
    },
    {
     "name": "stdout",
     "output_type": "stream",
     "text": [
      "zzz @ 2022-02-16 22:30:14.628548\n"
     ]
    },
    {
     "name": "stderr",
     "output_type": "stream",
     "text": [
      "  5%|███▍                                                                     | 11699/250000 [11:50<3:01:18, 21.91it/s]"
     ]
    },
    {
     "name": "stdout",
     "output_type": "stream",
     "text": [
      "zzz @ 2022-02-16 22:33:36.308654\n"
     ]
    },
    {
     "name": "stderr",
     "output_type": "stream",
     "text": [
      "  5%|███▌                                                                     | 12099/250000 [13:29<8:07:00,  8.14it/s]"
     ]
    },
    {
     "name": "stdout",
     "output_type": "stream",
     "text": [
      "zzz @ 2022-02-16 22:35:05.046037\n"
     ]
    },
    {
     "name": "stderr",
     "output_type": "stream",
     "text": [
      "  9%|██████▋                                                                  | 22896/250000 [25:35<3:32:09, 17.84it/s]"
     ]
    },
    {
     "name": "stdout",
     "output_type": "stream",
     "text": [
      "zzz @ 2022-02-16 22:47:21.460709\n"
     ]
    },
    {
     "name": "stderr",
     "output_type": "stream",
     "text": [
      " 10%|███████                                                                  | 23995/250000 [27:32<3:22:54, 18.56it/s]"
     ]
    },
    {
     "name": "stdout",
     "output_type": "stream",
     "text": [
      "zzz @ 2022-02-16 22:49:23.112501\n"
     ]
    },
    {
     "name": "stderr",
     "output_type": "stream",
     "text": [
      " 10%|███████▍                                                                 | 25595/250000 [30:07<3:42:47, 16.79it/s]"
     ]
    },
    {
     "name": "stdout",
     "output_type": "stream",
     "text": [
      "zzz @ 2022-02-16 22:51:53.063285\n"
     ]
    },
    {
     "name": "stderr",
     "output_type": "stream",
     "text": [
      " 12%|████████▊                                                                | 30194/250000 [35:27<3:15:45, 18.71it/s]"
     ]
    },
    {
     "name": "stdout",
     "output_type": "stream",
     "text": [
      "zzz @ 2022-02-16 22:57:14.713691\n"
     ]
    },
    {
     "name": "stderr",
     "output_type": "stream",
     "text": [
      " 12%|████████▉                                                                | 30594/250000 [37:10<7:31:14,  8.10it/s]"
     ]
    },
    {
     "name": "stdout",
     "output_type": "stream",
     "text": [
      "zzz @ 2022-02-16 22:58:50.237087\n"
     ]
    },
    {
     "name": "stderr",
     "output_type": "stream",
     "text": [
      " 14%|██████████▌                                                              | 36191/250000 [43:26<3:28:31, 17.09it/s]"
     ]
    },
    {
     "name": "stdout",
     "output_type": "stream",
     "text": [
      "zzz @ 2022-02-16 23:05:12.776329\n"
     ]
    },
    {
     "name": "stderr",
     "output_type": "stream",
     "text": [
      " 16%|███████████▌                                                             | 39788/250000 [47:08<2:00:00, 29.19it/s]"
     ]
    },
    {
     "name": "stdout",
     "output_type": "stream",
     "text": [
      "zzz @ 2022-02-16 23:08:54.839196\n"
     ]
    },
    {
     "name": "stderr",
     "output_type": "stream",
     "text": [
      " 18%|█████████████▍                                                           | 45988/250000 [53:35<3:39:39, 15.48it/s]"
     ]
    },
    {
     "name": "stdout",
     "output_type": "stream",
     "text": [
      "zzz @ 2022-02-16 23:15:21.524078\n"
     ]
    },
    {
     "name": "stderr",
     "output_type": "stream",
     "text": [
      " 24%|████████████████▋                                                      | 58878/250000 [1:04:03<2:42:59, 19.54it/s]"
     ]
    },
    {
     "name": "stdout",
     "output_type": "stream",
     "text": [
      "zzz @ 2022-02-16 23:25:50.637557\n"
     ]
    },
    {
     "name": "stderr",
     "output_type": "stream",
     "text": [
      " 24%|█████████████████▏                                                     | 60578/250000 [1:06:49<2:47:52, 18.81it/s]"
     ]
    },
    {
     "name": "stdout",
     "output_type": "stream",
     "text": [
      "zzz @ 2022-02-16 23:28:35.712021\n"
     ]
    },
    {
     "name": "stderr",
     "output_type": "stream",
     "text": [
      " 25%|█████████████████▍                                                     | 61278/250000 [1:08:37<4:02:24, 12.98it/s]"
     ]
    },
    {
     "name": "stdout",
     "output_type": "stream",
     "text": [
      "zzz @ 2022-02-16 23:30:24.159702\n"
     ]
    },
    {
     "name": "stderr",
     "output_type": "stream",
     "text": [
      " 26%|██████████████████▋                                                    | 65875/250000 [1:13:19<2:50:34, 17.99it/s]"
     ]
    },
    {
     "name": "stdout",
     "output_type": "stream",
     "text": [
      "zzz @ 2022-02-16 23:35:05.678161\n"
     ]
    },
    {
     "name": "stderr",
     "output_type": "stream",
     "text": [
      " 29%|████████████████████▎                                                  | 71667/250000 [1:18:39<2:32:36, 19.48it/s]"
     ]
    },
    {
     "name": "stdout",
     "output_type": "stream",
     "text": [
      "zzz @ 2022-02-16 23:40:25.151159\n"
     ]
    },
    {
     "name": "stderr",
     "output_type": "stream",
     "text": [
      " 30%|█████████████████████▍                                                 | 75665/250000 [1:22:59<2:43:08, 17.81it/s]"
     ]
    },
    {
     "name": "stdout",
     "output_type": "stream",
     "text": [
      "zzz @ 2022-02-16 23:44:45.408328\n"
     ]
    },
    {
     "name": "stderr",
     "output_type": "stream",
     "text": [
      " 32%|██████████████████████▍                                                | 78847/250000 [1:26:56<3:08:43, 15.12it/s]"
     ]
    },
    {
     "name": "stdout",
     "output_type": "stream",
     "text": [
      "Finished at 2022-02-16 23:48:30.979095\n"
     ]
    },
    {
     "name": "stderr",
     "output_type": "stream",
     "text": [
      "\n"
     ]
    }
   ],
   "source": [
    "print(f\"Starting at {datetime.now()}\")\n",
    "comment_count = 0\n",
    "n_comment_attributes = len(comment_keys)\n",
    "submission_errors = set()\n",
    "data_errors = []\n",
    "\n",
    "with tqdm(total=comment_limit) as pbar:\n",
    "    for submission_id in submission_ids:\n",
    "        \n",
    "        if comment_count < comment_limit:\n",
    "            try:\n",
    "                param_dict['link_id'] = submission_id\n",
    "                #param_dict['before'] = int(time.time())\n",
    "                try:\n",
    "                    data = utils.get_pushshift_data(param_dict, 'https://api.pushshift.io/reddit/search/comment/?')\n",
    "                except:\n",
    "                    time.sleep(60)\n",
    "                    data = utils.get_pushshift_data(param_dict, 'https://api.pushshift.io/reddit/search/comment/?')\n",
    "                                \n",
    "                while len(data) > 0: \n",
    "\n",
    "                    # Collect comments\n",
    "                    comments_data = []\n",
    "                    for comment in data:\n",
    "                        try:\n",
    "                            comments_data.append(utils.collect_submission_data(comment, keys=comment_keys))\n",
    "                        except:\n",
    "                            continue\n",
    "                    #comments_data = [utils.collect_submission_data(comment, keys=comment_keys) for comment in data]\n",
    "\n",
    "                    for comment in comments_data:\n",
    "                            comment[1] = submission_id\n",
    "                            \n",
    "                    # Save the comments to the database\n",
    "                    with conn:\n",
    "                        n_comments = utils.add_rows(conn, 'comments', n_comment_attributes, comments_data)\n",
    "\n",
    "                    # Update counter and tqdm\n",
    "                    comment_count += n_comments\n",
    "                    pbar.update(n_comments)               \n",
    "                    \n",
    "                    param_dict['before'] = comments_data[-1][-1]\n",
    "                    \n",
    "                    try:\n",
    "                        data = utils.get_pushshift_data(param_dict, 'https://api.pushshift.io/reddit/search/comment/?')\n",
    "                    except:\n",
    "                        time.sleep(60)\n",
    "                        data = utils.get_pushshift_data(param_dict, 'https://api.pushshift.io/reddit/search/comment/?')\n",
    "\n",
    "            except:\n",
    "                \n",
    "                # Sometimes my internet cuts off for a few minutes, or some other error happens.\n",
    "                # This try/except statement allows for the loop to continue.\n",
    "                print(f\"Something went wrong at {datetime.now()} with submission {submission_id}\")\n",
    "                submission_errors.add(submission_id)\n",
    "                continue\n",
    "            \n",
    "            \n",
    "        else:\n",
    "            print(f\"Reached comment limit at {datetime.now()} with submission {submission_id}\")\n",
    "            print(f\"Collected {comment_count} comments\")\n",
    "            break\n",
    "        \n",
    "print(f\"Finished at {datetime.now()}\")\n",
    "\n",
    "with open('raised_errors_pushshift.txt','a') as f:\n",
    "    for i in submission_errors:\n",
    "        f.write(i)\n",
    "        f.write('\\n')"
   ]
  },
  {
   "cell_type": "code",
   "execution_count": 48,
   "id": "serious-announcement",
   "metadata": {
    "scrolled": true
   },
   "outputs": [
    {
     "data": {
      "text/plain": [
       "(95940,)"
      ]
     },
     "execution_count": 48,
     "metadata": {},
     "output_type": "execute_result"
    }
   ],
   "source": [
    "utils.interact_with_db(conn, \"SELECT COUNT(*) FROM comments WHERE submission_id = '7jwxnd'\", \"cur.fetchone()\")"
   ]
  },
  {
   "cell_type": "code",
   "execution_count": 26,
   "id": "starting-transition",
   "metadata": {},
   "outputs": [],
   "source": [
    "# utils.interact_with_db(conn, \"DROP TABLE comments\")"
   ]
  },
  {
   "cell_type": "code",
   "execution_count": null,
   "id": "removable-nickname",
   "metadata": {},
   "outputs": [],
   "source": [
    "conn.close()"
   ]
  }
 ],
 "metadata": {
  "kernelspec": {
   "display_name": "Python 3",
   "language": "python",
   "name": "python3"
  },
  "language_info": {
   "codemirror_mode": {
    "name": "ipython",
    "version": 3
   },
   "file_extension": ".py",
   "mimetype": "text/x-python",
   "name": "python",
   "nbconvert_exporter": "python",
   "pygments_lexer": "ipython3",
   "version": "3.9.1"
  }
 },
 "nbformat": 4,
 "nbformat_minor": 5
}
