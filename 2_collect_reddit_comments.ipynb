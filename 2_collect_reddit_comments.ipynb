{
 "cells": [
  {
   "cell_type": "markdown",
   "id": "controversial-victorian",
   "metadata": {},
   "source": [
    "# Collecting Reddit comments\n",
    "\n",
    "## Libraries"
   ]
  },
  {
   "cell_type": "code",
   "execution_count": 1,
   "id": "welcome-sight",
   "metadata": {},
   "outputs": [],
   "source": [
    "from tqdm import tqdm\n",
    "from datetime import datetime\n",
    "import sqlite3\n",
    "import time\n",
    "\n",
    "import utils"
   ]
  },
  {
   "cell_type": "markdown",
   "id": "dense-referral",
   "metadata": {},
   "source": [
    "## Setup"
   ]
  },
  {
   "cell_type": "code",
   "execution_count": 2,
   "id": "complicated-billy",
   "metadata": {},
   "outputs": [],
   "source": [
    "# Define search parameters\n",
    "param_dict = {'size':1000,\n",
    "             }\n",
    "\n",
    "comment_keys = ('id', 'link_id', 'body', 'author', 'score', \"created_utc\")\n",
    "\n",
    "# Define comment_limit, the number of comments to be obtained\n",
    "comment_limit = 10000\n",
    "\n",
    "# Define location and name of SQL database, create a connection object\n",
    "sql_db = './data/film_discussions'\n",
    "conn = sqlite3.connect(sql_db)"
   ]
  },
  {
   "cell_type": "markdown",
   "id": "shared-dance",
   "metadata": {},
   "source": [
    "## Create SQL database"
   ]
  },
  {
   "cell_type": "code",
   "execution_count": 3,
   "id": "electric-empty",
   "metadata": {},
   "outputs": [],
   "source": [
    "sql_create_comments_table = \"\"\"CREATE TABLE IF NOT EXISTS comments (\n",
    "                                comment_id text PRIMARY KEY,\n",
    "                                submission_id text,\n",
    "                                body text,\n",
    "                                author text,\n",
    "                                score integer,\n",
    "                                created integer,\n",
    "                                FOREIGN KEY (submission_id) REFERENCES submissions (submission_id)\n",
    "                            );\"\"\"\n",
    "\n",
    "with conn:\n",
    "    utils.interact_with_db(conn, sql_create_comments_table)"
   ]
  },
  {
   "cell_type": "markdown",
   "id": "institutional-violence",
   "metadata": {},
   "source": [
    "## Determine for which submissions I still need to collect comments"
   ]
  },
  {
   "cell_type": "code",
   "execution_count": 4,
   "id": "cognitive-river",
   "metadata": {},
   "outputs": [
    {
     "name": "stdout",
     "output_type": "stream",
     "text": [
      "There are 1003 submissions for which no comments have been gathered\n"
     ]
    }
   ],
   "source": [
    "# List submission IDs\n",
    "# Because I didn't download all the comments in one go, the difference_update allows me to continue where I left off.  \n",
    "\n",
    "with conn:\n",
    "    submission_ids = utils.get_submission_ids(conn, 'submissions')\n",
    "    sub_ids_comments = utils.get_submission_ids(conn, 'comments')\n",
    "\n",
    "# Update difference   \n",
    "submission_ids.difference_update(sub_ids_comments)\n",
    "print(f\"There are {len(submission_ids)} submissions for which no comments have been gathered\")"
   ]
  },
  {
   "cell_type": "markdown",
   "id": "regulated-diagnosis",
   "metadata": {},
   "source": [
    "## Collect comments"
   ]
  },
  {
   "cell_type": "code",
   "execution_count": 6,
   "id": "comprehensive-motel",
   "metadata": {},
   "outputs": [
    {
     "name": "stderr",
     "output_type": "stream",
     "text": [
      "\r",
      "  0%|                                                                                        | 0/10000 [00:00<?, ?it/s]"
     ]
    },
    {
     "name": "stdout",
     "output_type": "stream",
     "text": [
      "Starting at 2022-02-10 22:00:14.891162\n"
     ]
    },
    {
     "name": "stderr",
     "output_type": "stream",
     "text": [
      "\r",
      "  0%|                                                                                        | 0/10000 [00:04<?, ?it/s]"
     ]
    },
    {
     "name": "stdout",
     "output_type": "stream",
     "text": [
      "Finished at 2022-02-10 22:00:19.616717\n"
     ]
    },
    {
     "name": "stderr",
     "output_type": "stream",
     "text": [
      "\n"
     ]
    }
   ],
   "source": [
    "print(f\"Starting at {datetime.now()}\")\n",
    "comment_count = 0\n",
    "n_comment_attributes = len(comment_keys)\n",
    "submission_errors = set()\n",
    "\n",
    "with tqdm(total=comment_limit) as pbar:\n",
    "    for submission_id in submission_ids:\n",
    "        \n",
    "        if comment_count < comment_limit:\n",
    "            try:\n",
    "                param_dict['link_id'] = submission_id\n",
    "                param_dict['before'] = int(time.time())\n",
    "                data = utils.get_pushshift_data(param_dict, 'https://api.pushshift.io/reddit/search/comment/?')\n",
    "                                \n",
    "                while len(data) > 0: \n",
    "\n",
    "                    # Collect comments\n",
    "                    comments_data = [utils.collect_submission_data(comment, keys=comment_keys) for comment in data]\n",
    "                    \n",
    "                    print(\"1\")\n",
    "                    \n",
    "                    for comment in comments_data:\n",
    "                        comment[1] = comment[1][3:]\n",
    "                        \n",
    "                    print(\"2\")\n",
    "\n",
    "                    # Save the comments to the database\n",
    "                    with conn:\n",
    "                        n_comments = utils.add_rows(conn, 'comments', n_comment_attributes, comments_data)\n",
    "\n",
    "                    # Update counter and tqdm\n",
    "                    comment_count += n_comments\n",
    "                    pbar.update(n_comments)\n",
    "                    \n",
    "                    \n",
    "                    param_dict['before'] = data[-1]['created_utc']\n",
    "                    data = utils.get_pushshift_data(param_dict, 'https://api.pushshift.io/reddit/search/comment/?')\n",
    "\n",
    "            except:\n",
    "                # Sometimes my internet cuts off for a few minutes, or some other error happens.\n",
    "                # This try/except statement allows for the loop to continue.\n",
    "                print(f\"Something went wrong at {datetime.now()} with submission {submission_id}\")\n",
    "                submission_errors.add(submission_id)\n",
    "                continue\n",
    "            \n",
    "            \n",
    "        else:\n",
    "            print(f\"Reached comment limit at {datetime.now()} with submission {submission_id}\")\n",
    "            print(f\"Collected {comment_count} comments\")\n",
    "            break\n",
    "        \n",
    "print(f\"Finished at {datetime.now()}\")\n",
    "\n",
    "with open('raised_errors.txt','a') as f:\n",
    "    for i in submission_errors:\n",
    "        f.write(i)\n",
    "        f.write('\\n')"
   ]
  },
  {
   "cell_type": "code",
   "execution_count": 6,
   "id": "serious-announcement",
   "metadata": {
    "scrolled": true
   },
   "outputs": [
    {
     "data": {
      "text/plain": [
       "[('e0xm987',\n",
       "  '7llz2i',\n",
       "  \"I think she always had gills. She's mute, she was found near water, she's dreaming about being underwater, she likes eggs(high protein diet), she's instantly attracted to the asset, she kinda controls water. Yeah.\",\n",
       "  'DanteR12',\n",
       "  1,\n",
       "  1529422643),\n",
       " ('e0ueq8b',\n",
       "  '7llz2i',\n",
       "  'https://youtu.be/nnZf05RSOww',\n",
       "  'KnellerGreg',\n",
       "  1,\n",
       "  1529279533),\n",
       " ('e0r6q9y',\n",
       "  '7llz2i',\n",
       "  \"ADDITIONALLY-- thank you so much for caring enough to ask, in a genuinely curious and respectful way. I'm curious to hear your thoughts!\",\n",
       "  'e-lutris',\n",
       "  1,\n",
       "  1529119335),\n",
       " ('e0r6ohz',\n",
       "  '7llz2i',\n",
       "  'I would suggest you watch the scene again if you are so inclined.  The movie hinted in an *earlier* scene that his fingers were already beginning to rot, when he was in the car and sniffed his fingers that were turning black. Not bleeding (color=red), but black (rotting), and he winces at the smell of his hand. Smell=infected/rotting. \\n\\nYes, it was the wife who instigated (consent ✓), but the whole point of consent is that consent is maintained throughout the interaction.  So, in bed, his rotting (ROTTING. GROSS) hand is near her face, and she says \"your hand! It\\'s --\" before he muffles her with his dead rotting hand.\\n\\nQuickly breaking that sentence down: \"your hand! It\\'s--\" is clearly a PROTEST, meaning consent is broken.  Without anything layered over it, if he keeps having sex with her while she\\'s trying to talk to him about his hand is already problematic at best.  But the writer doesn\\'t stop there.  \\n\\nContinuing breakdown: Once he hears her protesting, what does he decide to do?  He takes the rotten hand she\\'s already freaked out about and USES IT to figuratively kill two birds with one stone: 1) freak her out even more (power move) by putting rotting flesh ON HER MOUTH, and, in the process, 2) muffles her objection so he doesn\\'t have to hear it.\\n\\nGross and creepy. \\n\\nUnnecessary to the plot.  \\n\\nHis character was already terrible, they could have cut the whole scene and the story would have remained intact. ',\n",
       "  'e-lutris',\n",
       "  1,\n",
       "  1529119273),\n",
       " ('e0enlht',\n",
       "  '7llz2i',\n",
       "  'I am watching Shape of Water.  It says some stuff in Russian.  How can I find out what they are saying?',\n",
       "  'figshooting',\n",
       "  1,\n",
       "  1528587739),\n",
       " ('dzzrzez',\n",
       "  '7llz2i',\n",
       "  'Thank you! I was thinking they changed it from the theatre to DVD. ',\n",
       "  'ItsDanimal',\n",
       "  1,\n",
       "  1527948544),\n",
       " ('dzzibh2',\n",
       "  '7llz2i',\n",
       "  \"What made you think it was rape? The wife was obviously into it when she suggestively told him to come upstairs and put his hand on her chest. In another comment you said she was about to object when she smelt his rotting fingers, but I don't remember that. They were already well into it when she pointed out that his reattached fingers were bleeding, and he shushed her. They didn't start rotting until later in the movie.\",\n",
       "  'infelicitas',\n",
       "  1,\n",
       "  1527929902),\n",
       " ('dzzi2tg',\n",
       "  '7llz2i',\n",
       "  \"Delilah is her middle name. There's a scene early on where Strickland asks her what the D in Zelda D. Fuller stands for.\",\n",
       "  'infelicitas',\n",
       "  1,\n",
       "  1527929293),\n",
       " ('dzvlpr2',\n",
       "  '7llz2i',\n",
       "  \"Also, her friends did commit treason, connect with the murder of a military person, stole from the government, all during McCarthyism. I can't imagine them not going to jail.\",\n",
       "  'ItsDanimal',\n",
       "  1,\n",
       "  1527771563),\n",
       " ('dzvli1k',\n",
       "  '7llz2i',\n",
       "  'Was her name really Zelda? I just watched it on DVD and her name was Delilah, which is why the guy kept bringing up Samson. Did they change it or something?',\n",
       "  'ItsDanimal',\n",
       "  1,\n",
       "  1527771303)]"
      ]
     },
     "execution_count": 6,
     "metadata": {},
     "output_type": "execute_result"
    }
   ],
   "source": [
    "utils.interact_with_db(conn, \"SELECT * FROM comments LIMIT 10\", \"cur.fetchall()\")"
   ]
  },
  {
   "cell_type": "code",
   "execution_count": 26,
   "id": "starting-transition",
   "metadata": {},
   "outputs": [],
   "source": [
    "# utils.interact_with_db(conn, \"DROP TABLE comments\")"
   ]
  },
  {
   "cell_type": "code",
   "execution_count": null,
   "id": "removable-nickname",
   "metadata": {},
   "outputs": [],
   "source": [
    "conn.close()"
   ]
  }
 ],
 "metadata": {
  "kernelspec": {
   "display_name": "Python 3",
   "language": "python",
   "name": "python3"
  },
  "language_info": {
   "codemirror_mode": {
    "name": "ipython",
    "version": 3
   },
   "file_extension": ".py",
   "mimetype": "text/x-python",
   "name": "python",
   "nbconvert_exporter": "python",
   "pygments_lexer": "ipython3",
   "version": "3.9.1"
  }
 },
 "nbformat": 4,
 "nbformat_minor": 5
}
