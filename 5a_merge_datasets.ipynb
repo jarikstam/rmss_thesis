{
 "cells": [
  {
   "cell_type": "code",
   "execution_count": 1,
   "id": "productive-stamp",
   "metadata": {},
   "outputs": [],
   "source": [
    "import pandas as pd"
   ]
  },
  {
   "cell_type": "code",
   "execution_count": 2,
   "id": "professional-borough",
   "metadata": {},
   "outputs": [],
   "source": [
    "# Import\n",
    "comments_file = 'data/comments.csv'\n",
    "tokenized_comments_text_file = './data/tokenized_comments.txt'\n",
    "count_file = 'data/keywords_daily_count.csv'\n",
    "submissions_tmdb_file = './data/submissions_tmdb.csv'\n",
    "politics_comments_file = 'data/politics_comments.csv'\n",
    "\n",
    "# Export\n",
    "analysis_dataset = 'data/comments_analysis_v3.csv' # dataset which combines select twitter data, tmdb data"
   ]
  },
  {
   "cell_type": "code",
   "execution_count": 3,
   "id": "faced-formation",
   "metadata": {},
   "outputs": [],
   "source": [
    "comments = pd.read_csv(comments_file, sep=';')"
   ]
  },
  {
   "cell_type": "code",
   "execution_count": 4,
   "id": "minus-accused",
   "metadata": {},
   "outputs": [],
   "source": [
    "comments.drop(columns='body', inplace=True)"
   ]
  },
  {
   "cell_type": "code",
   "execution_count": 5,
   "id": "unavailable-father",
   "metadata": {},
   "outputs": [],
   "source": [
    "with open(tokenized_comments_text_file, 'r') as f:\n",
    "    comments['tokenized_body'] = f.read().splitlines()"
   ]
  },
  {
   "cell_type": "code",
   "execution_count": 6,
   "id": "fancy-laundry",
   "metadata": {},
   "outputs": [],
   "source": [
    "comments['Date'] = pd.to_datetime(comments['created'], unit='s').dt.date"
   ]
  },
  {
   "cell_type": "code",
   "execution_count": 7,
   "id": "reduced-flashing",
   "metadata": {},
   "outputs": [],
   "source": [
    "twitter = pd.read_csv(count_file)\n",
    "twitter = twitter.convert_dtypes()"
   ]
  },
  {
   "cell_type": "code",
   "execution_count": 8,
   "id": "identical-transfer",
   "metadata": {},
   "outputs": [],
   "source": [
    "twitter['Date'] = pd.to_datetime(twitter['Date']).dt.date"
   ]
  },
  {
   "cell_type": "code",
   "execution_count": 9,
   "id": "sonic-minnesota",
   "metadata": {},
   "outputs": [],
   "source": [
    "comments = pd.merge(comments, twitter, on=\"Date\", how=\"left\")"
   ]
  },
  {
   "cell_type": "code",
   "execution_count": 10,
   "id": "large-tissue",
   "metadata": {},
   "outputs": [],
   "source": [
    "tmdb = pd.read_csv(submissions_tmdb_file, sep=\";\")"
   ]
  },
  {
   "cell_type": "code",
   "execution_count": 11,
   "id": "biblical-qualification",
   "metadata": {},
   "outputs": [],
   "source": [
    "tmdb_min = tmdb[['submission_id','film_title','sexism_keywords','racism_keywords']]"
   ]
  },
  {
   "cell_type": "code",
   "execution_count": 12,
   "id": "explicit-central",
   "metadata": {},
   "outputs": [],
   "source": [
    "comments = pd.merge(comments, tmdb_min, on=\"submission_id\", how=\"left\")"
   ]
  },
  {
   "cell_type": "code",
   "execution_count": 13,
   "id": "polar-glucose",
   "metadata": {},
   "outputs": [],
   "source": [
    "pols = pd.read_csv(politics_comments_file)"
   ]
  },
  {
   "cell_type": "code",
   "execution_count": 14,
   "id": "mineral-client",
   "metadata": {},
   "outputs": [],
   "source": [
    "pols = pols.convert_dtypes()\n",
    "comments = comments.convert_dtypes()"
   ]
  },
  {
   "cell_type": "code",
   "execution_count": 15,
   "id": "referenced-personality",
   "metadata": {},
   "outputs": [],
   "source": [
    "comments = comments.merge(pols, how=\"left\", on=\"author\")"
   ]
  },
  {
   "cell_type": "code",
   "execution_count": 16,
   "id": "distinct-attack",
   "metadata": {},
   "outputs": [
    {
     "data": {
      "text/html": [
       "<div>\n",
       "<style scoped>\n",
       "    .dataframe tbody tr th:only-of-type {\n",
       "        vertical-align: middle;\n",
       "    }\n",
       "\n",
       "    .dataframe tbody tr th {\n",
       "        vertical-align: top;\n",
       "    }\n",
       "\n",
       "    .dataframe thead th {\n",
       "        text-align: right;\n",
       "    }\n",
       "</style>\n",
       "<table border=\"1\" class=\"dataframe\">\n",
       "  <thead>\n",
       "    <tr style=\"text-align: right;\">\n",
       "      <th></th>\n",
       "      <th>comment_id</th>\n",
       "      <th>submission_id</th>\n",
       "      <th>author</th>\n",
       "      <th>score</th>\n",
       "      <th>created</th>\n",
       "      <th>tokenized_body</th>\n",
       "      <th>Date</th>\n",
       "      <th>MeToo</th>\n",
       "      <th>BLM</th>\n",
       "      <th>OscarsSoWhite</th>\n",
       "      <th>film_title</th>\n",
       "      <th>sexism_keywords</th>\n",
       "      <th>racism_keywords</th>\n",
       "      <th>politics_comments</th>\n",
       "    </tr>\n",
       "  </thead>\n",
       "  <tbody>\n",
       "    <tr>\n",
       "      <th>0</th>\n",
       "      <td>e0r6q9y</td>\n",
       "      <td>7llz2i</td>\n",
       "      <td>e-lutris</td>\n",
       "      <td>1</td>\n",
       "      <td>1529119335</td>\n",
       "      <td>additionally thank_you so much for caring enou...</td>\n",
       "      <td>2018-06-16</td>\n",
       "      <td>12658</td>\n",
       "      <td>3105</td>\n",
       "      <td>9</td>\n",
       "      <td>The Shape of Water</td>\n",
       "      <td>0</td>\n",
       "      <td>0</td>\n",
       "      <td>0</td>\n",
       "    </tr>\n",
       "    <tr>\n",
       "      <th>1</th>\n",
       "      <td>e0enlht</td>\n",
       "      <td>7llz2i</td>\n",
       "      <td>figshooting</td>\n",
       "      <td>1</td>\n",
       "      <td>1528587739</td>\n",
       "      <td>i am watching shape of water it says some stuf...</td>\n",
       "      <td>2018-06-09</td>\n",
       "      <td>15020</td>\n",
       "      <td>4041</td>\n",
       "      <td>8</td>\n",
       "      <td>The Shape of Water</td>\n",
       "      <td>0</td>\n",
       "      <td>0</td>\n",
       "      <td>0</td>\n",
       "    </tr>\n",
       "    <tr>\n",
       "      <th>2</th>\n",
       "      <td>dz9lw9e</td>\n",
       "      <td>7llz2i</td>\n",
       "      <td>Harry101UK</td>\n",
       "      <td>1</td>\n",
       "      <td>1526784495</td>\n",
       "      <td>extremely underwhelmed by the film it just fel...</td>\n",
       "      <td>2018-05-20</td>\n",
       "      <td>14388</td>\n",
       "      <td>2345</td>\n",
       "      <td>8</td>\n",
       "      <td>The Shape of Water</td>\n",
       "      <td>0</td>\n",
       "      <td>0</td>\n",
       "      <td>0</td>\n",
       "    </tr>\n",
       "    <tr>\n",
       "      <th>3</th>\n",
       "      <td>dz9llo2</td>\n",
       "      <td>7llz2i</td>\n",
       "      <td>Harry101UK</td>\n",
       "      <td>1</td>\n",
       "      <td>1526784107</td>\n",
       "      <td>we need a quirky 'mute girl we need a gay guy ...</td>\n",
       "      <td>2018-05-20</td>\n",
       "      <td>14388</td>\n",
       "      <td>2345</td>\n",
       "      <td>8</td>\n",
       "      <td>The Shape of Water</td>\n",
       "      <td>0</td>\n",
       "      <td>0</td>\n",
       "      <td>0</td>\n",
       "    </tr>\n",
       "    <tr>\n",
       "      <th>4</th>\n",
       "      <td>dwov5pc</td>\n",
       "      <td>7llz2i</td>\n",
       "      <td>porkpie1028</td>\n",
       "      <td>1</td>\n",
       "      <td>1522697652</td>\n",
       "      <td>but she was n't either she was part fish and h...</td>\n",
       "      <td>2018-04-02</td>\n",
       "      <td>17418</td>\n",
       "      <td>4889</td>\n",
       "      <td>19</td>\n",
       "      <td>The Shape of Water</td>\n",
       "      <td>0</td>\n",
       "      <td>0</td>\n",
       "      <td>75</td>\n",
       "    </tr>\n",
       "  </tbody>\n",
       "</table>\n",
       "</div>"
      ],
      "text/plain": [
       "  comment_id submission_id       author  score     created  \\\n",
       "0    e0r6q9y        7llz2i     e-lutris      1  1529119335   \n",
       "1    e0enlht        7llz2i  figshooting      1  1528587739   \n",
       "2    dz9lw9e        7llz2i   Harry101UK      1  1526784495   \n",
       "3    dz9llo2        7llz2i   Harry101UK      1  1526784107   \n",
       "4    dwov5pc        7llz2i  porkpie1028      1  1522697652   \n",
       "\n",
       "                                      tokenized_body        Date  MeToo   BLM  \\\n",
       "0  additionally thank_you so much for caring enou...  2018-06-16  12658  3105   \n",
       "1  i am watching shape of water it says some stuf...  2018-06-09  15020  4041   \n",
       "2  extremely underwhelmed by the film it just fel...  2018-05-20  14388  2345   \n",
       "3  we need a quirky 'mute girl we need a gay guy ...  2018-05-20  14388  2345   \n",
       "4  but she was n't either she was part fish and h...  2018-04-02  17418  4889   \n",
       "\n",
       "   OscarsSoWhite          film_title  sexism_keywords  racism_keywords  \\\n",
       "0              9  The Shape of Water                0                0   \n",
       "1              8  The Shape of Water                0                0   \n",
       "2              8  The Shape of Water                0                0   \n",
       "3              8  The Shape of Water                0                0   \n",
       "4             19  The Shape of Water                0                0   \n",
       "\n",
       "   politics_comments  \n",
       "0                  0  \n",
       "1                  0  \n",
       "2                  0  \n",
       "3                  0  \n",
       "4                 75  "
      ]
     },
     "execution_count": 16,
     "metadata": {},
     "output_type": "execute_result"
    }
   ],
   "source": [
    "comments.head()"
   ]
  },
  {
   "cell_type": "code",
   "execution_count": 17,
   "id": "accessible-rugby",
   "metadata": {},
   "outputs": [],
   "source": [
    "comments.to_csv(analysis_dataset, index=False)"
   ]
  }
 ],
 "metadata": {
  "kernelspec": {
   "display_name": "Python 3",
   "language": "python",
   "name": "python3"
  },
  "language_info": {
   "codemirror_mode": {
    "name": "ipython",
    "version": 3
   },
   "file_extension": ".py",
   "mimetype": "text/x-python",
   "name": "python",
   "nbconvert_exporter": "python",
   "pygments_lexer": "ipython3",
   "version": "3.9.1"
  }
 },
 "nbformat": 4,
 "nbformat_minor": 5
}
